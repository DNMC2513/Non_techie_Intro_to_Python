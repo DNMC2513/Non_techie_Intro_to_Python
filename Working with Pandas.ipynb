{
 "cells": [
  {
   "cell_type": "markdown",
   "id": "2ddaee39-4a81-4446-888b-599f61b61dcd",
   "metadata": {},
   "source": [
    "# Working with Pandas\n",
    "---- \n",
    "## OUTLINE:\n",
    "- What is pandas?\n",
    "- Create a pandas dataframe:\n",
    "    - From a numpy array\n",
    "    - From a dictionary\n",
    "- Load data from file_paht or link: \n",
    "- Extract data from a df:\n",
    "    - Extract columns\n",
    "    - Extract specified rows and columns, using:\n",
    "        - df.loc[]\n",
    "        - df.iloc[]\n",
    "- Modify a dataframe:\n",
    "    - Rename the header\n",
    "    - Drop the columns or rows\n",
    "    - Rename the columns\n",
    "- Get the information of a data:\n",
    "    - Data types within df\n"
   ]
  },
  {
   "cell_type": "markdown",
   "id": "6ad59265-31b0-4019-a8e5-cefbad485581",
   "metadata": {},
   "source": [
    "## 1. What is pandas?"
   ]
  },
  {
   "cell_type": "markdown",
   "id": "d657e439-770f-4548-976b-1e453558bdfb",
   "metadata": {},
   "source": [
    "- pandas is one of the most used Python packages to store and represent data.\n",
    "- A dataframe takes the form of a table with indexed rows. A column of any particular dataframe can either take the form of a dataframe or a pandas series.\n",
    "- For more information upon pandas, access this [link](https://pandas.pydata.org/pandas-docs/stable/index.html)"
   ]
  },
  {
   "cell_type": "code",
   "execution_count": null,
   "id": "208b54b3-2c62-4eec-9cd6-98eefea6285c",
   "metadata": {},
   "outputs": [],
   "source": [
    "import pandas as pd"
   ]
  },
  {
   "cell_type": "markdown",
   "id": "4816663a-bd97-4cb7-8bdb-2810df2bbc8e",
   "metadata": {},
   "source": [
    "## 2. Create a pandas dataframe"
   ]
  },
  {
   "cell_type": "code",
   "execution_count": null,
   "id": "f456c786-e59d-45c6-a272-902668d1716b",
   "metadata": {},
   "outputs": [],
   "source": [
    "import numpy as np"
   ]
  },
  {
   "cell_type": "markdown",
   "id": "d55dedd3-3886-45d2-b543-d78c815b5472",
   "metadata": {},
   "source": [
    "### a. From a numpy array:"
   ]
  },
  {
   "cell_type": "code",
   "execution_count": null,
   "id": "6570ed6b-a5d7-4ecd-879a-71881fd4f810",
   "metadata": {},
   "outputs": [],
   "source": [
    "# Create a numpy array:\n",
    "a = np.array([\n",
    "    ['Student1',8,3,6,2], #row1\n",
    "    ['Student2',3,5,2,2], #row2\n",
    "    ['Student3',7,8,2,8] #row3\n",
    "])\n",
    "\n",
    "#create a dataframe from the newly created array:\n",
    "df = pd.DataFrame(a, #np_array\n",
    "             columns = ['Name', 'Literature', 'Geography', 'Physics', 'Music'] #name of the column\n",
    "            )    \n",
    "\n",
    "print(type(df))\n",
    "df"
   ]
  },
  {
   "cell_type": "markdown",
   "id": "5d363f5d-895a-46cf-987b-7e01fab34b41",
   "metadata": {},
   "source": [
    "- From an 1dNumpy array, we can create a pandas series."
   ]
  },
  {
   "cell_type": "code",
   "execution_count": null,
   "id": "6ac4b86d-0662-4b30-9964-5c5fa3dd4963",
   "metadata": {},
   "outputs": [],
   "source": [
    "# pd Series:\n",
    "series = pd.Series(\n",
    "    np.array([1,35,2,33,2])\n",
    "            )\n",
    "print(type(series))\n",
    "series"
   ]
  },
  {
   "cell_type": "markdown",
   "id": "47d6ec6d-d421-4b33-bce6-326ef51500c2",
   "metadata": {},
   "source": [
    "### b.From a dictionary:"
   ]
  },
  {
   "cell_type": "code",
   "execution_count": null,
   "id": "88da25ba-14c4-40c4-82b5-ea56f57d8ab6",
   "metadata": {},
   "outputs": [],
   "source": [
    "#create a dictionary:\n",
    "dict1 = {\n",
    "    'Product': #the name of the 1st column\n",
    "    ['Soap', 'Sanitizer', 'Tissues'], #The values of the 1st column\n",
    "    'Qty': #the name of the 2nd column\n",
    "    [12,53,23], #the values of the 2nd column\n",
    "}\n",
    "\n",
    "#create the table:\n",
    "df2 = pd.DataFrame(dict1)\n",
    "df2"
   ]
  },
  {
   "cell_type": "markdown",
   "id": "ddae2963-f91f-429f-bdb3-252bbace7593",
   "metadata": {},
   "source": [
    "## 3. Load data from file_path or link:"
   ]
  },
  {
   "cell_type": "markdown",
   "id": "521ec25a-1655-4d33-8c9d-dc8412f3dcfb",
   "metadata": {},
   "source": [
    "- Click this [link](https://pandas.pydata.org/docs/reference/io.html) for more details\n",
    "- The value passed into the parentheses is either:\n",
    "    - Link of the data\n",
    "    - directory of the file in the operating system\n",
    "<table style='text-align:left;'>\n",
    "    <tr>\n",
    "        <th>File format</th>\n",
    "        <th>Functions</th>\n",
    "    </tr>\n",
    "    <tr>\n",
    "        <th>csv</th>\n",
    "        <th>pd.read_csv()</th>\n",
    "    </tr>\n",
    "    <tr>\n",
    "        <th>json</th>\n",
    "        <th>pd.read_json()</th>\n",
    "    </tr>\n",
    "    <tr>\n",
    "        <th>xml</th>\n",
    "        <th>pd.read_xml()</th>\n",
    "    </tr>\n",
    "    <tr>\n",
    "        <th>Ms Excel</th>\n",
    "        <th>pd.read_excel()</th>\n",
    "    </tr>\n",
    "    <tr>\n",
    "        <th>sql</th>\n",
    "        <th>pd.read_sql()</th>\n",
    "    </tr>\n",
    "    \n",
    "\n",
    "</table>"
   ]
  },
  {
   "cell_type": "markdown",
   "id": "ecd6446f-ca58-4c27-a070-9bb2d11dde6a",
   "metadata": {},
   "source": [
    "- In this instance, we will work with the Rail transport safety data set published by the EC. Click this [link](https://ec.europa.eu/eurostat/databrowser/view/TRAN_SF_RAILAC__custom_7201558/default/table?lang=en) to access more information about the dataset."
   ]
  },
  {
   "cell_type": "code",
   "execution_count": null,
   "id": "b7547a46-8913-45f6-b501-b847f24f1f3d",
   "metadata": {},
   "outputs": [],
   "source": [
    "file_link = 'https://ec.europa.eu/eurostat/api/dissemination/sdmx/2.1/data/TRAN_SF_RAILAC/A.NR.TOTAL.EU27_2020+BE+BG+CZ+DK+DE+EE+IE+EL+ES+FR+HR+IT+LV+LT+LU+HU+NL+AT+PL+PT+RO+SI+SK+FI+SE+CHUNNEL+NO+CH+UK+ME+MK+TR/?format=SDMX-CSV&returnData=ALL&startPeriod=2012&endPeriod=2021'\n",
    "dfec = pd.read_csv(file_link)\n",
    "dfec.head()\n",
    "                "
   ]
  },
  {
   "cell_type": "markdown",
   "id": "3d149f3d-860c-4525-884d-99499af716a0",
   "metadata": {},
   "source": [
    "## 4. Extract data from a dataframe"
   ]
  },
  {
   "cell_type": "markdown",
   "id": "385fc875-8d5b-4bdf-a182-584670436a4d",
   "metadata": {},
   "source": [
    "### a. Extract columns:"
   ]
  },
  {
   "cell_type": "markdown",
   "id": "745db4ed-17ac-4249-8d5f-f5432d39a8df",
   "metadata": {},
   "source": [
    "- Extract single column:\n",
    "    - `df[['col_name]]` to get a new data-frame\n",
    "    - `df['col_name']` to get a new series"
   ]
  },
  {
   "cell_type": "code",
   "execution_count": null,
   "id": "02089d70-8c0e-49d0-a41d-a0217c797a04",
   "metadata": {},
   "outputs": [],
   "source": [
    "#for instance:\n",
    "df"
   ]
  },
  {
   "cell_type": "code",
   "execution_count": null,
   "id": "692bb086-cea8-4330-94a1-6094360d0d6c",
   "metadata": {},
   "outputs": [],
   "source": [
    "#extract the Geography column as a series:\n",
    "series2 = df['Geography']\n",
    "series2"
   ]
  },
  {
   "cell_type": "code",
   "execution_count": null,
   "id": "aa92b18a-bb64-4ca6-8319-d2a788be8708",
   "metadata": {},
   "outputs": [],
   "source": [
    "#extract the Name column as a dataframe:\n",
    "df3 = df[['Name']]\n",
    "df3"
   ]
  },
  {
   "cell_type": "markdown",
   "id": "7b33d0b2-68f2-4a4a-a2fc-56cb56fc245a",
   "metadata": {},
   "source": [
    "- Extract multiple columns at the same time;\n",
    "```python\n",
    "df[['col1', 'col2', ...]]\n",
    "```"
   ]
  },
  {
   "cell_type": "code",
   "execution_count": null,
   "id": "d9ffd0b9-aa5f-400e-a002-045829f76524",
   "metadata": {},
   "outputs": [],
   "source": [
    "#extract the Name and the Literature columns into a new df:\n",
    "df4 = df[['Name', 'Literature']]\n",
    "df4"
   ]
  },
  {
   "cell_type": "markdown",
   "id": "5a107e08-36c2-4134-905c-797d2c90977b",
   "metadata": {},
   "source": [
    "### b. Extract values from specified rows and columns:\n",
    "- using `df.loc[]`\n",
    "- using `df.iloc[]`"
   ]
  },
  {
   "cell_type": "code",
   "execution_count": null,
   "id": "12907ed3-0f71-41a1-b45d-6b7fd0fc6d50",
   "metadata": {},
   "outputs": [],
   "source": [
    "df"
   ]
  },
  {
   "cell_type": "markdown",
   "id": "06a1b644-0949-4651-b990-d2630fe6c202",
   "metadata": {},
   "source": [
    "- Using `df.loc[]`, we pass the indexes of the selected rows and names of the selected columns into the parentheses:\n",
    "```python\n",
    "df.loc[Start_row_index : End_row_index, Start_col_name : End_call_name]\n",
    "\n",
    "#to extract values from specified columns and all rows:\n",
    "df.loc[ : , columns_range]\n",
    "\n",
    "#to extract values from specified rows and all columns:\n",
    "df.loc[row_range, : ]\n",
    "```"
   ]
  },
  {
   "cell_type": "code",
   "execution_count": null,
   "id": "93516e6d-8329-4ebc-9b6e-2aebf42fe2e0",
   "metadata": {},
   "outputs": [],
   "source": [
    "df"
   ]
  },
  {
   "cell_type": "code",
   "execution_count": null,
   "id": "037955a6-bcca-4d87-b5e7-ac80d17311ab",
   "metadata": {},
   "outputs": [],
   "source": [
    "#to exract the values from the Name column to the Geography column, on the 1st and 2nd row.\n",
    "df.loc[0:1,'Name':'Geography']"
   ]
  },
  {
   "cell_type": "code",
   "execution_count": null,
   "id": "60d0ad46-b372-448a-b8f2-bb537183b36b",
   "metadata": {},
   "outputs": [],
   "source": [
    "#Extract all scores of student 2 and 3:\n",
    "df.loc[1:2, :]"
   ]
  },
  {
   "cell_type": "markdown",
   "id": "f8db5d61-7ee7-499b-ac8c-0421c9483a88",
   "metadata": {},
   "source": [
    "- Using `df.iloc()`, we pass the index of the specified rows and columns into the parentheses:\n",
    "```python\n",
    "df.iloc( Start_row_index : End_row_index + 1, Start_column_index : End_column_index + 1)\n",
    "\n",
    "#to extract values from specified columns and all rows:\n",
    "df.iloc( : , columns_range)\n",
    "\n",
    "#to extract values from specified rows and all columns:\n",
    "df.iloc(row_range, : )\n",
    "```"
   ]
  },
  {
   "cell_type": "code",
   "execution_count": null,
   "id": "9d1894a7-08b8-4bf4-844a-d3b09ff76188",
   "metadata": {},
   "outputs": [],
   "source": [
    "#Extract all scores and the the name of student 2 and 3:\n",
    "df.iloc[1:3, :]"
   ]
  },
  {
   "cell_type": "code",
   "execution_count": null,
   "id": "a750c2d8-517f-4020-a605-a5df916155ee",
   "metadata": {},
   "outputs": [],
   "source": [
    "#Extract the name and the Literature and Geography scores of student 1 and 2:\n",
    "df.iloc[0:2, 0:3]"
   ]
  },
  {
   "cell_type": "markdown",
   "id": "b15a609f-512a-4a04-8f0f-3e2d45bccfa8",
   "metadata": {},
   "source": [
    "## 5. Modify a dataframe:"
   ]
  },
  {
   "cell_type": "markdown",
   "id": "25e53492-0b39-4292-a34b-4f28ef54f506",
   "metadata": {},
   "source": [
    "### a. Add the header to the df"
   ]
  },
  {
   "cell_type": "code",
   "execution_count": null,
   "id": "3aceb255-754a-448b-b9de-d059c7aacffa",
   "metadata": {},
   "outputs": [],
   "source": [
    "dfec.header = 'Rail transport safety'\n",
    "print('The header of the dataframe is',dfec.header)"
   ]
  },
  {
   "cell_type": "markdown",
   "id": "63d56658-9f81-444a-9588-e4212663397d",
   "metadata": {},
   "source": [
    "### b. Drop the columns or rows:\n",
    "- Access this [link](https://pandas.pydata.org/docs/reference/api/pandas.DataFrame.drop.html) for more details\n",
    "```python\n",
    "df.drop(labels, \n",
    "        axis = 1, #for columns and 0 for rows\n",
    "        columns = [], #list of col.s to drop\n",
    "        inplace = True #if false then it will return a copy\n",
    "       )\n",
    "```"
   ]
  },
  {
   "cell_type": "code",
   "execution_count": null,
   "id": "fc17e8d4-b7b8-4d25-b765-f55180aa4eb6",
   "metadata": {},
   "outputs": [],
   "source": [
    "dfec.drop(axis = 1, \n",
    "          columns = ['DATAFLOW', 'LAST UPDATE', 'accident'], #cols to drop\n",
    "          inplace = True)\n",
    "dfec"
   ]
  },
  {
   "cell_type": "markdown",
   "id": "d532a704-16f1-47fa-bf92-74088d3884cb",
   "metadata": {},
   "source": [
    "### c. Change the name of the column:\n",
    "```python\n",
    "df.columns = ['col1', 'col2',...]\n",
    "```"
   ]
  },
  {
   "cell_type": "code",
   "execution_count": null,
   "id": "f48f48b6-1f3b-4e14-8a1c-4a757d58005d",
   "metadata": {},
   "outputs": [],
   "source": [
    "dfec.columns = ['Freq_code', 'unit', 'Geo_code', 'Year', 'Value', 'Obs_flag']\n",
    "dfec"
   ]
  },
  {
   "cell_type": "markdown",
   "id": "585c5046-bdde-42d6-a8bf-89e435f8596c",
   "metadata": {},
   "source": [
    "## 6. Get the information of the df:"
   ]
  },
  {
   "cell_type": "code",
   "execution_count": null,
   "id": "83e6b466-e446-4ccb-836d-04b1105ccd97",
   "metadata": {},
   "outputs": [],
   "source": [
    "#get the dtypes of the internal data:\n",
    "dfec.dtypes"
   ]
  },
  {
   "cell_type": "code",
   "execution_count": null,
   "id": "b58b6b7c-97c8-4adf-88f9-f51d454c3fd5",
   "metadata": {},
   "outputs": [],
   "source": [
    "#or:\n",
    "dfec.info()"
   ]
  }
 ],
 "metadata": {
  "kernelspec": {
   "display_name": "Python 3 (ipykernel)",
   "language": "python",
   "name": "python3"
  },
  "language_info": {
   "codemirror_mode": {
    "name": "ipython",
    "version": 3
   },
   "file_extension": ".py",
   "mimetype": "text/x-python",
   "name": "python",
   "nbconvert_exporter": "python",
   "pygments_lexer": "ipython3",
   "version": "3.10.6"
  }
 },
 "nbformat": 4,
 "nbformat_minor": 5
}
