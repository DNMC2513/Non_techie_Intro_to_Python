{
 "cells": [
  {
   "cell_type": "markdown",
   "id": "13aa62a8-aebf-43c2-804d-1c60dd3fd56b",
   "metadata": {},
   "source": [
    "# Syntax"
   ]
  },
  {
   "cell_type": "markdown",
   "id": "7a56bd10-a069-41a4-9abd-3ea2a1b916b2",
   "metadata": {},
   "source": [
    "Syntax, put simply, is the rule to organize words and phrases of a language. Python, as a programming language, has its own syntax too. As we have honed our skills in basic elements of Python, it is due time for us to dig deeper into its fundamental as an underpinning for advanced knowledge that we are going to learn."
   ]
  },
  {
   "cell_type": "markdown",
   "id": "21dcb6d0-bfa7-4922-b6d8-270f226bc103",
   "metadata": {},
   "source": [
    "## `OUTLINE`:\n",
    "- I, Comment:\n",
    "- II, Keywords:\n",
    "- III, Indentation:\n",
    "- IV, Write neat code:"
   ]
  },
  {
   "cell_type": "markdown",
   "id": "fe0f9c2d-86a3-4a98-8e88-42e792d8b5e3",
   "metadata": {},
   "source": [
    "## I, Comment:"
   ]
  },
  {
   "cell_type": "markdown",
   "id": "51e06506-4270-4aa4-9826-2140a5f22476",
   "metadata": {},
   "source": [
    "- If you have worked on the .ipynb file `3a. Inputs in Python`, you must have encountered a statement like this:\n",
    "\n",
    "    - `DON'T` type your code on the same line with the `#Type here` comment. \n",
    "- And if you have worked on other .ipynb files, you will have noticed (even without my explicit instruction) that: It is impossible to begin your code on the same line with a bunch of characters preceded by the symbol `#` in Python.\n",
    "- The reason for it is that `#` is the symbol used to define a comment in Python, which works as an annotation of your code. Hence, every function or variable name preceded by a `#` will not be executed by Python.\n",
    "- You can code without any comments. However, a brief and informational comment will provide good settings and explanations of the code for others to work with your code or even you when needing to work with it again."
   ]
  },
  {
   "cell_type": "code",
   "execution_count": 13,
   "id": "810c1ac3-c69d-4d7e-9770-46c7863f18f4",
   "metadata": {},
   "outputs": [],
   "source": [
    "#This is a comment:\n",
    "#print('Hello world')\n",
    "#See? Nothing happens=)"
   ]
  },
  {
   "cell_type": "markdown",
   "id": "8cb5758f-4d64-43f8-a554-7ff2e59083ef",
   "metadata": {},
   "source": [
    "## II, Keywords:\n",
    "- What are keywords? They are words set to serve specific purposes and cannot be used for other purposes. In other words, it is impossible to use a keyword as an identifier/name of a variable, a class or a function.\n",
    "- For instance, the logical operators `and`, `or`, and `not` that we have been using are keywords.\n",
    "- For more details, you can access this [website](https://realpython.com/python-keywords/#iteration-keywords-for-while-break-continue-else)."
   ]
  },
  {
   "cell_type": "markdown",
   "id": "f60cd5fd-13ca-4bf8-902b-266c52a4ae20",
   "metadata": {},
   "source": [
    "## III, Indentation:\n",
    "### 1, What is it?\n",
    "- An `indent` is the blank space at the beginning of a code statement.\n",
    "- A standard indent in Python corresponds to `4 times pressing the space button`.\n",
    "- To create an indent, put the cursor at the beginning of a line on the screen, then press the tab button.\n",
    "- Most editors automatically add indents whenever it is needed."
   ]
  },
  {
   "cell_type": "markdown",
   "id": "22d3c625-8c96-4dc1-8d14-796d8bb0ce14",
   "metadata": {},
   "source": [
    "### 2, Why is it important?\n",
    "- We use indents to define code blocks, which we will encounter a lot in the upcoming topics.\n",
    "- A code block is a set of code statements of the same number of indents. A code block belongs to the latest code statement with fewer indents than it.\n",
    "-  For instance:"
   ]
  },
  {
   "cell_type": "code",
   "execution_count": 1,
   "id": "d0c1302c-29c2-4c72-a924-8abf76a0874c",
   "metadata": {},
   "outputs": [
    {
     "name": "stdout",
     "output_type": "stream",
     "text": [
      "The element that is smaller than 3 is: 1\n",
      "with the index: 2276806295792\n",
      "The element that is smaller than 3 is: 2\n",
      "with the index: 2276806295824\n",
      "The element that is smaller than 3 is: 3\n",
      "with the index: 2276806295856\n",
      "The element that is bigger than 3 is: 5\n",
      "with the index: 2276806295920\n",
      "The element that is bigger than 3 is: 56\n",
      "with the index: 2276806297552\n"
     ]
    }
   ],
   "source": [
    "list1 = [1,2,3,5,56]\n",
    "for x in list1:\n",
    "    if x > 3:\n",
    "        print('The element that is bigger than 3 is:', x)\n",
    "        print('with the index:', id(x))\n",
    "    else:\n",
    "        print('The element that is smaller than 3 is:', x)\n",
    "        print('with the index:', id(x))"
   ]
  },
  {
   "cell_type": "markdown",
   "id": "b60f6c82-2b92-48f9-80eb-2585aff5bdce",
   "metadata": {},
   "source": [
    "> These 2 code statements form a code block since they have the same number of indents:\n",
    "```python\n",
    "    print('The element that is bigger than 3 is:', x)\n",
    "    print('with the index:', id(x))\n",
    "    \n",
    "```\n"
   ]
  },
  {
   "cell_type": "markdown",
   "id": "88284729-d4c1-45d8-a873-44963f46e049",
   "metadata": {},
   "source": [
    ">The code block belongs to the code latest code statement preceding and has fewer indents than it.\n",
    "```python\n",
    "    if x > 3:\n",
    "        print('The element that is bigger than 3 is:', x)\n",
    "        print('with the index:', id(x))\n",
    "        \n",
    "```        \n"
   ]
  },
  {
   "cell_type": "markdown",
   "id": "fcaad2bc-77ff-49fc-9181-6a52790390e5",
   "metadata": {},
   "source": [
    ">These 2 code blocks both belong to the statement `for x in list1:`\n",
    "```python\n",
    " if x > 3:\n",
    "        print('The element that is bigger than 3 is:', x)\n",
    "        print('with the index:', id(x))\n",
    "    else:\n",
    "        print('The element that is smaller than 3 is:', x)\n",
    "        print('with the index:', id(x))\n",
    "```        "
   ]
  },
  {
   "cell_type": "markdown",
   "id": "ec5b0ea7-3ff3-4459-bbf0-6c0f2afc1a35",
   "metadata": {},
   "source": [
    "In the same logic, a code block can't belong to more than 1 code statement of the same number of indents.\n"
   ]
  },
  {
   "cell_type": "markdown",
   "id": "5c58740e-5c63-45d9-ac7d-23821044a638",
   "metadata": {},
   "source": [
    "## IV, How to write neat code?"
   ]
  },
  {
   "cell_type": "markdown",
   "id": "13dfa2ef-dabb-4e94-9b42-9bb7527798aa",
   "metadata": {},
   "source": [
    "In the coding process, we will need to reread, reconstruct our code thousands of times, and cooperate with other people. Hence, `neat and clean` code that is easy to follow is a goal to achieve."
   ]
  },
  {
   "cell_type": "markdown",
   "id": "eb107599-0e15-4987-8145-36a03b5bbedb",
   "metadata": {},
   "source": [
    "1. Firstly, we should include brief comments that convey instructions, or other important notices to your code."
   ]
  },
  {
   "cell_type": "markdown",
   "id": "de3f91f0-21f1-459e-90d6-4af6989d632b",
   "metadata": {},
   "source": [
    "2. Maximously, you should only write one code statement per line.\n",
    "- For instance:"
   ]
  },
  {
   "cell_type": "code",
   "execution_count": 17,
   "id": "adc8f71a-e434-4245-a9cc-28a81966044b",
   "metadata": {},
   "outputs": [
    {
     "name": "stdout",
     "output_type": "stream",
     "text": [
      "Today is new day.\n",
      "Another chance for us to get it together.\n"
     ]
    }
   ],
   "source": [
    "#example1:\n",
    "print('Today is new day.')\n",
    "print('Another chance for us to get it together.')"
   ]
  },
  {
   "cell_type": "code",
   "execution_count": 18,
   "id": "7f5aacfe-c707-4995-b6c5-fbac54162592",
   "metadata": {},
   "outputs": [
    {
     "name": "stdout",
     "output_type": "stream",
     "text": [
      "Today is new day.\n",
      "Another chance for us to get it together.\n"
     ]
    }
   ],
   "source": [
    "#example2\"\n",
    "print('Today is new day.') ; print('Another chance for us to get it together.')"
   ]
  },
  {
   "cell_type": "markdown",
   "id": "c363b836-2c1e-4da1-a5a1-21f7ac1a473a",
   "metadata": {},
   "source": [
    "> Even though different people will have different preferences, I bet most of you will agree with me that the code block in example1 is more intelligible than example2."
   ]
  },
  {
   "cell_type": "markdown",
   "id": "877a61a6-1774-44d3-878e-1f6fc29b89b8",
   "metadata": {},
   "source": [
    ">And I bet some of you also notice that we can write two code statements on one line `using the ;` as a delimiter.\n"
   ]
  },
  {
   "cell_type": "markdown",
   "id": "f59dc380-9c3d-4e71-b8d8-3fb57f903ab8",
   "metadata": {},
   "source": [
    "3. When we have a code statement with so many elements within, we can span it over multiple lines by either `explicit joining` or `implicit joining`."
   ]
  },
  {
   "cell_type": "markdown",
   "id": "a671f420-6ee0-4be4-87f5-4686e9618672",
   "metadata": {},
   "source": [
    "\n",
    "- a. `explicit joining`: We explicitly join contents on different lines into a complete code statement using a backslash `\\`. "
   ]
  },
  {
   "cell_type": "code",
   "execution_count": 21,
   "id": "9d17a4f6-33a4-4779-bd7f-e8a65d849223",
   "metadata": {},
   "outputs": [
    {
     "name": "stdout",
     "output_type": "stream",
     "text": [
      "What a long day\n",
      "What a long day\n"
     ]
    }
   ],
   "source": [
    "#example3:\n",
    "print('What a long day')\n",
    "#is the same as:\n",
    "print('What \\\n",
    "a long day')"
   ]
  },
  {
   "cell_type": "code",
   "execution_count": 23,
   "id": "44ddd660-e9a2-4ab6-a6d7-a6c1a2f1e62f",
   "metadata": {},
   "outputs": [
    {
     "name": "stdout",
     "output_type": "stream",
     "text": [
      "1090803631413\n",
      "1090803631413\n"
     ]
    }
   ],
   "source": [
    "#example4:\n",
    "x = 12 + 35 + 56 + 543245234231 + 134652413 + 423 + 14364 + 354 + 3456765432 + 345676543 + 345676543 + 3456543 + 6654 + 3456543 + 23456543 + 345 + 45 + 12 + 35 + 56 + 543245234231\n",
    "print(x)\n",
    "# is the same as:\n",
    "x = 12 + 35 + 56 + 543245234231 + 134652413 + 423 \\\n",
    "+ 14364 + 354 + 3456765432 + 345676543 + 345676543 \\\n",
    "+ 3456543 + 6654 + 3456543 + 23456543 + 345 + 45 \\\n",
    "+ 12 + 35 + 56 + 543245234231\n",
    "print(x)\n"
   ]
  },
  {
   "cell_type": "markdown",
   "id": "7c02ce0b-8f8b-471d-93dd-9eac5051433b",
   "metadata": {},
   "source": [
    "- b. `Implicit joining`: We explicitly join contents on multiple lines into a whole line when our code statements involve `an opening ( or {` without a closing one. We will go through this situation when working with functions that involve multiple specified data pieces within the parentheses. For instance:"
   ]
  },
  {
   "cell_type": "code",
   "execution_count": 28,
   "id": "5c4147d2-fb54-4b13-bf06-96bda44cec0d",
   "metadata": {},
   "outputs": [
    {
     "data": {
      "image/png": "[encoded data removed]",
      "text/plain": [
       "<Figure size 432x288 with 1 Axes>"
      ]
     },
     "metadata": {
      "needs_background": "light"
     },
     "output_type": "display_data"
    }
   ],
   "source": [
    "# importing the required library\n",
    "import seaborn as sns\n",
    "import matplotlib.pyplot as plt\n",
    "\n",
    "# download the dataset titanic\n",
    "df = sns.load_dataset('titanic')\n",
    "\n",
    "\n",
    "# This is the part where implicit joining involved\n",
    "sns.barplot(x = 'who',\n",
    "\t\t\ty = 'fare',\n",
    "\t\t\thue = 'class',\n",
    "\t\t\tdata = df,\n",
    "\t\t\tpalette = \"Paired\")\n",
    "\n",
    "# Show the plot\n",
    "plt.show()\n"
   ]
  },
  {
   "cell_type": "markdown",
   "id": "efb98c77-07d1-4d8e-9aca-5058a5748f80",
   "metadata": {},
   "source": []
  }
 ],
 "metadata": {
  "kernelspec": {
   "display_name": "Python 3 (ipykernel)",
   "language": "python",
   "name": "python3"
  },
  "language_info": {
   "codemirror_mode": {
    "name": "ipython",
    "version": 3
   },
   "file_extension": ".py",
   "mimetype": "text/x-python",
   "name": "python",
   "nbconvert_exporter": "python",
   "pygments_lexer": "ipython3",
   "version": "3.10.6"
  }
 },
 "nbformat": 4,
 "nbformat_minor": 5
}
