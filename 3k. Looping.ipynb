{
 "cells": [
  {
   "cell_type": "markdown",
   "id": "a0ab8c2f-42e8-4d25-ae9e-1734e050c093",
   "metadata": {},
   "source": [
    "# Loop"
   ]
  },
  {
   "cell_type": "markdown",
   "id": "6e6c1ea5-3cb2-4132-98a2-267c07344c71",
   "metadata": {},
   "source": [
    "## `OUTLINE`:\n",
    "- I, What is a loop?\n",
    "- II, Basic loops\n",
    "- III, Looping using branching statement?\n",
    "- IV, Special keywords for looping."
   ]
  },
  {
   "cell_type": "markdown",
   "id": "e7806258-87d4-447c-9313-42bc40d5c096",
   "metadata": {
    "tags": []
   },
   "source": [
    "## I, What is a loop?"
   ]
  },
  {
   "cell_type": "markdown",
   "id": "363e9df8-4413-4249-b035-730f6ddcf7db",
   "metadata": {},
   "source": [
    "- Loop is a special feature (a type of code block) in Python which allows us to iterate a set of instructions over a sequence of values.\n",
    "- It is not a must, but there are so many times coders need to implement data structures to work with loop can help our work a lot easier. \n",
    "- Due to this, a data structure is called an iterable object.\n",
    "- There are two types of loops:\n",
    "    - `for` loops: loops that conduct a set of instructions over an iterable object until it reaches the final value within.\n",
    "    - `while` loop: loops that conduct a set of instructions over an interable object until a certain condition is met.\n",
    "- To write a loop:\n",
    "    - First, we type down the keyword `for` or `while`. Then comes a condition followed by a `:`. This statement must not be indented.\n",
    "    - Secondly, we write down the block of instructions. It is a must to indent all the statements of the code block at the same level."
   ]
  },
  {
   "cell_type": "markdown",
   "id": "cac3a264-72ad-4180-a5ad-37777edea747",
   "metadata": {},
   "source": [
    "## II, Basic loops:"
   ]
  },
  {
   "cell_type": "markdown",
   "id": "0e2c251d-d67c-4d5e-8e98-4289e13377d0",
   "metadata": {},
   "source": [
    "### 1, `for` loop: \n",
    "- We use `for` loops to iterate a set of instructions over a sequence of values, or so-called iterator, until it reaches the final value within. For instance:"
   ]
  },
  {
   "cell_type": "code",
   "execution_count": null,
   "id": "b1ce457c-49fd-4bd7-806f-f366d86b6f15",
   "metadata": {},
   "outputs": [],
   "source": [
    "#sample iterator:\n",
    "list1 = [1,2,3,4,5,6,7,8,9,10]\n",
    "\n",
    "#loop to print out all elements within:\n",
    "for x in list1:\n",
    "    print('At the index:', list1.index(x),', the number is:', x)\n",
    "    print('') #add a blank line after every printed line.\n",
    "    \n",
    "#This statement does not belong to the block:\n",
    "print('The number of elements within the  list is:', len(list1))"
   ]
  },
  {
   "cell_type": "markdown",
   "id": "11797411-1fdd-4260-9af0-487a54f2ea60",
   "metadata": {},
   "source": [
    "`Pay attention to`:\n",
    "- How I indent each `print` statement to define the code block that belongs to the condition statement.\n",
    "- The first statement is never indented.\n",
    "- Since the two following code statements are underneath and indented at one tab, they composite the code block that belongs to the condition statement :\n",
    "```python\n",
    "    print('At the index:', list1.index(x),', the number is:', x)\n",
    "    print('') #add a blank line after every printed line.\n",
    "```     \n",
    "- The final code statement is not indented, hence does not belong to the code block of the loop."
   ]
  },
  {
   "cell_type": "markdown",
   "id": "f73d57e4-1ebf-4335-b0d6-2fa0c1a427b3",
   "metadata": {},
   "source": [
    "<p style = \"color:cyan\">Ex_Create a list as below: <br>\n",
    "list1 = [44,22,54,22,5,67,44,65]<br>\n",
    "Then, print out all of the elemetns and their associted indexes.</p>\n"
   ]
  },
  {
   "cell_type": "code",
   "execution_count": null,
   "id": "95c13986-13f4-4c91-8a43-81607e80d484",
   "metadata": {},
   "outputs": [],
   "source": [
    "#Type here:\n",
    "    "
   ]
  },
  {
   "cell_type": "markdown",
   "id": "e89c45c9-2d53-4504-88f6-4b1853cee3bf",
   "metadata": {},
   "source": [
    "<details><summary > Click here for the solution after you've done the task:\n",
    "</summary>\n",
    "    \n",
    "```python\n",
    "#Type here:\n",
    "#create the list:\n",
    "list1 = [44,22,54,22,5,67,44,65]\n",
    "\n",
    "#for loop:\n",
    "list = [44,22,54,22,5,67,44,65]\n",
    "\n",
    "for x in list1:\n",
    "    print('At the index:', list1.index(x), ',the number is:', x)\n",
    "\n",
    "```\n",
    "</details>"
   ]
  },
  {
   "cell_type": "markdown",
   "id": "993d04be-3894-4afe-8601-e20380b08027",
   "metadata": {},
   "source": [
    "### 2, `while` loops:\n",
    "- We use `while` loops to iterate a set of instructions over an iterator until a certain condition is attained. For instance, we can use the following loop to `draw` a squared triangle using lines of dots, with a maximum length of 10 dots"
   ]
  },
  {
   "cell_type": "code",
   "execution_count": null,
   "id": "78f5a712-55a6-4f44-9777-093639b31683",
   "metadata": {},
   "outputs": [],
   "source": [
    "#draw a squared triangle using lines of dots, with a maximum length of 10 dots:\n",
    "#specify the initial value of x:\n",
    "x = 1\n",
    "#while loop:\n",
    "while x < 14:\n",
    "    line = '.' * x \n",
    "    print(line)\n",
    "    x = x+1 #Increase the number of dots by 1 at the end of each turn."
   ]
  },
  {
   "cell_type": "markdown",
   "id": "b5d8ebcb-a217-4d00-ba3c-9c493cd9958a",
   "metadata": {},
   "source": [
    ">Explanation: \n",
    "- In the 1st turn, the number of dots within a line is 1, which we have specified before the loop starts. At the end of the first turn, after the line of dots is printed, the value of x is increased by 1.\n",
    "- At the beginning of the 2nd turn, the number of dots within a line is now 2. Then, a line of 2 dots will be printed. After that, the value of x will be increased by 1, which is 2+1 and equates to 2.\n",
    "- The following logic can be applied until the final term. In the final term, after a line of 13 dots is printed, the x value is also increased by 1. After that, however, the loop no longer goes on since the condition `x<14` has been reached."
   ]
  },
  {
   "cell_type": "markdown",
   "id": "2875a8cc-fee2-458f-8e04-990c7c3e1ee4",
   "metadata": {},
   "source": [
    "<p style = \"color:cyan\">Ex_Print a reverse squared triangle using lines of dots. The maximus length of each line is 24.</p>\n"
   ]
  },
  {
   "cell_type": "code",
   "execution_count": null,
   "id": "465f135c-1e9a-4c11-8182-6845292e5bc9",
   "metadata": {},
   "outputs": [],
   "source": [
    "#Type here:\n"
   ]
  },
  {
   "cell_type": "markdown",
   "id": "320e91a6-70f5-4cab-ae08-a58c928fb3b9",
   "metadata": {},
   "source": [
    "<details><summary > Click here for the solution after you've done the task:\n",
    "</summary>\n",
    "    \n",
    "```python\n",
    "#Type here:\n",
    "#Specify the value of x:\n",
    "x = 24\n",
    "\n",
    "#while loop:\n",
    "while x>0: \n",
    "    line = '.' * x\n",
    "    print(line)\n",
    "    x = x -1\n",
    "```\n",
    "</details>"
   ]
  },
  {
   "cell_type": "markdown",
   "id": "9756472b-e9fb-4937-b5ba-3bc8d63140b4",
   "metadata": {},
   "source": [
    "## III, Looping with branching:\n",
    "- Combining looping with branching will be the best approach if we have a different plan for different types of values within our chosen sequence.\n",
    "\n",
    "> Suppose we want to `draw` a regular triangle using lines of dots with a maximum length of 13. To do this, we will have to start with a line of 1 dot for the peak, and then each line will have 2 dots more than the previous one. Hence, we acknowledge that the number of dots within each line must be odd."
   ]
  },
  {
   "cell_type": "code",
   "execution_count": null,
   "id": "01e97313-af63-457d-b79a-50fb7fccf949",
   "metadata": {},
   "outputs": [],
   "source": [
    "#initialize the value of dots within a line:\n",
    "x = 1\n",
    "\n",
    "#the loop:\n",
    "while x < 16: #since the maximus length is 15\n",
    "    #construct our line:\n",
    "    n = (15-x)//2\n",
    "    start = ' ' * n #Include the blank parts to centralize the dots\n",
    "    dots = '.' * x\n",
    "    end = ' ' * n\n",
    "    line = start + dots + end\n",
    "    if x % 2 ==1: #an odd number modulo 2 is 1\n",
    "        print(line)\n",
    "    if x % 2 == 0: #an equal number modulo 2 is 0\n",
    "        pass\n",
    "    x = x+1"
   ]
  },
  {
   "cell_type": "markdown",
   "id": "04e49dfc-8a6c-42b1-9077-580e31727b65",
   "metadata": {},
   "source": [
    "<p style = \"color:cyan\">Ex_Create a rectangle which contains a blank triangle in the centroid using dots. </p>\n"
   ]
  },
  {
   "cell_type": "code",
   "execution_count": null,
   "id": "6d38ac6a-be92-43cf-b44a-67915e03e927",
   "metadata": {},
   "outputs": [],
   "source": [
    "#Type here:\n"
   ]
  },
  {
   "cell_type": "markdown",
   "id": "fb301784-eec3-42b9-a491-fe4d86aa0e3a",
   "metadata": {
    "tags": []
   },
   "source": [
    "<details><summary > Click here for the solution after you've done the task:\n",
    "</summary>\n",
    "    \n",
    "```python\n",
    "#Type here:\n",
    "#Specify the value of x:\n",
    "x = 1\n",
    "\n",
    "#the loop:\n",
    "while x <26: #since the  length is 25\n",
    "    #construct our line:\n",
    "    n = (25-x)//2\n",
    "    start = '.' * n \n",
    "    dots = ' ' * x\n",
    "    end = '.' * n\n",
    "    line = start + dots + end\n",
    "    if x % 2 ==1: #an odd number modulo 2 is 1\n",
    "        print(line)\n",
    "    if x % 2 == 0: #an equal number modulo 2 is 0\n",
    "        pass\n",
    "    x = x+1\n",
    "\n",
    "```\n",
    "</details>"
   ]
  },
  {
   "cell_type": "markdown",
   "id": "64533399-7bd4-4ee0-9ce1-a957205b49ca",
   "metadata": {},
   "source": [
    "## IV, Keywords for looping:\n",
    "- Apart from the `while` and `for` keywords used to define loops, we also use other keywords to construct loops. We usually use logical, membership, `break` and `continue` keywords.\n"
   ]
  },
  {
   "cell_type": "markdown",
   "id": "ddd53581-8a46-489c-a949-2b1470d15150",
   "metadata": {},
   "source": [
    "### 1, Logical keywords:\n",
    "- There are three logical keywords: `and`, `or`, and `not`.\n",
    "- We have studied this type of keyword in the previous topic. Just in case, you can return to `3c. Python calculator_Working with Numeric and Boolean data` for more details.\n"
   ]
  },
  {
   "cell_type": "markdown",
   "id": "f3d3c410-4788-4ecb-a70f-939bef32b6cd",
   "metadata": {},
   "source": [
    ">For instance:\n",
    "Suppose we have a list of numbers from 0 to 50, and we want to sort them into three categories:\n",
    "- 1st category: List of numbers that are divisible by 9 and bigger than 20, or even numbers that are smaller than 36\n",
    "- 2nd category: List of numbers that are divisible by 8 and smaller than 36, or odd numbers that are bigger than 20\n",
    "- 3rd category: The rest of the list"
   ]
  },
  {
   "cell_type": "code",
   "execution_count": null,
   "id": "31ce32d3-5190-4cc1-ae26-5e543be5bfe4",
   "metadata": {},
   "outputs": [],
   "source": [
    "#initialize the list:\n",
    "lista = range(0,51) #the range of numbers starting from 0 and ending before 51.\n",
    "\n",
    "#initialize the categories as blank lists:\n",
    "cate1 = []\n",
    "cate2 = []\n",
    "cate3 = []\n",
    "\n",
    "#the loop:\n",
    "for i in lista:\n",
    "    if ((i%9==0) and (i>20)) or ((i%2==0) and (i<36)):\n",
    "        cate1.append(i)\n",
    "    if ((i%8==0) and (i>36)) or ((not(i%2==0)) and (i<20)):\n",
    "        cate2.append(i)\n",
    "    else:\n",
    "        cate3.append(i)\n",
    "                               \n",
    "print('The 1st category is:', cate1)\n",
    "print('') #add a blank line\n",
    "print('The 2nd category is:', cate2)\n",
    "print('') #add a blank line\n",
    "print('The 3rd category is:', cate3)                               "
   ]
  },
  {
   "cell_type": "markdown",
   "id": "706a5b65-8a76-4a7c-a933-fe24b75e7206",
   "metadata": {},
   "source": [
    "<p style = \"color:cyan\">Ex_From 1 to 50:<br>\n",
    "- Print out the list of numbers that are divisble by 5 but not by 10. <br>\n",
    "- Print out the list of numbers that are either divisible by 3 or by 8, and not by 5 and 10. <br>\n",
    "- Print out the rest of the numbers from 1 to 50."
   ]
  },
  {
   "cell_type": "code",
   "execution_count": null,
   "id": "0f29e109-9c6d-490b-8c3e-676a61314e50",
   "metadata": {},
   "outputs": [],
   "source": [
    "#Type here:\n",
    "\n",
    "#initialize the list:\n",
    "list1 = []\n",
    "list2 = []\n",
    "list3 = []\n",
    "\n",
    "#the loop:\n",
    "for x in range(1,51): #The range includes numbers from 1 to 50\n",
    "    if ((x%5==0) and not(x%10==0)):\n",
    "        list1.append(x)\n",
    "    if ((x%3==0) or (x%8==0)) and not (x%5==0) and not (x%10==0):\n",
    "        list2.append(x)\n",
    "    else:\n",
    "        list3.append(x)\n",
    "\n",
    "#Not belong to the loop:        \n",
    "print('list1:', list1)\n",
    "print('list2:', list2)\n",
    "print('list3:', list3)"
   ]
  },
  {
   "cell_type": "markdown",
   "id": "4e9f3b40-fcf4-48f0-b987-49d84d9ffceb",
   "metadata": {},
   "source": [
    "### 2, Membership keywords:\n",
    "- We use membership keywords to indicate whether an element is in the data structure or not. There are two types of membership keywords: `in` and `not in`.\n",
    "- We can see the application of membership keywords throughout this topic."
   ]
  },
  {
   "cell_type": "markdown",
   "id": "15385941-bb54-4ed3-9fc8-2a7aae99a671",
   "metadata": {},
   "source": [
    "### 3, `break` keyword:\n",
    "- We use the `break` keyword to end a loop before it reaches the final element of a sequence of values once a condition is met.\n",
    "- For instance, suppose we want to print out all names within our customer list until the 10th customer."
   ]
  },
  {
   "cell_type": "code",
   "execution_count": null,
   "id": "27cd37e7-93c9-4889-88c1-5c37d554a74d",
   "metadata": {},
   "outputs": [],
   "source": [
    "#customer list: \n",
    "cust = ('Jane', 'Janet', 'James', 'Thames', 'Thor', 'Rob', 'Bob',\\\n",
    "        'Bobby', 'Bin', 'Nars', 'Sun', 'Nate', 'Kate', 'Teresa', 'Sam', 'Sandie')"
   ]
  },
  {
   "cell_type": "code",
   "execution_count": null,
   "id": "4750bde4-9fb9-4738-9945-670acf1dd5dd",
   "metadata": {},
   "outputs": [],
   "source": [
    "#The loop:\n",
    "for (i,x) in enumerate(cust):\n",
    "    print('The customer number:', i + 1, #i is the index of elements within the iterator\n",
    "         'is:', x) # x is an element within the iterator\n",
    "    #this is an instance of implicit joining\n",
    "    if i + 1 == 10:\n",
    "        break"
   ]
  },
  {
   "cell_type": "markdown",
   "id": "044e6743-3d9b-4a5c-bad1-7ddb0e8456f4",
   "metadata": {},
   "source": [
    "\n",
    "> Our loop iterate through all elements within the iterator until the condition i + 1 = 10 is reached."
   ]
  },
  {
   "cell_type": "markdown",
   "id": "35df3cbc-d512-45ce-a858-eb0a3613b1b2",
   "metadata": {},
   "source": [
    "> The function `enumerate(iterator_name)` allows us to print out all the indexes and the associated elements within an iterator.\n"
   ]
  },
  {
   "cell_type": "markdown",
   "id": "7319b501-c7cc-4aeb-82f1-b53409a43729",
   "metadata": {},
   "source": [
    "<p style = \"color:cyan\">Ex_Print out the first 11 customers and their order numbers within the tuple cust.\n",
    "<p>"
   ]
  },
  {
   "cell_type": "code",
   "execution_count": null,
   "id": "01e7c7a5-82b0-4b2f-9cbd-6b426b1330fc",
   "metadata": {},
   "outputs": [],
   "source": [
    "#Type here:\n"
   ]
  },
  {
   "cell_type": "markdown",
   "id": "671c4301-47a4-48ad-a0a9-309d9569f3a8",
   "metadata": {},
   "source": [
    "<details><summary > Click here for the solution after you've done the task:\n",
    "</summary>\n",
    "    \n",
    "```python\n",
    "#Type here:\n",
    "\n",
    "#The loop:\n",
    "for (i,x) in enumerate(cust):\n",
    "    print('The customer number:', i + 1, #i is the index of elements within the iterator\n",
    "         'is:', x) # x is an element within the iterator\n",
    "    #this is an instance of implicit joining\n",
    "    if i + 1 == 11:\n",
    "        break\n",
    "\n",
    "\n",
    "```\n",
    "</details>"
   ]
  },
  {
   "cell_type": "markdown",
   "id": "fe9aa867-91a5-445e-a201-88a4c0832821",
   "metadata": {},
   "source": [
    "### 4, `continue` keyword:\n",
    "- The `continue` keyword allows us to skip a partial or a whole set of instructions within the code block when a certain condition is met.\n",
    "- In more detail, once the condition is met, the rest of the instructions after the `continue` statement will be skipped in that turn.\n",
    "- For instance, we want to print out all of our customers' names instead of Janet and Sandie."
   ]
  },
  {
   "cell_type": "code",
   "execution_count": null,
   "id": "8c1150ef-f152-4568-86c1-060f2fcb46ea",
   "metadata": {},
   "outputs": [],
   "source": [
    "#the loop:\n",
    "for (i,x) in enumerate(cust):\n",
    "    if (x == 'Janet') or (x == 'Thor'):\n",
    "        continue #we skip the rest of the instructions at these valeus\n",
    "    else:\n",
    "        print('The customer number:', i + 1, #i is the index of elements within the iterator\n",
    "         'is:', x)# x is an element within the iterator\n",
    "    #this is an instance of implicit joining\n",
    "    "
   ]
  },
  {
   "cell_type": "markdown",
   "id": "9e8ffed7-a115-4e59-a3c8-4fd0e4fbe892",
   "metadata": {},
   "source": [
    "<p style = \"color:cyan\">Ex_Print out all the names and the order numbers of customers within the tuple cust, apart from customers Sandie and Bobby.<p>"
   ]
  },
  {
   "cell_type": "code",
   "execution_count": null,
   "id": "fd0e9fdd-1fed-482b-88e2-198cf7490007",
   "metadata": {},
   "outputs": [],
   "source": [
    "#Type here:\n"
   ]
  },
  {
   "cell_type": "markdown",
   "id": "e9019e0d-9724-4adc-8e8e-9468f0851568",
   "metadata": {},
   "source": [
    "<details><summary > Click here for the solution after you've done the task:\n",
    "</summary>\n",
    "    \n",
    "```python\n",
    "#Type here:\n",
    "#the loop:\n",
    "for (i,x) in enumerate(cust):\n",
    "    if (x == 'Sandie') or (x == 'Bobby'):\n",
    "        continue #we skip the rest of the instructions at these valeus\n",
    "    else:\n",
    "        print('The customer number:', i + 1, #i is the index of elements within the iterator\n",
    "         'is:', x)# x is an element within the iterator\n",
    "    #this is an instance of implicit joining\n",
    "\n",
    "```\n",
    "</details>"
   ]
  }
 ],
 "metadata": {
  "kernelspec": {
   "display_name": "Python 3 (ipykernel)",
   "language": "python",
   "name": "python3"
  },
  "language_info": {
   "codemirror_mode": {
    "name": "ipython",
    "version": 3
   },
   "file_extension": ".py",
   "mimetype": "text/x-python",
   "name": "python",
   "nbconvert_exporter": "python",
   "pygments_lexer": "ipython3",
   "version": "3.10.6"
  }
 },
 "nbformat": 4,
 "nbformat_minor": 5
}
