{
 "cells": [
  {
   "cell_type": "markdown",
   "id": "7e43d0ac-e8db-4077-9528-f76e4ded4ff3",
   "metadata": {},
   "source": [
    "# Working with text-based file"
   ]
  },
  {
   "cell_type": "markdown",
   "id": "0c684589-b70c-47d4-b608-43dc05322390",
   "metadata": {},
   "source": [
    "# outline:\n",
    "- Download CONTENT FROM an API.\n",
    "- open a file in a simple way.\n",
    "    - Read a file\n",
    "    - Check the mode and the name of a file\n",
    "    - REMEMBER to CLOSE the file afterwards\n",
    "    - Check whether you have closed the file or not\n",
    "- open a file in a smart way.\n",
    "    - Print out a certain number of characters.\n",
    "    - Print out a certain number of lines.\n",
    "- write new content into a file and delete pre-existing contents\n",
    "- Append new content into a file\n",
    "- Additional modes to work with files\n",
    "- Copy a file"
   ]
  },
  {
   "cell_type": "markdown",
   "id": "da4e69fa-4820-4bed-8142-963679d90052",
   "metadata": {},
   "source": [
    "## 1. Download content from an url:\n",
    "Use the code line:\n",
    "```python\n",
    "import urllib.request\n",
    "url = 'https://raw.githubusercontent.com/DNMC2513/Nontechies_Introduction_to_Python/main/test.txt'\n",
    "filename = 'test.txt'\n",
    "urlib.request.urlretrieve(url, filename)\n",
    "```"
   ]
  },
  {
   "cell_type": "code",
   "execution_count": null,
   "id": "e65c837f-a125-4090-8baa-d5cdd9a107e7",
   "metadata": {
    "tags": []
   },
   "outputs": [],
   "source": [
    "import urllib.request\n",
    "url = 'https://raw.githubusercontent.com/DNMC2513/Nontechies_Introduction_to_Python/main/test.txt'\n",
    "filename = 'test.txt'\n",
    "urllib.request.urlretrieve(url, filename)\n"
   ]
  },
  {
   "cell_type": "markdown",
   "id": "f1b1c3f7-d12a-4408-a633-b761d225c956",
   "metadata": {},
   "source": [
    "## 2. Read a file in a simple way:\n",
    "Use the stucture:\n",
    "```python\n",
    "file_obj = open('file_directory', 'mode')\n",
    "\n",
    "text = file_obj.read()\n",
    "\n",
    "print(text)\n",
    "\n",
    "#REMEMBER TO CLOSE THE FILE AFTERWARDS:\n",
    "file_obj.close()\n",
    "\n",
    "#check if the file has been closed or not:\n",
    "file_obj.closed\n",
    "\n",
    "\n",
    "```"
   ]
  },
  {
   "cell_type": "code",
   "execution_count": null,
   "id": "cabc5906-5b55-4001-8926-4633ccc02b94",
   "metadata": {},
   "outputs": [],
   "source": [
    "#file object:\n",
    "file = open('test.txt', 'r') #reading mode\n",
    "\n",
    "text = file.read()\n",
    "\n",
    "print(text)"
   ]
  },
  {
   "cell_type": "markdown",
   "id": "fe070980-1c33-4cb7-bd55-14e9924627d4",
   "metadata": {},
   "source": [
    "#### CHECK THE MODE OF THE FILE:\n",
    "```python\n",
    "file_obj.mode\n",
    "```"
   ]
  },
  {
   "cell_type": "code",
   "execution_count": null,
   "id": "17692e6e-5c73-444b-8b9c-db0aa0d1c0fc",
   "metadata": {},
   "outputs": [],
   "source": [
    "file.mode"
   ]
  },
  {
   "cell_type": "markdown",
   "id": "73172945-fc14-481c-b09e-999cd078825b",
   "metadata": {},
   "source": [
    "#### CHECK THE NAME OF THE FILE:\n",
    "```python\n",
    "file_obj.name\n",
    "```"
   ]
  },
  {
   "cell_type": "code",
   "execution_count": null,
   "id": "865e4ba4-18af-4e7a-9dc4-7531fc22fb71",
   "metadata": {},
   "outputs": [],
   "source": [
    "file.name"
   ]
  },
  {
   "cell_type": "markdown",
   "id": "228d8476-1384-4707-9d72-a2bfe0cf7abd",
   "metadata": {},
   "source": [
    "#### CLOSE THE FILE AFTERWARDS:\n",
    "```python\n",
    "file_object.close()\n",
    "```"
   ]
  },
  {
   "cell_type": "code",
   "execution_count": null,
   "id": "ebfe20ea-1eb4-42b8-9051-070326894956",
   "metadata": {},
   "outputs": [],
   "source": [
    "file.close()"
   ]
  },
  {
   "cell_type": "markdown",
   "id": "c183b77b-bc13-46b5-a172-d26bc8904811",
   "metadata": {},
   "source": [
    "#### CHECK whether you have CLOSED the file or not:\n",
    "```python\n",
    "file_object.closed\n",
    "```"
   ]
  },
  {
   "cell_type": "code",
   "execution_count": null,
   "id": "3d9638ea-f5ef-4245-bdce-656405d2d227",
   "metadata": {},
   "outputs": [],
   "source": [
    "file.closed"
   ]
  },
  {
   "cell_type": "markdown",
   "id": "a0c3a312-f335-4d89-9dae-69882299b16a",
   "metadata": {},
   "source": [
    "## 3. Read a file in a smart way:\n",
    "Use the struture:\n",
    "```python\n",
    "with open('file_path', 'mode') as file_object:\n",
    "    ...\n",
    "    ...\n",
    "    ...\n",
    "```    \n",
    "in this way, the file will be AUTOMATICALLY CLOSED afterwards."
   ]
  },
  {
   "cell_type": "code",
   "execution_count": null,
   "id": "66956496-d534-4905-bd03-3cd87a09c879",
   "metadata": {},
   "outputs": [],
   "source": [
    "with open('test.txt', 'r') as f1:\n",
    "    text = f1.read()\n",
    "    print(text)"
   ]
  },
  {
   "cell_type": "code",
   "execution_count": null,
   "id": "4286616f-c865-45fc-8eb1-a73cf4c4fab7",
   "metadata": {},
   "outputs": [],
   "source": [
    "f1.closed"
   ]
  },
  {
   "cell_type": "markdown",
   "id": "133b14d9-5bb2-4542-abd0-8e39f11a30ca",
   "metadata": {},
   "source": [
    "#### Print out a current number of characters using `file_object.read(num_of_chars)`\n",
    "- During the time you open a file, every time you call out the method .read(), the SUCCESSIVE chars will be called out."
   ]
  },
  {
   "cell_type": "code",
   "execution_count": null,
   "id": "d07f3b87-5137-433a-af7d-baf7bc80b192",
   "metadata": {},
   "outputs": [],
   "source": [
    "with open('test.txt', 'r') as f2:\n",
    "    print('The first 10 chars within the file is:', f2.read(30))\n",
    "    print('The next 10 chars within the file is:', f2.read(30))"
   ]
  },
  {
   "cell_type": "markdown",
   "id": "6826cd2a-3094-49ea-8c62-98c826d2d529",
   "metadata": {},
   "source": [
    "#### Print out a current number of lines using `file_object.readline(num_of_chars)`\n",
    "- This method will call out the first/SUCCESSIVE lines that SPAN within the given NUMBER of chars INSIDE the PARENTHESES.\n"
   ]
  },
  {
   "cell_type": "code",
   "execution_count": null,
   "id": "d3422152-2630-4fbf-b772-b856ee55b532",
   "metadata": {},
   "outputs": [],
   "source": [
    "with open('test.txt','r') as f3:\n",
    "    print('The 1st line spanning within 30 chars of f3 is:', f3.readline(30))\n",
    "    print('The next line spanning within 30 chars of f3 is:', f3.readline(30))\n",
    "    "
   ]
  },
  {
   "cell_type": "markdown",
   "id": "c026bdd3-69e7-43c0-bfd5-1080e433e242",
   "metadata": {},
   "source": [
    "### 4, Write new content to a file and delete pre-existing texts within:\n",
    "```python\n",
    "#use the write mode ('w'):\n",
    "with open('test.txt', 'w') as f4:\n",
    "    f4.write('Today is a beautiful day')\n",
    "\n",
    "#check the content of the file after the change:\n",
    "with open('test.txt', 'r') as f4:\n",
    "    print(f4.read())\n",
    "```"
   ]
  },
  {
   "cell_type": "code",
   "execution_count": null,
   "id": "6388292d-2342-448e-a7a5-7f6e6b9c33de",
   "metadata": {},
   "outputs": [],
   "source": [
    "with open('test.txt', 'w') as f4:\n",
    "    f4.write('Today is a beautiful day')\n",
    "#check the content of the file afterwards:\n",
    "with open('test.txt', 'r') as f4:\n",
    "    print(f4.read())"
   ]
  },
  {
   "cell_type": "markdown",
   "id": "2b721564-a154-4319-b9a4-080bc558ff9b",
   "metadata": {},
   "source": [
    "### 5, Append new content into a file without deleteing pre-existing texts within:\n",
    "```python\n",
    "with open('test.txt', 'a') as f5:\n",
    "    f5.write('You are undefeatable. \\n')\n",
    "    f5.write('There is nothing that can hurt you. \\n')\n",
    "    f5.write('You go girlllllllllllllll!')\n",
    "#check the content of the file afterwards:\n",
    "with open('test.txt', 'a') as f5:\n",
    "    print(f5.read())\n",
    "```"
   ]
  },
  {
   "cell_type": "code",
   "execution_count": null,
   "id": "5b88d4ff-a74d-442a-a814-c1cf952d38d8",
   "metadata": {},
   "outputs": [],
   "source": [
    "with open('test.txt', 'a') as f5:\n",
    "    f5.write('You are undefeatable. \\n')\n",
    "    f5.write('There is nothing that can hurt you. \\n')\n",
    "    f5.write('You go girlllllllllllllll! \\n')\n",
    "#check the content of the file afterwards:\n",
    "with open('test.txt', 'r') as f5:\n",
    "    print(f5.read())"
   ]
  },
  {
   "cell_type": "markdown",
   "id": "cb9fc48d-ab70-478c-aea3-39e3be8e81ad",
   "metadata": {},
   "source": [
    "### 6, Special modes:\n",
    "- r+ : to read and append, without truncating the file\n",
    "- w+ : to read and write, can truncate the file\n",
    "- a+ : to append and read, can create a file if it does not exist yet."
   ]
  },
  {
   "cell_type": "code",
   "execution_count": null,
   "id": "fdec217e-99c7-482f-ab0d-fceb28d83169",
   "metadata": {},
   "outputs": [],
   "source": [
    "# r+:\n",
    "with open('test.txt', 'r+') as f6:\n",
    "    print(f6.read())\n",
    "    f6.write('All you have is NOW')\n",
    "    print(f6.read())"
   ]
  },
  {
   "cell_type": "code",
   "execution_count": null,
   "id": "9c10e3f6-5d89-4b97-8153-8a45fba7d1ae",
   "metadata": {
    "tags": []
   },
   "outputs": [],
   "source": [
    "# w+:\n",
    "with open('test.txt', 'w+') as f6:\n",
    "    print(f6.read())\n",
    "    f6.write('How deep is your love?')\n",
    "    print(f6.read())"
   ]
  },
  {
   "cell_type": "code",
   "execution_count": null,
   "id": "f2f871cf-f734-4042-a540-174ef3b5c856",
   "metadata": {
    "tags": []
   },
   "outputs": [],
   "source": [
    "# a+:\n",
    "with open('test1.txt', 'a+') as f6:\n",
    "    f6.write('Speed up! \\n')\n",
    "    f6.write('Speed up! \\n')\n",
    "    print(f6.read())"
   ]
  },
  {
   "cell_type": "markdown",
   "id": "b10a35ff-5e21-4dfb-a15d-7c16093bff28",
   "metadata": {},
   "source": [
    "### 7, Copy the content of a file to another:\n",
    "Open the file to copy -> Open the file to paste\n",
    "```python\n",
    "with open('test.txt', 'r') as copysource:\n",
    "    with open('test1.txt', 'a+') as pastefile:\n",
    "        for line in copysource:\n",
    "            pastefile.write(line)\n",
    "        print(pastefile.read())\n",
    "```        "
   ]
  },
  {
   "cell_type": "code",
   "execution_count": null,
   "id": "7dd2cee3-1744-4c54-93bf-4daaf7869cd7",
   "metadata": {},
   "outputs": [],
   "source": [
    "with open('test.txt', 'r') as copysource:\n",
    "    with open('test1.txt', 'a+') as pastefile:\n",
    "        for line in copysource:\n",
    "            pastefile.write(line)\n",
    "        print(pastefile.read())"
   ]
  },
  {
   "cell_type": "code",
   "execution_count": null,
   "id": "bad1301e-4710-4a0b-8194-97fd624943b5",
   "metadata": {},
   "outputs": [],
   "source": []
  }
 ],
 "metadata": {
  "kernelspec": {
   "display_name": "Python 3 (ipykernel)",
   "language": "python",
   "name": "python3"
  },
  "language_info": {
   "codemirror_mode": {
    "name": "ipython",
    "version": 3
   },
   "file_extension": ".py",
   "mimetype": "text/x-python",
   "name": "python",
   "nbconvert_exporter": "python",
   "pygments_lexer": "ipython3",
   "version": "3.10.6"
  }
 },
 "nbformat": 4,
 "nbformat_minor": 5
}
