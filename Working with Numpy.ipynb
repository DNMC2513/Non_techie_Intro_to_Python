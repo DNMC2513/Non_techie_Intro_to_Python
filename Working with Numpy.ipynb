{
 "cells": [
  {
   "cell_type": "markdown",
   "id": "187aade3-12cc-4e08-8612-2f6a7a23b276",
   "metadata": {},
   "source": [
    "# Numpy"
   ]
  },
  {
   "cell_type": "markdown",
   "id": "a8587e59-81d9-433c-85f3-547055edcab9",
   "metadata": {},
   "source": [
    "----\n",
    "## OUTLINE:\n",
    "1. What is numpy?\n",
    "2. Working with 1dNumpy arrays\n",
    "3. Working with 2dNumpy arrays"
   ]
  },
  {
   "cell_type": "markdown",
   "id": "977ba29a-d20a-4ac4-ae1d-9b21785d8f60",
   "metadata": {},
   "source": [
    "## I. What is Numpy?\n",
    "- Numpy is a library used to work with linear algebra, matrices, fourier transform, and random number generation. \n",
    "- The array object in Numpy is clalled `ndarray`.\n",
    "- An 1d array can be used to represent a vector\n",
    "- A 2d array can be used to represent a matrix\n",
    "- For more information upon numpy, access this [clink](https://numpy.org/doc/stable/)"
   ]
  },
  {
   "cell_type": "code",
   "execution_count": null,
   "id": "da85ffc6-a043-4fee-a310-31b6cf56268c",
   "metadata": {},
   "outputs": [],
   "source": [
    "#import numpy:\n",
    "import numpy as np"
   ]
  },
  {
   "cell_type": "code",
   "execution_count": null,
   "id": "287c2aad-ea9b-4034-bf62-cee92bb66b40",
   "metadata": {},
   "outputs": [],
   "source": [
    "#check the version of the numpy library:\n",
    "np.__version__"
   ]
  },
  {
   "cell_type": "code",
   "execution_count": null,
   "id": "67f4d84c-5c93-4403-ad82-81ef80fc6526",
   "metadata": {
    "tags": []
   },
   "outputs": [],
   "source": [
    "#check the instruction of the library:\n",
    "help(np)"
   ]
  },
  {
   "cell_type": "markdown",
   "id": "8faff8d7-dd8b-4bf0-a8b2-ff8e1e3d6247",
   "metadata": {},
   "source": [
    "## B. Working with 1d Numpy arrays:"
   ]
  },
  {
   "cell_type": "markdown",
   "id": "0b328a07-d47c-4671-96af-b9efb95223ba",
   "metadata": {},
   "source": [
    "### 1. Create an 1d Numpy array:\n"
   ]
  },
  {
   "cell_type": "code",
   "execution_count": null,
   "id": "ef8ae303-f866-4afd-8307-c4aa97e197f2",
   "metadata": {},
   "outputs": [],
   "source": [
    "list1 = list(range(0,10,1))\n",
    "print('The object list1 is:',list1)\n",
    "print('The type of the object list1 is:', type(list1))\n",
    "array1 = np.array(list1)\n",
    "print('The object array1 is:', array1)\n",
    "print('The type of the object array1 is:', type(array1))"
   ]
  },
  {
   "cell_type": "markdown",
   "id": "b8eee6df-6d11-4492-a10a-28df238dee9d",
   "metadata": {},
   "source": [
    "### 2. Check the attributes of an 1dNumpy array"
   ]
  },
  {
   "cell_type": "code",
   "execution_count": null,
   "id": "2328376f-8f5b-4eb9-aada-8f25b9a6a823",
   "metadata": {},
   "outputs": [],
   "source": [
    "#check the size of the array:\n",
    "array1.size"
   ]
  },
  {
   "cell_type": "markdown",
   "id": "94a041c1-6ed0-4599-8dda-b60ba49a1f77",
   "metadata": {},
   "source": [
    "> There are 10 elements within array1"
   ]
  },
  {
   "cell_type": "code",
   "execution_count": null,
   "id": "17d7baf5-012b-4ac7-8e91-cf89fa7d045e",
   "metadata": {},
   "outputs": [],
   "source": [
    "#check the type of the elements within array1:\n",
    "array1.dtype"
   ]
  },
  {
   "cell_type": "markdown",
   "id": "b59662ef-ccd1-4105-b068-903d0609cb5f",
   "metadata": {},
   "source": [
    "> The elements within array1 are int32"
   ]
  },
  {
   "cell_type": "code",
   "execution_count": null,
   "id": "bfcf8bf1-e4bd-4c8c-9fab-da26a9f703a7",
   "metadata": {},
   "outputs": [],
   "source": [
    "#check the types of all elements within the array below:\n",
    "array2 = np.array(['wtw', 222.3, 54, 'i'])\n",
    "array2.dtype"
   ]
  },
  {
   "cell_type": "markdown",
   "id": "8b06adbc-523d-4574-8c1c-8f06aa4de9eb",
   "metadata": {},
   "source": [
    "> It is possible to create a Numpy array with elements of different type, however such arrays yield little meaning or usage."
   ]
  },
  {
   "cell_type": "code",
   "execution_count": null,
   "id": "a881385f-bcef-41dc-8547-5bc624009048",
   "metadata": {},
   "outputs": [],
   "source": [
    "#check the number of dimensions of the array:\n",
    "array2.ndim"
   ]
  },
  {
   "cell_type": "markdown",
   "id": "e3e093bd-37d8-4885-a15f-8765d4fdaf97",
   "metadata": {},
   "source": [
    "> array2 has only 1 dimension"
   ]
  },
  {
   "cell_type": "code",
   "execution_count": null,
   "id": "a1b48fd1-9b8f-41ba-8b13-ae9c10828309",
   "metadata": {},
   "outputs": [],
   "source": [
    "#check the shape of the array:\n",
    "array2.shape"
   ]
  },
  {
   "cell_type": "markdown",
   "id": "d876855e-a83a-49df-8046-d98ced3d0d6f",
   "metadata": {},
   "source": [
    "> Array has 4 elements and 1 dimension"
   ]
  },
  {
   "cell_type": "markdown",
   "id": "daba6894-7d64-4a71-ae47-6bc31655af8c",
   "metadata": {},
   "source": [
    "### 3. Create an 1dNumpy array with specified end points and number of values:\n",
    "```python\n",
    "np.linspace(start, end, num = number_of_values)\n",
    "```"
   ]
  },
  {
   "cell_type": "code",
   "execution_count": null,
   "id": "d6614b08-c5a4-4e7c-85d5-d15db2bdf556",
   "metadata": {},
   "outputs": [],
   "source": [
    "#for instance:\n",
    "arr2 = np.linspace(30, 40, num = 11)\n",
    "arr2"
   ]
  },
  {
   "cell_type": "markdown",
   "id": "4f16fc5c-49fb-48b2-a5aa-b87c611b0d9b",
   "metadata": {},
   "source": [
    "### 4. Slice out elements using index:"
   ]
  },
  {
   "cell_type": "markdown",
   "id": "a82ab672-73ff-44c3-825f-ec0bd2b2a5ba",
   "metadata": {},
   "source": [
    "- The first element within an 1dNumpy array is indexed as 0, the next one is assigned with 1, the following number is indexed using the same logic.\n",
    "- The last element can be indexed as -1, preceded by the -2_indexed number, all the predecessors are indexed using the same logic."
   ]
  },
  {
   "cell_type": "markdown",
   "id": "1723680c-da19-485b-847b-32412752e27b",
   "metadata": {},
   "source": [
    "#### a. Single element:"
   ]
  },
  {
   "cell_type": "code",
   "execution_count": null,
   "id": "d179fb27-1da2-4a23-90ae-2b0bef1bfe1f",
   "metadata": {},
   "outputs": [],
   "source": [
    "#call out the -1 indexed element of arr2:\n",
    "arr2[-1]"
   ]
  },
  {
   "cell_type": "code",
   "execution_count": null,
   "id": "467753f0-13dc-45e8-bffb-0f5b6105897b",
   "metadata": {},
   "outputs": [],
   "source": [
    "#call out the -3 indexed element of arr2:\n",
    "arr2[-3]"
   ]
  },
  {
   "cell_type": "code",
   "execution_count": null,
   "id": "cddd6668-0b2d-41de-aaf4-38f4cfe81c03",
   "metadata": {},
   "outputs": [],
   "source": [
    "#call out the +3 indexed element of array1:\n",
    "array1[3]"
   ]
  },
  {
   "cell_type": "code",
   "execution_count": null,
   "id": "ad5289ae-a051-4ed7-9426-f7f727746540",
   "metadata": {},
   "outputs": [],
   "source": [
    "#call out th 4 indexed element of array1:\n",
    "array1[4]"
   ]
  },
  {
   "cell_type": "markdown",
   "id": "1f5c681a-6678-43e3-b7ad-14bfe577a800",
   "metadata": {},
   "source": [
    "#### b. Specified range of elements:\n",
    "```python\n",
    "array[start:end + 1:step]\n",
    "```"
   ]
  },
  {
   "cell_type": "code",
   "execution_count": null,
   "id": "bea43fee-ce25-490a-bdd5-2619aa834b74",
   "metadata": {},
   "outputs": [],
   "source": [
    "array1[2:8:2]"
   ]
  },
  {
   "cell_type": "markdown",
   "id": "cf641e3a-17cc-45a5-b744-94f52e91075a",
   "metadata": {},
   "source": [
    "> We have sliced out the 2-indexed, 4-indexed, and 6-indexed elements within array."
   ]
  },
  {
   "cell_type": "code",
   "execution_count": null,
   "id": "afd6801e-7225-45b0-a17a-3cc61423a790",
   "metadata": {},
   "outputs": [],
   "source": [
    "#extract the first and the final elements of array2:\n",
    "array2[0:5:3]"
   ]
  },
  {
   "cell_type": "code",
   "execution_count": null,
   "id": "e13264b1-e39c-4877-b076-47c1f94e2d8b",
   "metadata": {},
   "outputs": [],
   "source": [
    "#Extract the odd numbers within array1:\n",
    "array1[0:11:2]"
   ]
  },
  {
   "cell_type": "code",
   "execution_count": null,
   "id": "7ace68c6-58c3-49aa-83d4-a43351b06788",
   "metadata": {},
   "outputs": [],
   "source": [
    "#extract the even numbers within array1:\n",
    "array1[1:11:2]"
   ]
  },
  {
   "cell_type": "markdown",
   "id": "7aeec87f-55b2-442c-8b8c-ce75827f9518",
   "metadata": {},
   "source": [
    "### 5. Numpy mathematical functions:\n",
    "- It is only `possible` to conduct operations on arrays of the SAME SHAPE."
   ]
  },
  {
   "cell_type": "markdown",
   "id": "525df382-54c5-4775-818a-bccc25d9459e",
   "metadata": {},
   "source": [
    "#### a. Addition:\n",
    "```python\n",
    "arr1 + arr2\n",
    "#or:\n",
    "np.add(arr1, arr2)\n",
    "```\n"
   ]
  },
  {
   "cell_type": "code",
   "execution_count": null,
   "id": "7dad1dd7-25c0-4ab1-a71f-490d9eabe5fa",
   "metadata": {},
   "outputs": [],
   "source": [
    "#for instance:\n",
    "\n",
    "ar1 = np.linspace(2,20, num = 12)\n",
    "ar2 = np.linspace(3,30, num = 12)"
   ]
  },
  {
   "cell_type": "code",
   "execution_count": null,
   "id": "3682d166-a722-4da3-a2b1-e42c3257f9cb",
   "metadata": {},
   "outputs": [],
   "source": [
    "ar1 + ar2"
   ]
  },
  {
   "cell_type": "code",
   "execution_count": null,
   "id": "10f76fa0-7898-4fa5-8345-09e078dbe6fa",
   "metadata": {},
   "outputs": [],
   "source": [
    "np.add(ar1, ar2)"
   ]
  },
  {
   "cell_type": "markdown",
   "id": "0563e3c8-5e16-45f6-925f-7444f1572249",
   "metadata": {},
   "source": [
    "- Add a constant to each element within an array:"
   ]
  },
  {
   "cell_type": "code",
   "execution_count": null,
   "id": "ba321fbc-fd52-402d-b30f-55b242968ebf",
   "metadata": {},
   "outputs": [],
   "source": [
    "#add 6:\n",
    "ar1 + 6"
   ]
  },
  {
   "cell_type": "markdown",
   "id": "e18bb20f-7e5a-4a21-816e-3bd4ed6033e9",
   "metadata": {},
   "source": [
    "#### b. Subtraction:\n",
    "```python\n",
    "arr1 - arr2 \n",
    "#or:\n",
    "np.subtract(arr1, arr2)\n",
    "```"
   ]
  },
  {
   "cell_type": "code",
   "execution_count": null,
   "id": "a7fd8662-d642-45af-ad8e-a540c88da885",
   "metadata": {},
   "outputs": [],
   "source": [
    "ar1 - ar2"
   ]
  },
  {
   "cell_type": "code",
   "execution_count": null,
   "id": "93938cae-a895-4090-a133-6433f5b91c99",
   "metadata": {},
   "outputs": [],
   "source": [
    "np.subtract(ar1, ar2)"
   ]
  },
  {
   "cell_type": "markdown",
   "id": "d150d667-e273-4b9f-bbd3-64c7c76b6b9c",
   "metadata": {},
   "source": [
    "- Subtract a constant from each element within an array:"
   ]
  },
  {
   "cell_type": "code",
   "execution_count": null,
   "id": "6e9e6992-a842-471e-bf16-9599294a7899",
   "metadata": {},
   "outputs": [],
   "source": [
    "array1 - 7"
   ]
  },
  {
   "cell_type": "markdown",
   "id": "3fba182c-abb0-4e51-b925-b5b30e792f73",
   "metadata": {},
   "source": [
    "#### c. Multiplication:\n",
    "```python\n",
    "arr1 * arr2\n",
    "#or:\n",
    "np.multiply(arr1, arr2)\n",
    "```"
   ]
  },
  {
   "cell_type": "code",
   "execution_count": null,
   "id": "0ebb7fb2-91da-4170-a795-e1d1bd15eb6d",
   "metadata": {},
   "outputs": [],
   "source": [
    "ar1 * ar2"
   ]
  },
  {
   "cell_type": "code",
   "execution_count": null,
   "id": "fc1a23bc-4282-4cb2-8e3a-675dd739b6ce",
   "metadata": {},
   "outputs": [],
   "source": [
    "np.multiply(ar1, ar2)"
   ]
  },
  {
   "cell_type": "markdown",
   "id": "bb46e11c-021a-4fe3-8411-2b2067d23245",
   "metadata": {},
   "source": [
    "- Multiply each element within an array with a constant"
   ]
  },
  {
   "cell_type": "code",
   "execution_count": null,
   "id": "e7ded103-0410-41bc-a85b-0730e2e3ec22",
   "metadata": {},
   "outputs": [],
   "source": [
    "ar1 * 3"
   ]
  },
  {
   "cell_type": "markdown",
   "id": "ecfc8393-af10-4689-b8f5-1f98d64abe37",
   "metadata": {},
   "source": [
    "#### d. Division:\n",
    "```python\n",
    "arr1/arr2\n",
    "#or:\n",
    "np.divide(arr1, arr2)\n",
    "```"
   ]
  },
  {
   "cell_type": "code",
   "execution_count": null,
   "id": "9d3a7944-cd30-45d0-815f-3bf3dbeb4f3b",
   "metadata": {},
   "outputs": [],
   "source": [
    "ar1/ar2"
   ]
  },
  {
   "cell_type": "code",
   "execution_count": null,
   "id": "a4cf4ac2-1658-49a7-a52c-e8e4de9d2c2a",
   "metadata": {},
   "outputs": [],
   "source": [
    "np.divide(ar1, ar2)"
   ]
  },
  {
   "cell_type": "markdown",
   "id": "7d06d3d6-2ac8-4dc8-b187-775d0cf4642d",
   "metadata": {},
   "source": [
    "- Divide each element within an array by a constant:"
   ]
  },
  {
   "cell_type": "code",
   "execution_count": null,
   "id": "aaf952a8-40f5-40b3-822b-6b178e68a04c",
   "metadata": {},
   "outputs": [],
   "source": [
    "ar1/8"
   ]
  },
  {
   "cell_type": "markdown",
   "id": "d46fcd68-3236-4197-b19d-ade47b4edd6e",
   "metadata": {},
   "source": [
    "#### e. Dot product:\n",
    "```python\n",
    "np.dot(ar1, ar2)\n",
    "```"
   ]
  },
  {
   "cell_type": "code",
   "execution_count": null,
   "id": "f723bc80-7077-4ef4-aabf-92bc62517f04",
   "metadata": {},
   "outputs": [],
   "source": [
    "np.dot(ar1, ar2)"
   ]
  },
  {
   "cell_type": "markdown",
   "id": "56f8d779-0ce2-46e4-9591-1cca64af7d14",
   "metadata": {},
   "source": [
    "#### f.Others:\n",
    "```python\n",
    "#pi:\n",
    "np.pi\n",
    "# Calculate the sin of each element:\n",
    "np.sin(arr1)\n",
    "#calculate the cosin of each element:\n",
    "np.cos(arr1)\n",
    "```"
   ]
  },
  {
   "cell_type": "code",
   "execution_count": null,
   "id": "c9f2a4b9-5d2b-4c6e-b781-d964f4cf1e99",
   "metadata": {},
   "outputs": [],
   "source": [
    "#np.pi\n",
    "np.pi"
   ]
  },
  {
   "cell_type": "code",
   "execution_count": null,
   "id": "cbf89727-da9c-4bd4-8f24-b0a3cbd12b13",
   "metadata": {},
   "outputs": [],
   "source": [
    "#create the numpy array in radians:\n",
    "ar3 = np.array([0, np.pi/2, np.pi])\n",
    "\n",
    "#apply the sin function to each of the element:\n",
    "np.sin(ar3)"
   ]
  },
  {
   "cell_type": "markdown",
   "id": "f6c57bd0-5073-4961-a946-3cb302f214c1",
   "metadata": {},
   "source": [
    "### 6. Statistical operations:"
   ]
  },
  {
   "cell_type": "code",
   "execution_count": null,
   "id": "b57686ef-0cb2-477d-a8d7-146cc23f4358",
   "metadata": {},
   "outputs": [],
   "source": [
    "#max:\n",
    "arr2.max()"
   ]
  },
  {
   "cell_type": "code",
   "execution_count": null,
   "id": "bacf6716-2964-464b-9d72-39a9325a1f77",
   "metadata": {},
   "outputs": [],
   "source": [
    "#min:\n",
    "arr2.min()"
   ]
  },
  {
   "cell_type": "code",
   "execution_count": null,
   "id": "8181df7e-2190-4664-bb14-47900abac076",
   "metadata": {},
   "outputs": [],
   "source": [
    "#mean:\n",
    "arr2.mean()"
   ]
  },
  {
   "cell_type": "code",
   "execution_count": null,
   "id": "b587b5a5-f84a-472b-8c1c-448e74f136e8",
   "metadata": {},
   "outputs": [],
   "source": [
    "#std:\n",
    "arr2.std()"
   ]
  },
  {
   "cell_type": "markdown",
   "id": "00fc7b56-7f03-4b01-ad02-91c3b28df47c",
   "metadata": {},
   "source": [
    "## B. Working with 2dNumpy arrays:"
   ]
  },
  {
   "cell_type": "markdown",
   "id": "a61ea714-6a14-4840-a9a1-ac191a5c194a",
   "metadata": {},
   "source": [
    "### 1. Create a 2dNumpy array:\n",
    "- A 2dNumpy array can be used to represent a matrix. \n",
    "- A 2dNumpy array is created from a list that contains other nested lists within. Each nested list represents a row within the array. "
   ]
  },
  {
   "cell_type": "code",
   "execution_count": null,
   "id": "e87b0658-b3fb-45b3-8658-95696dbaeaea",
   "metadata": {},
   "outputs": [],
   "source": [
    "#for instance:\n",
    "list2 = [\n",
    "    [12,54,66,22,33], #row1\n",
    "    [232,55,5,23,5], #row2\n",
    "    [0,34,22,55,2]\n",
    "]\n",
    "\n",
    "a1 = np.array(list2)\n",
    "a1"
   ]
  },
  {
   "cell_type": "markdown",
   "id": "8f0cde04-8066-4400-986d-76a587298325",
   "metadata": {},
   "source": [
    "### 2. Check the attributes of a 2dNumpy array:"
   ]
  },
  {
   "cell_type": "code",
   "execution_count": null,
   "id": "d6acfb08-1ed8-4d77-a810-dc712b710795",
   "metadata": {},
   "outputs": [],
   "source": [
    "#check the size of the array:\n",
    "a1.size"
   ]
  },
  {
   "cell_type": "code",
   "execution_count": null,
   "id": "a4a7edb7-7647-49b0-a079-557e5d2729c1",
   "metadata": {},
   "outputs": [],
   "source": [
    "#check the shape of the array:\n",
    "a1.shape"
   ]
  },
  {
   "cell_type": "markdown",
   "id": "50ffb099-9b59-4301-a02b-599d0bfd5b7e",
   "metadata": {},
   "source": [
    "> The array consists of 3 rows and 5 columns"
   ]
  },
  {
   "cell_type": "code",
   "execution_count": null,
   "id": "b7232323-69e5-429b-bb4f-5c0a18e8b208",
   "metadata": {},
   "outputs": [],
   "source": [
    "#check the number of dimensions of the array:\n",
    "a1.ndim"
   ]
  },
  {
   "cell_type": "code",
   "execution_count": null,
   "id": "b07f4098-2d8f-4600-9d8c-42f538e39b39",
   "metadata": {},
   "outputs": [],
   "source": [
    "#check the type of the elements within the array:\n",
    "a1.dtype"
   ]
  },
  {
   "cell_type": "markdown",
   "id": "bedfda04-1f78-4db0-b6be-928edbc2ebbc",
   "metadata": {},
   "source": [
    "### 3. Slice out elements within an array using index:\n",
    "- Every element within a 2dNumpy array is ordered by the index of its row, followed by the index of its column.\n",
    "- The index the first element is 0, the 2nd is 1, the rest elements follow the same logic.\n",
    "- The last element can be indexed as -1, the 2nd last can be indexed as -2, the rest elements can be indexed using the same logic.\n",
    "```python\n",
    "array2d[Row_index][Col_index]\n",
    "#or\n",
    "array2d[Row_index, Col_index]\n",
    "```"
   ]
  },
  {
   "cell_type": "markdown",
   "id": "4c7c765e-74ee-41d0-8674-868971576a6d",
   "metadata": {},
   "source": [
    "#### a. Single elements:"
   ]
  },
  {
   "cell_type": "code",
   "execution_count": null,
   "id": "9db30a0e-a3d6-4bbf-bedd-68c95bef891b",
   "metadata": {},
   "outputs": [],
   "source": [
    "#for instance:\n",
    "a1"
   ]
  },
  {
   "cell_type": "code",
   "execution_count": null,
   "id": "1b236ac4-5e64-4dbd-b9d6-3c0e65ac26f9",
   "metadata": {},
   "outputs": [],
   "source": [
    "#call out the last element on the last row:\n",
    "a1[-1][-1]"
   ]
  },
  {
   "cell_type": "code",
   "execution_count": null,
   "id": "e8046e44-9d8a-4535-bf74-0d93127ce01a",
   "metadata": {},
   "outputs": [],
   "source": [
    "#or:\n",
    "a1[-1, -1]"
   ]
  },
  {
   "cell_type": "markdown",
   "id": "ac58a22b-dfb5-427a-94f5-35ff05d3ed86",
   "metadata": {},
   "source": [
    "#### b. Range of elements:\n",
    "```python\n",
    "array2d[R_start_index:R_end_index + 1,\n",
    "        C_start_index:C_end_index + 1]\n",
    "```"
   ]
  },
  {
   "cell_type": "code",
   "execution_count": null,
   "id": "09e6dede-4653-4787-917c-60fb4afae3a1",
   "metadata": {},
   "outputs": [],
   "source": [
    "#or:\n",
    "a1[1:3, 3:5]"
   ]
  },
  {
   "cell_type": "markdown",
   "id": "c6c33895-0308-4abf-b50d-85be1248eef0",
   "metadata": {},
   "source": [
    "### 3. Mathematical operations:\n",
    "- It is only possible to conduct operations on arrays of the same size:\n"
   ]
  },
  {
   "cell_type": "markdown",
   "id": "40da1b21-57d4-4344-8bfc-37b1bda1fbd3",
   "metadata": {},
   "source": [
    "#### a. Addition:\n",
    "```python\n",
    "np.add(a1 + a2)\n",
    "\n",
    "#or:\n",
    "a1 + a2\n",
    "```"
   ]
  },
  {
   "cell_type": "code",
   "execution_count": null,
   "id": "e1357398-65db-47cd-b3d0-57f6ae668002",
   "metadata": {},
   "outputs": [],
   "source": [
    "#for instance:\n",
    "a2 = np.array([\n",
    "    [2,5,44,66,3],\n",
    "    [33,54,22,3,5],\n",
    "    [33,65,22,652,2]\n",
    "])\n",
    "a2"
   ]
  },
  {
   "cell_type": "code",
   "execution_count": null,
   "id": "4044f175-13be-4a11-add2-a831f984e49c",
   "metadata": {},
   "outputs": [],
   "source": [
    "a1 + a2"
   ]
  },
  {
   "cell_type": "code",
   "execution_count": null,
   "id": "de18eab5-6977-4524-bf3d-a28ac12e789d",
   "metadata": {},
   "outputs": [],
   "source": [
    "np.add(a1, a2)"
   ]
  },
  {
   "cell_type": "markdown",
   "id": "8b0c25e4-e674-4a71-9eee-71bd73306c99",
   "metadata": {},
   "source": [
    "- Add a constant to all elements within an array:"
   ]
  },
  {
   "cell_type": "code",
   "execution_count": null,
   "id": "d97e8a6e-5ec2-46d9-a04a-a3473ef8c0f8",
   "metadata": {},
   "outputs": [],
   "source": [
    "#add 6:\n",
    "a2 + 6"
   ]
  },
  {
   "cell_type": "markdown",
   "id": "23566a50-52eb-4933-b9f8-35db2ea7a140",
   "metadata": {},
   "source": [
    "#### b. Subtraction:\n",
    "```python\n",
    "np.subtract(a1, a2)\n",
    "\n",
    "#or:\n",
    "a1 - a2\n",
    "```"
   ]
  },
  {
   "cell_type": "code",
   "execution_count": null,
   "id": "f076753b-fa49-4ac1-b6c7-567a8d23a8e9",
   "metadata": {},
   "outputs": [],
   "source": [
    "#for instance:\n",
    "np.subtract(a1, a2)"
   ]
  },
  {
   "cell_type": "code",
   "execution_count": null,
   "id": "61812d2a-3fb4-4bda-86d5-7abdc85c821f",
   "metadata": {},
   "outputs": [],
   "source": [
    "#or:\n",
    "a1 - a2"
   ]
  },
  {
   "cell_type": "markdown",
   "id": "c63326d7-11e6-4e07-869a-f188b9a21265",
   "metadata": {},
   "source": [
    "- Subtract all elements within an array by a constant"
   ]
  },
  {
   "cell_type": "code",
   "execution_count": null,
   "id": "ae70d639-5493-4a8c-a698-af592566ece5",
   "metadata": {},
   "outputs": [],
   "source": [
    "#subtract 9:\n",
    "a2 - 9"
   ]
  },
  {
   "cell_type": "markdown",
   "id": "f7683323-7722-4293-9e0a-11ea4825ce02",
   "metadata": {},
   "source": [
    "#### c. Multiplication:\n",
    "```python\n",
    "np.multiply(a1, a2)\n",
    "#or:\n",
    "a1*a2\n",
    "```"
   ]
  },
  {
   "cell_type": "code",
   "execution_count": null,
   "id": "5d25953d-df6f-4573-84a8-88e859ae9654",
   "metadata": {},
   "outputs": [],
   "source": [
    "#for instance:\n",
    "a1* a2"
   ]
  },
  {
   "cell_type": "code",
   "execution_count": null,
   "id": "b1accd30-5354-4ccb-8646-dbff5c4e7a61",
   "metadata": {},
   "outputs": [],
   "source": [
    "np.multiply(a1, a2)"
   ]
  },
  {
   "cell_type": "markdown",
   "id": "e6c9d69e-42c5-4324-ae49-21aacba1c20e",
   "metadata": {},
   "source": [
    "- Multiply all elements within an array with a constant:\n"
   ]
  },
  {
   "cell_type": "code",
   "execution_count": null,
   "id": "88cf0f70-ced7-4bed-9106-d18d28c90101",
   "metadata": {},
   "outputs": [],
   "source": [
    "a1 * 4"
   ]
  },
  {
   "cell_type": "markdown",
   "id": "ad7ae060-7116-478e-9ce1-1280c0795551",
   "metadata": {},
   "source": [
    "#### d. Division:\n",
    "```python\n",
    "a1/a2\n",
    "#or:\n",
    "np.divide(a1, a2)\n",
    "```"
   ]
  },
  {
   "cell_type": "code",
   "execution_count": null,
   "id": "c2765c75-94af-43be-a73f-8fd985d74b4d",
   "metadata": {},
   "outputs": [],
   "source": [
    "#for instance:\n",
    "a1/a2"
   ]
  },
  {
   "cell_type": "code",
   "execution_count": null,
   "id": "16248e78-decb-4f6d-b866-2036c6338d4c",
   "metadata": {},
   "outputs": [],
   "source": [
    "np.divide(a1, a2)"
   ]
  },
  {
   "cell_type": "markdown",
   "id": "be82da3a-bc31-4809-8a12-ea4b90ab143f",
   "metadata": {},
   "source": [
    "- divide all elements within an array by a constant"
   ]
  },
  {
   "cell_type": "code",
   "execution_count": null,
   "id": "0653999a-35dc-4574-a320-02bb3f502717",
   "metadata": {},
   "outputs": [],
   "source": [
    "a2/5"
   ]
  },
  {
   "cell_type": "markdown",
   "id": "704f3309-b118-4767-b0c9-b8768ffe8e47",
   "metadata": {},
   "source": [
    "#### e. Dot product:\n",
    "- It is only `possible` to conduct dot products on an array with shape (a * b) and an array with shape (b * a)\n",
    "```python\n",
    "np.dot(a1,a2)\n",
    "```"
   ]
  },
  {
   "cell_type": "code",
   "execution_count": null,
   "id": "2e4c840c-d25a-4468-b5fd-8febfc8420ee",
   "metadata": {},
   "outputs": [],
   "source": [
    "#for instance:\n",
    "a3 = np.array([\n",
    "    [2,43,54],\n",
    "    [33,5,2],\n",
    "    [235,5,2],\n",
    "    [3,53,2],\n",
    "    [2,3,54]\n",
    "])\n",
    "a3"
   ]
  },
  {
   "cell_type": "code",
   "execution_count": null,
   "id": "52a5b28b-0edb-465f-a567-3983e1e371fd",
   "metadata": {},
   "outputs": [],
   "source": [
    "print(f\"\"\"\n",
    "Since the shape of a1 is {a1.shape} and the shape of a3 is {a3.shape}. Hence it is possible to conduct dot product operations on both arrays.\n",
    "\"\"\")"
   ]
  },
  {
   "cell_type": "code",
   "execution_count": null,
   "id": "bf3bb3d6-ed28-45f0-b950-916993ac8bc4",
   "metadata": {},
   "outputs": [],
   "source": [
    "#dot product:\n",
    "np.dot(a1, a3)"
   ]
  },
  {
   "cell_type": "code",
   "execution_count": null,
   "id": "90f89daf-723c-4956-8d90-91095f1f14c3",
   "metadata": {},
   "outputs": [],
   "source": [
    "import numpy \n",
    "a1 = np.array([\n",
    "    [1,2,3],\n",
    "    [2,3,1]\n",
    "])\n",
    "\n",
    "a2 = np.array([\n",
    "    [0,1],\n",
    "    [1,3],\n",
    "    [1,2]\n",
    "])\n",
    "\n",
    "np.dot(a1, a2)"
   ]
  },
  {
   "cell_type": "code",
   "execution_count": null,
   "id": "04a8000b-81ee-48d7-8a6b-053fa1b51742",
   "metadata": {},
   "outputs": [],
   "source": []
  }
 ],
 "metadata": {
  "kernelspec": {
   "display_name": "Python 3 (ipykernel)",
   "language": "python",
   "name": "python3"
  },
  "language_info": {
   "codemirror_mode": {
    "name": "ipython",
    "version": 3
   },
   "file_extension": ".py",
   "mimetype": "text/x-python",
   "name": "python",
   "nbconvert_exporter": "python",
   "pygments_lexer": "ipython3",
   "version": "3.10.6"
  }
 },
 "nbformat": 4,
 "nbformat_minor": 5
}
