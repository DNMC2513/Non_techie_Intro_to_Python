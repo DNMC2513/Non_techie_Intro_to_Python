{
 "cells": [
  {
   "cell_type": "markdown",
   "id": "a9fd459f-0714-4a34-b343-ee8bbb074c66",
   "metadata": {},
   "source": [
    "# Data Structure: Overview of Tuples, Lists and Sets"
   ]
  },
  {
   "cell_type": "markdown",
   "id": "0f155bf2-0cd4-4660-8e37-df49e6e6638e",
   "metadata": {},
   "source": [
    "- Through previous chapters, we have learned about some data classes in Python, whose each object represents a single piece of information. Now, we will have the chance to get exposure to data structures which are classes of objects that can contain many other data pieces within. \n",
    "- A data structure can be considered as a box containing other objects, even smaller boxes within.\n",
    "- There are four types of data structures in Python:\n",
    "    - Tuples\n",
    "    - Lists\n",
    "    - Sets\n",
    "    - Dictionaries\n",
    "- In this topic, we will get into the definitions and comparisons between the first three types of data structures before digging deeper into each of them in the next topic.\n"
   ]
  },
  {
   "cell_type": "markdown",
   "id": "8e823e00-7b97-4283-9917-92f9028f138d",
   "metadata": {},
   "source": [
    "### `OUTLINE`:\n",
    "- I, Comparisons between Tuples, Lists and Sets\n",
    "- II, Create a data structure\n",
    "- III, Indexable\n",
    "- IV, Immutable"
   ]
  },
  {
   "cell_type": "markdown",
   "id": "7c2af08e-edec-4384-9af5-3b99ba165bc1",
   "metadata": {},
   "source": [
    "## I, Comparison between Tuples, Lists and Sets:"
   ]
  },
  {
   "cell_type": "markdown",
   "id": "bc19bea1-bf5e-481d-95b7-06db6bd1bb51",
   "metadata": {},
   "source": [
    "\n",
    "<table style = 'text-align: left; word-wrap:break-word;'>\n",
    "    <tr>\n",
    "        <th></th>\n",
    "        <th>A Tuple</th>\n",
    "        <th>A List</th>\n",
    "        <th>A Set</th>\n",
    "    </tr>        \n",
    "    <tr>\n",
    "        <th>Definition</th>\n",
    "        <th>A sequence of characters enclosed by a pair of ()</th>\n",
    "        <th>A sequence of characters enclosed by a pair of []</th>\n",
    "        <th>A UNIQUE Sequence of characters enclosed by a pair of {}</th>\n",
    "    </tr>    \n",
    "    <tr>\n",
    "        <th>Mutable or Not?</th>\n",
    "        <th>Immutable</th>\n",
    "        <th>Mutable</th>\n",
    "        <th>Mutable</th>\n",
    "    </tr>  \n",
    "    <tr>\n",
    "        <th>Methods to mutate</th>\n",
    "        <th>None</th>\n",
    "        <th>.append() <br> .extend() <br> del(list[]) <br> list[] = x</th>\n",
    "        <th>.add() <br> .remove() </th>\n",
    "    </tr>  \n",
    "    <tr>\n",
    "        <th>Indexable or not?</th>\n",
    "        <th>Indexable</th>\n",
    "        <th>Indexable</th>\n",
    "        <th>Not indexable</th>\n",
    "    </tr>  \n",
    "    <tr>\n",
    "        <th>Pros</th>\n",
    "        <th>Used to store unchanged arrays of data <br>\n",
    "        Memory efficient</th>\n",
    "        <th>Flexible ammendment</th>\n",
    "        <th>Filter out all duplicate values <br>\n",
    "        Conduct logical operations</th>\n",
    "    </tr>   \n",
    "</table>    "
   ]
  },
  {
   "cell_type": "markdown",
   "id": "378a3a31-ea31-4de6-9159-12b9ff4986ef",
   "metadata": {},
   "source": [
    "## II, Create a data structure:"
   ]
  },
  {
   "cell_type": "markdown",
   "id": "56976c62-3390-42a3-be67-a13e9037a62b",
   "metadata": {},
   "source": [
    "### 1, Create a tuple:\n",
    "- A tuple is defined by a sequence of characters enclosed by a pair of parentheses (). A tuple can contain objects of all classes, even itself."
   ]
  },
  {
   "cell_type": "code",
   "execution_count": null,
   "id": "df274ac9-9613-4d93-94d6-665fb0366fbe",
   "metadata": {},
   "outputs": [],
   "source": [
    "#For instance:\n",
    "tup1 = (1, 'a', 2.0, (1,2,3))\n",
    "print(type(tup1))\n",
    "tup1"
   ]
  },
  {
   "cell_type": "markdown",
   "id": "f7bec616-f001-4b69-8935-a7392ad4552c",
   "metadata": {},
   "source": [
    "<p style = \"color:cyan\">Ex_Create a tuple named tup2 that contains: 13.5, 23, 'This is a beautiful day.' Then display it on the screen.\n",
    "\n",
    "</p>\n"
   ]
  },
  {
   "cell_type": "code",
   "execution_count": null,
   "id": "c0906dca-0bf6-4e83-89ad-dd009189db77",
   "metadata": {},
   "outputs": [],
   "source": [
    "#Type here:\n"
   ]
  },
  {
   "cell_type": "markdown",
   "id": "b48574c2-5aac-4dc0-84ec-2a30203791e5",
   "metadata": {},
   "source": [
    "<details><summary > Click here for the solution after you've done the task:\n",
    "</summary>\n",
    "    \n",
    "```python\n",
    "#Type here:\n",
    "tup2 = (13.5, 23, 'This is a beautiful day.')\n",
    "tup2\n",
    "```\n",
    "</details>"
   ]
  },
  {
   "cell_type": "markdown",
   "id": "9e9e0c82-6971-4225-848b-14fdab845245",
   "metadata": {},
   "source": [
    "<p style = \"color:cyan\">Ex_Create a tuple named tup3 that contains: \"abc\", 135, 30.222, (343, 123,54). Then display it on the screen.\n",
    "\n",
    "</p>\n"
   ]
  },
  {
   "cell_type": "code",
   "execution_count": null,
   "id": "db75394b-d367-429a-8e78-7578c1c2775e",
   "metadata": {},
   "outputs": [],
   "source": [
    "#Type here:\n"
   ]
  },
  {
   "cell_type": "markdown",
   "id": "0886f84a-b37e-4205-b185-b5e4db781ac2",
   "metadata": {},
   "source": [
    "<details><summary > Click here for the solution after you've done the task:\n",
    "</summary>\n",
    "    \n",
    "```python\n",
    "#Type here:\n",
    "tup3 = (\"abc\", 135, 30.222, (343, 123,54))\n",
    "tup3\n",
    "```\n",
    "</details>"
   ]
  },
  {
   "cell_type": "markdown",
   "id": "c2eee038-d26e-443a-8ffd-d82c460424af",
   "metadata": {},
   "source": [
    "### 2, Create a list:\n",
    "- A list is defined by a sequence of characters enclosed by a pair of parentheses []. A list can contain objects of all classes, even itself."
   ]
  },
  {
   "cell_type": "code",
   "execution_count": null,
   "id": "139d51e6-bfe0-4a42-b9ae-226796b487be",
   "metadata": {},
   "outputs": [],
   "source": [
    "#For instance:\n",
    "list1 = [tup1, 'a', 1, 1.0, True]\n",
    "print(type(list1))\n",
    "list1"
   ]
  },
  {
   "cell_type": "markdown",
   "id": "afd4d670-e9e9-4fa9-a381-6f68630979e2",
   "metadata": {},
   "source": [
    "<p style = \"color:cyan\">Ex_Create a list named list2 that contains: 13.5, 23, 'This is a beautiful day.' Then display it on the screen.\n",
    "\n",
    "</p>"
   ]
  },
  {
   "cell_type": "code",
   "execution_count": null,
   "id": "31fb8808-4b1b-4652-aa16-ea1d5c1b69d3",
   "metadata": {},
   "outputs": [],
   "source": [
    "#Type here:\n"
   ]
  },
  {
   "cell_type": "markdown",
   "id": "9b56342b-860c-4fb9-b6fc-7c8cbd14e675",
   "metadata": {},
   "source": [
    "<details><summary > Click here for the solution after you've done the task:\n",
    "</summary>\n",
    "    \n",
    "```python\n",
    "#Type here:\n",
    "list2 = [13.5, 23, 'This is a beautiful day.']\n",
    "list2\n",
    "```\n",
    "</details>"
   ]
  },
  {
   "cell_type": "markdown",
   "id": "e0a10a05-b80a-4c22-be19-1d0fb937adb9",
   "metadata": {},
   "source": [
    "<p style = \"color:cyan\">Ex_Create a list named list3 that contains: list1, list2, tup1.' Check the type of the variable you've created and display the content of it on the screen.\n",
    "\n",
    "</p>\n"
   ]
  },
  {
   "cell_type": "code",
   "execution_count": null,
   "id": "b0005873-28bb-4acc-b949-96ef27a6c2ba",
   "metadata": {},
   "outputs": [],
   "source": [
    "#Type here:\n"
   ]
  },
  {
   "cell_type": "markdown",
   "id": "39854191-83f1-4952-aca0-5f29d74f5b81",
   "metadata": {},
   "source": [
    "<details><summary > Click here for the solution after you've done the task:\n",
    "</summary>\n",
    "    \n",
    "```python\n",
    "#Type here:\n",
    "list3 = [list1, list2, tup1]\n",
    "print(type(list3))\n",
    "list3\n",
    "```\n",
    "</details>"
   ]
  },
  {
   "cell_type": "markdown",
   "id": "c9a5b52a-e04a-4f97-9309-642a022adb2d",
   "metadata": {},
   "source": [
    "### 3, Create a set:\n",
    "- A set is defined by a UNIQUE sequence of characters enclosed by a pair of parentheses {}. A set can contain objects of all classes, even itself. \n",
    "- Bear in mind that there is no duplicate in a set. "
   ]
  },
  {
   "cell_type": "code",
   "execution_count": null,
   "id": "b73733bc-45e7-403f-a3f4-1e863e33c619",
   "metadata": {},
   "outputs": [],
   "source": [
    "#For instance:\n",
    "set1 = {tup1, 'a', 123, False, 2.33}\n",
    "print(type(set1))\n",
    "set1"
   ]
  },
  {
   "cell_type": "markdown",
   "id": "525f2a88-9bbb-4528-bd78-3049340133da",
   "metadata": {},
   "source": [
    "<p style = \"color:cyan\">Ex_Create a set named set2 that contains: 13.5, 23, 'This is a beautiful day.' Then display it on the screen.\n",
    "\n",
    "</p>"
   ]
  },
  {
   "cell_type": "code",
   "execution_count": null,
   "id": "9ecab102-b8e2-4745-af98-258ff183d5ea",
   "metadata": {},
   "outputs": [],
   "source": [
    "#Type here:\n"
   ]
  },
  {
   "cell_type": "markdown",
   "id": "508d87fc-ec17-42a1-ae94-cf713f7857db",
   "metadata": {},
   "source": [
    "<details><summary > Click here for the solution after you've done the task:\n",
    "</summary>\n",
    "    \n",
    "```python\n",
    "#Type here:\n",
    "set2 = { 13.5, 23, 'This is a beautiful day.'}\n",
    "set2\n",
    "```\n",
    "</details>"
   ]
  },
  {
   "cell_type": "markdown",
   "id": "7bb13013-3021-4e22-944b-66ff0c625de7",
   "metadata": {
    "tags": []
   },
   "source": [
    "<p style = \"color:cyan\">Ex_Create a set named set3 that contains: list1, list2, tup1.' Check the type of the variable you've created and  display the content of it on the screen.\n",
    "\n",
    "</p>\n"
   ]
  },
  {
   "cell_type": "code",
   "execution_count": null,
   "id": "7e6c0c27-843f-4e32-9444-67d69763b91a",
   "metadata": {},
   "outputs": [],
   "source": [
    "#Type here:\n"
   ]
  },
  {
   "cell_type": "markdown",
   "id": "074b2f9b-13e7-4deb-bfe1-ab4de7ec1f6a",
   "metadata": {},
   "source": [
    "<details><summary > Click here for the solution after you've done the task:\n",
    "</summary>\n",
    "    \n",
    "```python\n",
    "#Type here:\n",
    "set3 = {list1, list2, tup1}\n",
    "print(type(set3))\n",
    "set3```\n",
    "</details>"
   ]
  },
  {
   "cell_type": "markdown",
   "id": "d8c75a33-2720-4ccb-815b-b82078a8c099",
   "metadata": {},
   "source": [
    "## III, Indexable:\n",
    "- Indexable here means whether it is possible to give each element within a data structure a number based on its position, to work with or not.\n"
   ]
  },
  {
   "cell_type": "markdown",
   "id": "95b8ea0d-f405-487e-9a69-72079c9c761b",
   "metadata": {},
   "source": [
    "- `Tuples` and `lists` are indexable since we can index elements within an object of any of them, and call out them using the indexes. For instance:"
   ]
  },
  {
   "cell_type": "code",
   "execution_count": null,
   "id": "1af0d8db-4d78-4e65-b034-9b00ec055ef0",
   "metadata": {},
   "outputs": [],
   "source": [
    "tup1"
   ]
  },
  {
   "cell_type": "code",
   "execution_count": null,
   "id": "9fd5eb7c-b4d5-4ef9-9e69-55c6bfbff84c",
   "metadata": {},
   "outputs": [],
   "source": [
    "#Call out elements wihtin using indexes:\n",
    "print('the 0-indexed of tup1:', tup1[0])\n",
    "print('the 1-indexed of tup1:', tup1[1])\n",
    "print('the 2-indexed of tup1:', tup1[2])\n",
    "print('the 3-indexed of tup1:', tup1[3])"
   ]
  },
  {
   "cell_type": "code",
   "execution_count": null,
   "id": "d0be6a72-bd5f-425d-a4b7-fa31af0ab553",
   "metadata": {},
   "outputs": [],
   "source": [
    "list1"
   ]
  },
  {
   "cell_type": "code",
   "execution_count": null,
   "id": "7ab61441-4615-45ff-8833-788f6048f568",
   "metadata": {},
   "outputs": [],
   "source": [
    "#Call out elements wihtin using indexes:\n",
    "print('the 0-indexed of list1:', list1[0])\n",
    "print('the 1-indexed of list1:', list1[1])\n",
    "print('the 2-indexed of list1:', list1[2])\n",
    "print('the 3-indexed of list1:', list1[3])\n",
    "print('the 4-indexed of list1:', list1[4])\n"
   ]
  },
  {
   "cell_type": "markdown",
   "id": "652768ed-c0f4-4671-8f76-fd3d736116fb",
   "metadata": {},
   "source": [
    "- However, it is impossible for us to do the same thing with a `set`. For instance:"
   ]
  },
  {
   "cell_type": "code",
   "execution_count": null,
   "id": "2e5cb7a3-7a79-4367-9e46-0a0a4b591d27",
   "metadata": {},
   "outputs": [],
   "source": [
    "set1"
   ]
  },
  {
   "cell_type": "code",
   "execution_count": null,
   "id": "dea087fe-0be9-49a0-81ba-d18d43f3da56",
   "metadata": {},
   "outputs": [],
   "source": [
    "#Call out elements wihtin using indexes:\n",
    "print('the 0-indexed of set1:', set1[0])\n",
    "print('the 1-indexed of set1:', set1[1])\n",
    "print('the 2-indexed of set1:', set1[2])\n",
    "print('the 3-indexed of set1:', set1[3])\n",
    "print('the 4-indexed of set1:', set1[4])\n"
   ]
  },
  {
   "cell_type": "markdown",
   "id": "675c4520-96d9-4afe-ba7f-adba735b9988",
   "metadata": {},
   "source": [
    "> You can see the type error pops up once you execute the code block."
   ]
  },
  {
   "cell_type": "markdown",
   "id": "b48958e5-8dca-4360-bd86-ace402607529",
   "metadata": {},
   "source": [
    "There are `two ways of index`:\n",
    "- Positive indexing: the first element is indexed as 0, the second element is indexed as 1, and so forth.\n",
    "    - Briefly, the n-th element in the sequence is indexed as (n-1)th.\n",
    "    - `We have been doing positive index since the start of the topic.`\n",
    "- Negative indexing: the last element is indexed as -1, the previous element is indexed as -2, and so forth."
   ]
  },
  {
   "cell_type": "markdown",
   "id": "6b74d593-e4c7-4754-9d81-155a7c66e43c",
   "metadata": {},
   "source": [
    "<p style = \"color:cyan\">Ex_Call out the last element and the second last element of the tup1.\n",
    "\n",
    "</p>\n"
   ]
  },
  {
   "cell_type": "code",
   "execution_count": null,
   "id": "f56d9edb-8ef4-4899-a2dc-552cff30a4a6",
   "metadata": {},
   "outputs": [],
   "source": [
    "#Type here:\n"
   ]
  },
  {
   "cell_type": "markdown",
   "id": "5df0a2e0-3b0a-4d84-924b-25c31effdede",
   "metadata": {},
   "source": [
    "<details><summary > Click here for the solution after you've done the task:\n",
    "</summary>\n",
    "    \n",
    "```python\n",
    "#Type here:\n",
    "print(tup1[-1])\n",
    "print(tup1[-2])\n",
    "```\n",
    "</details>"
   ]
  },
  {
   "cell_type": "markdown",
   "id": "4753b81b-2998-41fc-bdc8-fa90b047ff26",
   "metadata": {},
   "source": [
    "To `slice` data from lists and tuples we can use this command:\n",
    "`list[Start:(End+1):Step]`. For instance:"
   ]
  },
  {
   "cell_type": "code",
   "execution_count": null,
   "id": "cde6cee7-80e1-43ce-939a-714f0eb841c3",
   "metadata": {},
   "outputs": [],
   "source": [
    "listd = [1,2,3,5,1,5,12,35,123,54]\n",
    "listd[0:7:2]"
   ]
  },
  {
   "cell_type": "markdown",
   "id": "9e8c32b2-52bb-408e-a382-a45e53ff6983",
   "metadata": {},
   "source": [
    "> We just displayed the range of elements indexed from 0 to 6 (= 7-1), taking one of every two consecutive elements."
   ]
  },
  {
   "cell_type": "markdown",
   "id": "6effca49-7e06-4951-bf5b-a0b08d28b7ef",
   "metadata": {},
   "source": [
    "\n",
    "Since a data structure can contain all classes, even an object of the same class. We can also call out the elements of a data structure inside another. For instance:\n"
   ]
  },
  {
   "cell_type": "code",
   "execution_count": null,
   "id": "f0bb1f16-6520-4186-bbe8-e65cde5852ac",
   "metadata": {},
   "outputs": [],
   "source": [
    "tupe = (1,2,3,5, (123, (11,12)))\n",
    "tupe[4][1][1]"
   ]
  },
  {
   "cell_type": "markdown",
   "id": "f69f31e4-ac01-40c7-904b-f3dc69354e9c",
   "metadata": {
    "tags": []
   },
   "source": [
    "> 4 is the index of (123,(11,12)) inside the tupe\n",
    "\n",
    "> 1 is the index of (11,12) inside (123,(11,12))\n",
    "\n",
    "> 1 is the index of 12 inside (11,12)"
   ]
  },
  {
   "cell_type": "markdown",
   "id": "fb2902fb-50f1-46de-8b35-e6634b6dde05",
   "metadata": {},
   "source": [
    "<p style = \"color:cyan\">Ex_Call out the numerical value of 123 within the tupe.\n",
    "\n",
    "</p>\n"
   ]
  },
  {
   "cell_type": "code",
   "execution_count": null,
   "id": "78c18ae7-86e5-4a6f-be7b-c43a54b331b8",
   "metadata": {},
   "outputs": [],
   "source": [
    "#Type here:\n"
   ]
  },
  {
   "cell_type": "markdown",
   "id": "1b7c9515-c0f0-4e10-875f-7c5ac3aceb40",
   "metadata": {},
   "source": [
    "<details><summary > Click here for the solution after you've done the task:\n",
    "</summary>\n",
    "    \n",
    "```python\n",
    "#Type here:\n",
    "tupe[4][0]\n",
    "```\n",
    "\n",
    "> Since: \n",
    "    - 4 is the index of the tuple (123, (11,12).\n",
    "    - 0 is the index of our target.\n",
    "</details>"
   ]
  },
  {
   "cell_type": "markdown",
   "id": "44c249ff-4d80-4dea-ab64-77b4c4656c82",
   "metadata": {},
   "source": [
    "### IV, Immutable or Mutable:"
   ]
  },
  {
   "cell_type": "markdown",
   "id": "1f405ca6-8a4b-4cc3-b5f7-1ca4a9218f20",
   "metadata": {},
   "source": [
    " We all know an object is mutable when we can alter the value after creating it. However, how can we ensure that we modify the same object, not create a new one with the same identifier/name? By displaying the id of the object, using the `id()` function."
   ]
  },
  {
   "cell_type": "markdown",
   "id": "e29cfe52-e1a4-4303-9901-e6e2f03a6fd6",
   "metadata": {},
   "source": [
    "#### a, What is an id?\n",
    "- id is a short form for identity. An identity of an object in Python is its life-time address in heap memory. Heap memory is where our Python stores literal values and variables, and it is attached to a Virtual Machine, not the device's memory."
   ]
  },
  {
   "cell_type": "markdown",
   "id": "2d96a49c-a5ff-4199-acca-057a865396f2",
   "metadata": {
    "tags": []
   },
   "source": [
    "- When it comes to `data that are not data structure`, different variables may have the same id if they have the same assigned values. For instance:"
   ]
  },
  {
   "cell_type": "code",
   "execution_count": null,
   "id": "72ebc9b3-c28b-4b25-b16c-80ee7628d080",
   "metadata": {},
   "outputs": [],
   "source": [
    "a = 5\n",
    "b = 5\n",
    "print('id(a):', id(a))\n",
    "print('id(b):', id(b))\n",
    "print('id(5):', id(5))\n",
    "id(a)==id(b)== id(5)"
   ]
  },
  {
   "cell_type": "markdown",
   "id": "21ccca2c-0a0a-4fa7-9a11-982a4bf8f629",
   "metadata": {
    "tags": []
   },
   "source": [
    "- When it comes to `data structures`, variables assigned the same set of characters do not have the same id. For instance:"
   ]
  },
  {
   "cell_type": "code",
   "execution_count": null,
   "id": "87faae4c-cce1-49e0-ad40-e244880ff1c3",
   "metadata": {},
   "outputs": [],
   "source": [
    "list_a = [1,3,5,5,2]\n",
    "list_b = [1,3,5,5,2]\n",
    "print('id(list_a)', id(list_a))\n",
    "print('id(list_b)', id(list_b))\n",
    "print('id([[1,3,5,5,2])', id([1,3,5,5,2]))\n",
    "id(list_a) == id(list_b)== id([1,3,5,5,2])"
   ]
  },
  {
   "cell_type": "markdown",
   "id": "518729c6-4cf3-487f-82ff-8f09ce5d29ad",
   "metadata": {},
   "source": [
    "Even if the two variables have the same name and are assigned the same data structure, they still have different ids. For instance:"
   ]
  },
  {
   "cell_type": "code",
   "execution_count": null,
   "id": "1a8a6442-b8ac-4f55-8e41-9acb6be30296",
   "metadata": {},
   "outputs": [],
   "source": [
    "setb = {1,2,3}\n",
    "print('The id of the first setb:', id(setb))\n",
    "setb = {1,2,3}\n",
    "print('The id of the second setb:', id(setb))"
   ]
  },
  {
   "cell_type": "markdown",
   "id": "da1731ce-4b14-4757-b50e-ad503b2c0207",
   "metadata": {},
   "source": [
    "### b, Making modifications to a data structure by using methods associated with its class:"
   ]
  },
  {
   "cell_type": "markdown",
   "id": "ed5484d6-fea0-46f5-9d48-0cb4abdb0f12",
   "metadata": {},
   "source": [
    "- We modify a data structure using methods associated with its class.\n",
    "- When you `concatenate` one list with another to form a new list with the same name as any of the other two, it `creates a new variable`.\n",
    "    - In other words, despite the identical results, there is a difference between:\n",
    "```python\n",
    "lista = lista + [1,2,3]\n",
    "#and:\n",
    "lista.extend([1,2,3])\n",
    "```\n",
    "\n",
    "Let's examine our statement."
   ]
  },
  {
   "cell_type": "code",
   "execution_count": null,
   "id": "aaf11d75-29a5-4308-b88c-ddbef2475a4b",
   "metadata": {},
   "outputs": [],
   "source": [
    "lista = [3,4,5]\n",
    "print('The id of lista before applying the extend method:', id(lista))\n",
    "lista.append([1,2,3])\n",
    "print('The id of lista after applying the extend method:', id(lista))"
   ]
  },
  {
   "cell_type": "code",
   "execution_count": null,
   "id": "f4790a46-eaf3-4b65-b437-10b1a57c5248",
   "metadata": {},
   "outputs": [],
   "source": [
    "lista = [3,4,5]\n",
    "print('The id of lista before concatenation:', id(lista))\n",
    "lista = lista + [1,2,3]\n",
    "print('The id of lista after concatenation:', id(lista))"
   ]
  },
  {
   "cell_type": "markdown",
   "id": "4740908a-60d8-4765-a0e1-76a874e46980",
   "metadata": {},
   "source": [
    "## `It is possible for us to mutate lists and sets, not tuples.`"
   ]
  }
 ],
 "metadata": {
  "kernelspec": {
   "display_name": "Python 3 (ipykernel)",
   "language": "python",
   "name": "python3"
  },
  "language_info": {
   "codemirror_mode": {
    "name": "ipython",
    "version": 3
   },
   "file_extension": ".py",
   "mimetype": "text/x-python",
   "name": "python",
   "nbconvert_exporter": "python",
   "pygments_lexer": "ipython3",
   "version": "3.10.6"
  }
 },
 "nbformat": 4,
 "nbformat_minor": 5
}
