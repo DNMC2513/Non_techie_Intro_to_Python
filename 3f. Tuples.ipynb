{
 "cells": [
  {
   "cell_type": "markdown",
   "id": "6a807abd-b973-42a8-b7bb-0d87bc5e69bb",
   "metadata": {},
   "source": [
    "# Data Structure: Tuples"
   ]
  },
  {
   "cell_type": "markdown",
   "id": "ea743edf-3e3e-4693-9959-731592d159ab",
   "metadata": {},
   "source": [
    "## `OUTLINE`:\n",
    "- I, Definition:\n",
    "- II, Index and slice: \n",
    "    - len()\n",
    "- III, Immutable:\n",
    "- IV, Concatenate tuples:\n",
    "- V, Sort a tuple into a sorted list:\n",
    "- VI, Appendix:\n",
    "    - Create nested tuples\n",
    "    - Call out elements of the same index within nested tuples\n",
    "    - Assign values within a tuple to variables\n",
    "    - Count the frequency of a value within a tuple\n"
   ]
  },
  {
   "cell_type": "markdown",
   "id": "3e0e08a8-b9cf-4086-bec1-e1e2532c8835",
   "metadata": {},
   "source": [
    "## I, Definition:\n",
    "- Return to the topic `3d. Overview of Tuples, Lists and Sets` to revise."
   ]
  },
  {
   "cell_type": "markdown",
   "id": "a978c3e9-9949-4c1e-a564-8ca3534e14e6",
   "metadata": {},
   "source": [
    "## II, Index and slice:\n",
    "- Return to the section `III, Indexable` of the topic `3d. Overview of Tuples, Lists and Sets` for more information.\n",
    "- To make our work easier, we can use the function `len()` to find the number of objects that a tuple consist of."
   ]
  },
  {
   "cell_type": "code",
   "execution_count": null,
   "id": "9063ef05-1d5b-4e0b-86a1-38fc20ecc331",
   "metadata": {},
   "outputs": [],
   "source": [
    "#For Instance:\n",
    "tup1 = (1,'235,2323', [435432,444411],4543254325)\n",
    "len(tup1)"
   ]
  },
  {
   "cell_type": "markdown",
   "id": "0dbb0b7f-75a5-4c79-b5a9-e18b9a9d4da9",
   "metadata": {},
   "source": [
    "## III, Immutable:\n",
    "- Briefly, tuples are immutable. Once your create a tuple, there is no way to modify its contents.\n",
    "- Return to the section `IV, Immutable` of the topic `3d. Overview of Tuples, Lists and Sets` for more information."
   ]
  },
  {
   "cell_type": "markdown",
   "id": "e7266201-b273-4522-8984-0b67929972de",
   "metadata": {},
   "source": [
    "## IV, Concatenate tuples:\n",
    "- We can combine all elements within several tuples into one tuple using the symbol `+`.\n",
    "- For instance:"
   ]
  },
  {
   "cell_type": "code",
   "execution_count": null,
   "id": "4bda7316-be24-4acc-9249-3b564d733bc0",
   "metadata": {},
   "outputs": [],
   "source": [
    "tup2 = (1235,12313,11,55,[454,342345,{1345}])\n",
    "tup3 = (35.123, 3524, True, False)\n",
    "tup4 = tup1 + tup2 + tup3\n",
    "tup4"
   ]
  },
  {
   "cell_type": "markdown",
   "id": "408df554-6349-47a9-9277-1d3c971ac5e4",
   "metadata": {},
   "source": [
    "<p style = \"color:cyan\"> Ex_Create a tuple named tup5 that consists of all elements of tup1, tup2, tup3, tup4. </p>"
   ]
  },
  {
   "cell_type": "code",
   "execution_count": null,
   "id": "f7e8f0f0-b36c-4640-9535-a4585fd492e0",
   "metadata": {},
   "outputs": [],
   "source": [
    "#Type here:\n"
   ]
  },
  {
   "cell_type": "markdown",
   "id": "a1f2b55e-39e9-44db-9e28-5fe3c4d80f92",
   "metadata": {},
   "source": [
    "<details><summary>Click here for solution after you've done the task:  \n",
    "</summary>\n",
    "    \n",
    "```python\n",
    "#Type here:\n",
    "tup5 = tup1 + tup2 + tup3 + tup4 \n",
    "tup5\n",
    "```    \n",
    "</details>\n"
   ]
  },
  {
   "cell_type": "markdown",
   "id": "b3c7bd6e-2077-4930-9daa-157c3fa2b639",
   "metadata": {},
   "source": [
    "## V, Sort a tuple into a sorted list:"
   ]
  },
  {
   "cell_type": "markdown",
   "id": "97071743-96be-4444-ad43-428b4754b26f",
   "metadata": {},
   "source": [
    "To sort a tuple of elements with no order, we use the `sorted()` function with the name of the tuple within the parentheses. With the `sorted()` function, we can arrange our tuple in both ascending and descending orders."
   ]
  },
  {
   "cell_type": "markdown",
   "id": "59a94053-c469-4fe8-a320-a804e75a9af9",
   "metadata": {},
   "source": [
    "- To arrange a tuple in an ascending order, we only need to pass the name of the tuple inside the parentheses. For insance: `sorted(tup1)`"
   ]
  },
  {
   "cell_type": "code",
   "execution_count": null,
   "id": "7df8fc60-29a1-45c8-af5f-d7b093c86f16",
   "metadata": {},
   "outputs": [],
   "source": [
    "#For instance:\n",
    "tup9 = (123,5432,3534213,5555,67765)\n",
    "tup10 = sorted(tup9)\n",
    "print(tup10)\n",
    "print('The type of tup10 is:', type(tup10))"
   ]
  },
  {
   "cell_type": "markdown",
   "id": "7031cc98-e5a8-4e70-b520-3bc1459b461d",
   "metadata": {},
   "source": [
    "- To arrange a tuple in a descending order, we need to pass the name of the tuple and set the argument `reverse = True` inide the parentheses."
   ]
  },
  {
   "cell_type": "code",
   "execution_count": null,
   "id": "e0a4f044-9a16-4cfe-9088-68921986dbbf",
   "metadata": {},
   "outputs": [],
   "source": [
    "#For instance:\n",
    "tup11 = sorted(tup9, reverse = True)\n",
    "tup11"
   ]
  },
  {
   "cell_type": "code",
   "execution_count": null,
   "id": "0b7ac196-9d72-4794-9528-eccc93e27b3c",
   "metadata": {},
   "outputs": [],
   "source": [
    "#For instance:\n",
    "tup12 = ('adb', 'asdg', 'ad')\n",
    "tup13 = sorted(tup12)\n",
    "tup13"
   ]
  },
  {
   "cell_type": "code",
   "execution_count": null,
   "id": "2af90d43-be9f-4cc6-a46c-4b6492a1e06e",
   "metadata": {},
   "outputs": [],
   "source": [
    "#For instance:\n",
    "tup14 = tup12 + tup9\n",
    "tup15 = sorted(tup14, reverse = True)\n",
    "tup15"
   ]
  },
  {
   "cell_type": "markdown",
   "id": "19d848e2-406a-461c-924a-e1937322a2a6",
   "metadata": {},
   "source": [
    ">After executing the previous code block, you will 100% encounter a TypeError."
   ]
  },
  {
   "cell_type": "markdown",
   "id": "e9bb334c-2fcd-4ca6-8fc1-47bb532bd908",
   "metadata": {},
   "source": [
    "- `sorted()` only supports arrangement in a tuple containning all elements of the same type, it cannot do cross-order.\n",
    "- The ascending precendence of `sorted()` function is:\n",
    "    - The alphabet order.\n",
    "    - The number of characters within each string element. The shortest string will be ordered first then comes strings with more charactesr within."
   ]
  },
  {
   "cell_type": "markdown",
   "id": "1ac0ae1e-bf30-46fa-9206-96af052464d3",
   "metadata": {},
   "source": [
    "<p style = \"color:cyan\">Ex_Sort the following tuple in alphabet order\n",
    "\n",
    "</p>\n",
    "\n",
    "tup = ('ab', 'ac', 'bc', 'ccb', 'bbc', 'bcc')\n"
   ]
  },
  {
   "cell_type": "code",
   "execution_count": null,
   "id": "3ab88fbb-03bb-481e-bf90-facdbfbb17dd",
   "metadata": {},
   "outputs": [],
   "source": [
    "#Type here:\n"
   ]
  },
  {
   "cell_type": "markdown",
   "id": "4ee0680c-1b50-4bdc-b298-8f5b68e8e21a",
   "metadata": {},
   "source": [
    "<details><summary > Click here for the solution after you've done the task:\n",
    "</summary>\n",
    "    \n",
    "```python\n",
    "#Type here:\n",
    "tup = ('ab', 'ac', 'bc', 'ccb', 'bbc', 'bcc')\n",
    "new = sorted(tup)\n",
    "new\n",
    "```\n",
    "</details>"
   ]
  },
  {
   "cell_type": "markdown",
   "id": "acf216e1-7072-41c2-a5e8-569a64dec62a",
   "metadata": {},
   "source": [
    "## VI, Appendix"
   ]
  },
  {
   "cell_type": "markdown",
   "id": "79e1b91c-000b-42fe-9192-e5807ca0174f",
   "metadata": {},
   "source": [
    "### 1, Create nested tuples:"
   ]
  },
  {
   "cell_type": "code",
   "execution_count": null,
   "id": "f4978e8b-b9ff-4065-8820-87bc6a15ae26",
   "metadata": {},
   "outputs": [],
   "source": [
    "nsted = (1,2), (2,35,22,3), (454,33)\n",
    "nsted"
   ]
  },
  {
   "cell_type": "markdown",
   "id": "4b3e0d4f-ab64-4dad-bdb6-93f4a678eaaa",
   "metadata": {},
   "source": [
    "<p style = \"color:cyan\">Ex_Create a nested tuple as below:\n",
    "</p>\n",
    "\n",
    "nest = ([12,354,454,3], (323,332,545,2), (324,(34,33)))\n"
   ]
  },
  {
   "cell_type": "code",
   "execution_count": null,
   "id": "a7484d57-d0ef-402c-8ef9-b45612fc99bd",
   "metadata": {},
   "outputs": [],
   "source": [
    "#Type here:\n"
   ]
  },
  {
   "cell_type": "markdown",
   "id": "bf1d3a1b-c871-44ac-abdb-d546931e2608",
   "metadata": {},
   "source": [
    "<details><summary>Click here for solution after you've done the task:  \n",
    "</summary>\n",
    "    \n",
    "```python\n",
    "#Type here:\n",
    "nest = (\n",
    "    [12, 345, 545, 4],\n",
    "    (323, 332, 545, 2),\n",
    "    (324, (34, 33))\n",
    ")\n",
    "\n",
    "nest\n",
    "```    \n",
    "</details>\n"
   ]
  },
  {
   "cell_type": "markdown",
   "id": "456b456e-cac9-4af9-81b2-566f6e96f22c",
   "metadata": {},
   "source": [
    "### 2, Call out elmts of the same index across nested tuples:"
   ]
  },
  {
   "cell_type": "code",
   "execution_count": null,
   "id": "7ee70963-c3b8-446e-8416-510e95a844d9",
   "metadata": {},
   "outputs": [],
   "source": [
    "[x[0] for x in nsted]"
   ]
  },
  {
   "cell_type": "markdown",
   "id": "bc814afe-d8fb-4110-901a-861c71916317",
   "metadata": {},
   "source": [
    "<p style = \"color:cyan\">Ex _ Call out the last element within each data structure inside the tuple named nest\n",
    "</p>"
   ]
  },
  {
   "cell_type": "code",
   "execution_count": null,
   "id": "4b6c71e1-09d6-464c-8c55-2e6373b1aedc",
   "metadata": {},
   "outputs": [],
   "source": [
    "#Type here:\n"
   ]
  },
  {
   "cell_type": "markdown",
   "id": "177e2fc3-9704-43d3-a040-5d8c65140a87",
   "metadata": {},
   "source": [
    "<details><summary>Click here for solution after you've done the task:  \n",
    "</summary>\n",
    "    \n",
    "```python\n",
    "#Type here:\n",
    "[y[-1] for y in nest]\n",
    "```    \n",
    "</details>\n"
   ]
  },
  {
   "cell_type": "markdown",
   "id": "8bbf1dd0-fc6b-46ae-af0d-648ec47a49e8",
   "metadata": {},
   "source": [
    "### 3, Assign values of a tuple to variables:"
   ]
  },
  {
   "cell_type": "code",
   "execution_count": null,
   "id": "1f26e17f-3e55-4dfb-bade-ed206cf7690b",
   "metadata": {},
   "outputs": [],
   "source": [
    "a, b, c = nsted\n",
    "print(a)\n",
    "print(b)\n",
    "print(c)"
   ]
  },
  {
   "cell_type": "markdown",
   "id": "ce2b1648-01e9-44d7-81a0-d37eb33c94f6",
   "metadata": {},
   "source": [
    "<p style = \"color:cyan\">Ex _ Assign the values data structures within the tuple named nest into variables d, e, and f respectively. Then print the variables onto the screen.</p>"
   ]
  },
  {
   "cell_type": "code",
   "execution_count": null,
   "id": "eed40af2-d0c6-450f-bd6d-fe8e8c3d54e1",
   "metadata": {},
   "outputs": [],
   "source": [
    "#Type here:\n"
   ]
  },
  {
   "cell_type": "markdown",
   "id": "4c1368f9-497a-464e-9f7f-a53fd3195a08",
   "metadata": {},
   "source": [
    "<details><summary>Click here for solution after you've done the task:  \n",
    "</summary>\n",
    "    \n",
    "```python\n",
    "#Type here: \n",
    "d, e, f = nest\n",
    "print(d)\n",
    "print(e)\n",
    "print(f)\n",
    "```    \n",
    "</details>\n"
   ]
  },
  {
   "cell_type": "markdown",
   "id": "5cd2ad7c-5668-43ca-b1ad-e769b926abd6",
   "metadata": {},
   "source": [
    "### 4, Count the values frequency:"
   ]
  },
  {
   "cell_type": "code",
   "execution_count": null,
   "id": "31fa8ddb-64f1-498a-b995-b3b7c28636e7",
   "metadata": {},
   "outputs": [],
   "source": [
    "tup = (1,1,1,1,1,1,3,3,3,5,5,3,5,5,5)"
   ]
  },
  {
   "cell_type": "code",
   "execution_count": null,
   "id": "a30d85be-3204-4b94-a2f7-4b250f54d1b3",
   "metadata": {},
   "outputs": [],
   "source": [
    "tup.count(1)"
   ]
  },
  {
   "cell_type": "markdown",
   "id": "5cd96cb7-86f7-42b7-8e8b-0f707fdab2a4",
   "metadata": {},
   "source": [
    "<p style = \"color:cyan\">Ex _ How many numbers 3 are there in the tuple named tup?</p>"
   ]
  },
  {
   "cell_type": "code",
   "execution_count": null,
   "id": "1e717c79-d12c-4e71-87c3-de1c38ba1ee1",
   "metadata": {},
   "outputs": [],
   "source": [
    "#Type here:\n"
   ]
  },
  {
   "cell_type": "markdown",
   "id": "c117b3d4-69fb-4422-9947-2f017115da6a",
   "metadata": {},
   "source": [
    "<details><summary>Click here for solution after you've done the task:  \n",
    "</summary>\n",
    "    \n",
    "```python\n",
    "#Type here:\n",
    "tup.count(3)\n",
    "```    \n",
    "</details>\n"
   ]
  }
 ],
 "metadata": {
  "kernelspec": {
   "display_name": "Python 3 (ipykernel)",
   "language": "python",
   "name": "python3"
  },
  "language_info": {
   "codemirror_mode": {
    "name": "ipython",
    "version": 3
   },
   "file_extension": ".py",
   "mimetype": "text/x-python",
   "name": "python",
   "nbconvert_exporter": "python",
   "pygments_lexer": "ipython3",
   "version": "3.10.6"
  }
 },
 "nbformat": 4,
 "nbformat_minor": 5
}
