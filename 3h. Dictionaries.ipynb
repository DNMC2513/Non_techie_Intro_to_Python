{
 "cells": [
  {
   "cell_type": "markdown",
   "id": "9d04960f-1560-4d6e-99b4-85c009810a42",
   "metadata": {},
   "source": [
    "# Dictionaries"
   ]
  },
  {
   "cell_type": "markdown",
   "id": "b0da00af-ab0e-471f-808a-44e3b2b0be14",
   "metadata": {},
   "source": [
    "## `OUTLINE`:\n",
    "- I, Definitions\n",
    "- II, Membership check\n",
    "- III, Call out values\n",
    "- IV, Modify contents\n",
    "    - 1, Add new keys\n",
    "    - 2, Delete keys\n"
   ]
  },
  {
   "cell_type": "markdown",
   "id": "192b566a-93ef-4484-895a-f58b7a955382",
   "metadata": {},
   "source": [
    "## I, What is a dictionary?\n",
    "- A dictionary is a type of data structure. Like other data structures, a dictionary is a sequence of values. However, each element within a dictionary is not represented by a single object but by a key and its associated values.\n",
    "- A dictionary is defined by a sequence of key-value combinations enclosed by a pair of `{}`. \n",
    "    - A key can be of any form, but for the convenience of the coding process, we should set a key as a string. A key is separated from its values using a colon `:`.\n",
    "    - The values of a key can also take any form, from a string or a float to a data structure.\n",
    "    - Each key-value combination is separated from others using a comma `,`.\n",
    "- For instance:    "
   ]
  },
  {
   "cell_type": "code",
   "execution_count": 1,
   "id": "a66c31ee-6bf2-4f97-a33d-410983867c0d",
   "metadata": {},
   "outputs": [
    {
     "data": {
      "text/plain": [
       "{'Key1': 123456,\n",
       " 'Key2': [1234, 4456, 2343, 2341],\n",
       " 'Key3': (True, False),\n",
       " 'Key4': {43, 54, 123}}"
      ]
     },
     "execution_count": 1,
     "metadata": {},
     "output_type": "execute_result"
    }
   ],
   "source": [
    "dict1 = {\n",
    "    'Key1':123456,\n",
    "    'Key2': [1234,4456,2343,2341],\n",
    "    'Key3':(True, False),\n",
    "    'Key4': {123,54,43}\n",
    "}\n",
    "dict1"
   ]
  },
  {
   "cell_type": "markdown",
   "id": "d85fcdd4-70e4-4fc6-9eb6-ecb50ab64a8c",
   "metadata": {},
   "source": [
    "<p style = \"color:cyan\">Create a dictionary named cust_dict that contains the keys and associated values as below:</p>\n",
    "Customer: Chelsea, Hung, Ming <br>\n",
    "Tel : +8764, + 8969, + 0987 <br>\n",
    "Nationality: British, Vietnamese, Chinese "
   ]
  },
  {
   "cell_type": "code",
   "execution_count": 2,
   "id": "174e95f0-5060-488c-85cb-9548e739a71b",
   "metadata": {},
   "outputs": [],
   "source": [
    "#Type here:\n"
   ]
  },
  {
   "cell_type": "markdown",
   "id": "00c71ec1-6ca7-4c26-aac6-98583be7641c",
   "metadata": {},
   "source": [
    "<details><summary > Click here for the solution after you've done the task:\n",
    "</summary>\n",
    "    \n",
    "```python\n",
    "#Type here:\n",
    "cust_dict = {'Customer': ('Chelsea', 'Hung', 'Ming'),\n",
    "             'Tel': ('+8764', '+ 8969', '+ 0987'),\n",
    "             'Nationality': ('British', 'Vietnamese', 'Chinese')}\n",
    "cust_dict\n",
    "```\n",
    "</details>"
   ]
  },
  {
   "cell_type": "markdown",
   "id": "9f55d472-a9e4-4055-93a8-1dd0d4a848c5",
   "metadata": {},
   "source": [
    "## II, Membership check:"
   ]
  },
  {
   "cell_type": "markdown",
   "id": "19f0fb24-26a7-45ae-b87a-1874adae156c",
   "metadata": {},
   "source": [
    "### 1, Check the group of keys:\n",
    "- To check the list of keys within a dictionarty, we use the method `dict.keys()`. For instance:"
   ]
  },
  {
   "cell_type": "code",
   "execution_count": 3,
   "id": "f244e78d-c417-47f6-8638-a4bb3c255399",
   "metadata": {},
   "outputs": [
    {
     "data": {
      "text/plain": [
       "dict_keys(['Key1', 'Key2', 'Key3', 'Key4'])"
      ]
     },
     "execution_count": 3,
     "metadata": {},
     "output_type": "execute_result"
    }
   ],
   "source": [
    "dict1.keys()"
   ]
  },
  {
   "cell_type": "markdown",
   "id": "906dc495-35d7-4882-8133-79a115b619bb",
   "metadata": {},
   "source": [
    "<p style = \"color:cyan\">Ex_Check the list of keys within cust_dict.</p>\n"
   ]
  },
  {
   "cell_type": "code",
   "execution_count": 4,
   "id": "75ff1f97-ae47-4a23-8a72-02fc8fb8ab8d",
   "metadata": {},
   "outputs": [],
   "source": [
    "#Type here:\n"
   ]
  },
  {
   "cell_type": "markdown",
   "id": "5930d534-b6bd-4d25-bcc2-dfef788ac7d8",
   "metadata": {},
   "source": [
    "<details><summary > Click here for the solution after you've done the task:\n",
    "</summary>\n",
    "    \n",
    "```python\n",
    "#Type here:\n",
    "cust_dict.keys()\n",
    "```\n",
    "</details>"
   ]
  },
  {
   "cell_type": "markdown",
   "id": "b65f42b5-849b-46d2-ac58-d54fe3d419e3",
   "metadata": {},
   "source": [
    "### 2, Check the sequence of values:\n",
    "- To check the sequence of values within a dictionary, we use the `dict.values()` method. For instance:"
   ]
  },
  {
   "cell_type": "code",
   "execution_count": 5,
   "id": "dca2428f-9c2c-47d3-81fe-56476642bf25",
   "metadata": {},
   "outputs": [
    {
     "data": {
      "text/plain": [
       "dict_values([123456, [1234, 4456, 2343, 2341], (True, False), {123, 43, 54}])"
      ]
     },
     "execution_count": 5,
     "metadata": {},
     "output_type": "execute_result"
    }
   ],
   "source": [
    "dict1.values()"
   ]
  },
  {
   "cell_type": "markdown",
   "id": "45629ce2-d81d-41ce-a18e-8af11396be1b",
   "metadata": {},
   "source": [
    "<p style = \"color:cyan\">Ex_Check the sequence of values within cust_dict.\n",
    "</p>\n"
   ]
  },
  {
   "cell_type": "code",
   "execution_count": 6,
   "id": "cb9f1471-a174-4f76-b860-9ca18376123e",
   "metadata": {},
   "outputs": [],
   "source": [
    "#Type here:\n"
   ]
  },
  {
   "cell_type": "markdown",
   "id": "45f43213-9ff4-4f8a-b690-da48f23e33ee",
   "metadata": {},
   "source": [
    "<details><summary > Click here for the solution after you've done the task:\n",
    "</summary>\n",
    "    \n",
    "```python\n",
    "#Type here:\n",
    "cust_dict.values()\n",
    "```\n",
    "</details>"
   ]
  },
  {
   "cell_type": "markdown",
   "id": "a63284e9-d9b3-41a2-a360-830175943af4",
   "metadata": {},
   "source": [
    "### 3, Check the membership of a key:\n",
    "- To check whether a key belongs to a list or not, we apply the membership keywords `in` and `not in`."
   ]
  },
  {
   "cell_type": "code",
   "execution_count": 7,
   "id": "00bdca4a-23bc-4a73-a3da-b39fbd16b9df",
   "metadata": {},
   "outputs": [
    {
     "data": {
      "text/plain": [
       "False"
      ]
     },
     "execution_count": 7,
     "metadata": {},
     "output_type": "execute_result"
    }
   ],
   "source": [
    "#for instance:\n",
    "'key1' in dict1"
   ]
  },
  {
   "cell_type": "code",
   "execution_count": 8,
   "id": "e57126a1-b3ff-4748-b336-3a97842a8fcd",
   "metadata": {},
   "outputs": [
    {
     "data": {
      "text/plain": [
       "True"
      ]
     },
     "execution_count": 8,
     "metadata": {},
     "output_type": "execute_result"
    }
   ],
   "source": [
    "'Key1' in dict1"
   ]
  },
  {
   "cell_type": "code",
   "execution_count": 9,
   "id": "c0576e3d-6296-4d5f-a1b4-91ef06c205dd",
   "metadata": {},
   "outputs": [
    {
     "data": {
      "text/plain": [
       "True"
      ]
     },
     "execution_count": 9,
     "metadata": {},
     "output_type": "execute_result"
    }
   ],
   "source": [
    "'key5' not in dict1"
   ]
  },
  {
   "cell_type": "markdown",
   "id": "3abba2d3-c9d3-448e-a6fc-68f0b30ee84a",
   "metadata": {},
   "source": [
    "It would be great if we could apply the same approach to check the membership of a value within a dictionary. However, it is impossible."
   ]
  },
  {
   "cell_type": "markdown",
   "id": "215a188d-f54e-4375-99fe-982e0a92bdf2",
   "metadata": {},
   "source": [
    "<p style = \"color:cyan\">Ex_Check whether the 'Payment' belongs to cust_dict or not.</p>\n"
   ]
  },
  {
   "cell_type": "code",
   "execution_count": 10,
   "id": "3d48f03a-813d-4bd1-8971-661f4f1d1f2c",
   "metadata": {},
   "outputs": [
    {
     "ename": "NameError",
     "evalue": "name 'cust_dict' is not defined",
     "output_type": "error",
     "traceback": [
      "\u001b[1;31m---------------------------------------------------------------------------\u001b[0m",
      "\u001b[1;31mNameError\u001b[0m                                 Traceback (most recent call last)",
      "Input \u001b[1;32mIn [10]\u001b[0m, in \u001b[0;36m<cell line: 2>\u001b[1;34m()\u001b[0m\n\u001b[0;32m      1\u001b[0m \u001b[38;5;66;03m#Type here:\u001b[39;00m\n\u001b[1;32m----> 2\u001b[0m \u001b[38;5;124m'\u001b[39m\u001b[38;5;124mPayment\u001b[39m\u001b[38;5;124m'\u001b[39m \u001b[38;5;129;01min\u001b[39;00m \u001b[43mcust_dict\u001b[49m\n",
      "\u001b[1;31mNameError\u001b[0m: name 'cust_dict' is not defined"
     ]
    }
   ],
   "source": [
    "#Type here:\n",
    "'Payment' in cust_dict"
   ]
  },
  {
   "cell_type": "markdown",
   "id": "43e89957-a1f8-4075-ad71-c34f77bc6eb5",
   "metadata": {},
   "source": [
    "<details><summary > Click here for the solution after you've done the task:\n",
    "</summary>\n",
    "    \n",
    "```python\n",
    "#Type here:\n",
    "'Payment' in cust_dict\n",
    "```\n",
    "</details>"
   ]
  },
  {
   "cell_type": "markdown",
   "id": "674dfe7c-7480-48df-83d8-b02c9b0ea00a",
   "metadata": {},
   "source": [
    "### III, Call out values:\n",
    "- It is possible to call out values within a dictionary, however, not by using the index but by keys.\n",
    "- To call out values from a dictionary, we include the name of the key within square brackets preceded by the dictionary's name: `dict_name['key_name']`"
   ]
  },
  {
   "cell_type": "code",
   "execution_count": null,
   "id": "6fbb9978-7061-49f0-85c4-a5b1c587ba0c",
   "metadata": {},
   "outputs": [],
   "source": [
    "#for instance:\n",
    "dict1['Key4']"
   ]
  },
  {
   "cell_type": "markdown",
   "id": "210a5f39-ccbf-4ac0-ae9a-772265e629bb",
   "metadata": {},
   "source": [
    "- It is also possible for us to check the type of values associated to the key."
   ]
  },
  {
   "cell_type": "code",
   "execution_count": null,
   "id": "032b45fe-db53-4286-b9fe-6e18ba92e9fd",
   "metadata": {},
   "outputs": [],
   "source": [
    "#for instance:\n",
    "type(dict1['Key4'])"
   ]
  },
  {
   "cell_type": "code",
   "execution_count": null,
   "id": "62f0f013-15f4-4fff-bdcd-585e3cd20024",
   "metadata": {},
   "outputs": [],
   "source": [
    "#for instance:\n",
    "type(dict1['Key3'])"
   ]
  },
  {
   "cell_type": "markdown",
   "id": "62eaa780-08c3-47b6-969c-0fe4db41eb3f",
   "metadata": {},
   "source": [
    "<p style = \"color:cyan\">Extract the list of customers' telephone numbers in cust_dict.</p>\n"
   ]
  },
  {
   "cell_type": "code",
   "execution_count": null,
   "id": "e7565f33-74ea-44df-a002-11abdb6cdf5c",
   "metadata": {},
   "outputs": [],
   "source": [
    "#Type here:\n"
   ]
  },
  {
   "cell_type": "markdown",
   "id": "29006a07-d099-4e73-96a4-42f90a69a19d",
   "metadata": {},
   "source": [
    "<details><summary > Click here for the solution after you've done the task:\n",
    "</summary>\n",
    "    \n",
    "```python\n",
    "#Type here:\n",
    "cust_dict['Tel']\n",
    "```\n",
    "</details>"
   ]
  },
  {
   "cell_type": "markdown",
   "id": "9ce7b7df-4fe8-4d81-bdc0-1aa0fdaf55c4",
   "metadata": {},
   "source": [
    "## IV, Modify contents:\n",
    "- To modify the contents of a dictionary, we can both add new or delete keys and their associated values.\n"
   ]
  },
  {
   "cell_type": "code",
   "execution_count": null,
   "id": "b35d2c7b-1c33-407b-8fdf-f563f3b84324",
   "metadata": {},
   "outputs": [],
   "source": [
    "#Before any modification:\n",
    "id1 = id(dict1)"
   ]
  },
  {
   "cell_type": "markdown",
   "id": "5c71203f-c621-4847-ad56-082c15b121a2",
   "metadata": {},
   "source": [
    "### 1, To add new keys:\n",
    "- We type down the dictionary's name, followed by a pair of square brackets `[]`, enclosing the name of the new key. Then comes the equal sign `=`, followed by the associated value.\n",
    "- For instance:\n"
   ]
  },
  {
   "cell_type": "code",
   "execution_count": null,
   "id": "b80a1762-979f-4c1a-9104-68ece527f46f",
   "metadata": {},
   "outputs": [],
   "source": [
    "dict1['Key5'] = {111111,111111111111111111,333}\n",
    "id2 = id(dict1) #to compare later\n",
    "dict1"
   ]
  },
  {
   "cell_type": "markdown",
   "id": "97397641-615c-42d8-9157-2ada7a43e1e4",
   "metadata": {},
   "source": [
    "<p style = \"color:cyan\">Add the 'Payment' key and its associated values to cust_dict as below:</p>\n",
    "Payment: visa, visa, cash"
   ]
  },
  {
   "cell_type": "code",
   "execution_count": null,
   "id": "4230369f-421f-4ef6-b17b-e23a7a39b703",
   "metadata": {},
   "outputs": [],
   "source": [
    "#Type here:\n"
   ]
  },
  {
   "cell_type": "markdown",
   "id": "d3b47f68-7ea9-489a-b408-da38ff1febc8",
   "metadata": {},
   "source": [
    "<details><summary > Click here for the solution after you've done the task:\n",
    "</summary>\n",
    "    \n",
    "```python\n",
    "#Type here:\n",
    "cust_dict['Payment'] = ('visa', 'visa', 'cash')\n",
    "cust_dict\n",
    "```\n",
    "</details>"
   ]
  },
  {
   "cell_type": "markdown",
   "id": "9b3a41db-e141-4540-bb25-ed759bc8073a",
   "metadata": {},
   "source": [
    "### 3, To delete keys:\n",
    "- To delete any key from the dictionary, we use the function `del()` with the name of the dictionary followed by a pair of square brackets enclosing the name of the chosen key. For instance:"
   ]
  },
  {
   "cell_type": "code",
   "execution_count": null,
   "id": "5c297022-cc47-4a4a-b138-a95fcfe57abd",
   "metadata": {},
   "outputs": [],
   "source": [
    "del(dict1['Key4'])\n",
    "id3= id(dict1) #to compare later\n",
    "dict1"
   ]
  },
  {
   "cell_type": "markdown",
   "id": "caa5af7c-50b3-4ec2-8cb7-db7a0f0ea07b",
   "metadata": {},
   "source": [
    "<p style = \"color:cyan\">Ex_Due to the privacy issue, eliminate all contact information of our custmers from cust_dict.\n",
    "\n",
    "</p>\n"
   ]
  },
  {
   "cell_type": "code",
   "execution_count": null,
   "id": "2602a90b-c338-4367-8c84-f49bea199b6e",
   "metadata": {},
   "outputs": [],
   "source": [
    "#Type here:\n"
   ]
  },
  {
   "cell_type": "markdown",
   "id": "de4261f0-bc3f-4ada-b686-c674c3d21c86",
   "metadata": {},
   "source": [
    "<details><summary > Click here for the solution after you've done the task:\n",
    "</summary>\n",
    "    \n",
    "```python\n",
    "#Type here:\n",
    "del(cust_dict['Tel'])\n",
    "cust_dict\n",
    "```\n",
    "</details>"
   ]
  },
  {
   "cell_type": "markdown",
   "id": "761b7285-3d60-41d9-946f-07da69605f09",
   "metadata": {},
   "source": [
    "`Now`, it's time for us to check the ids of the dictionary before and after the modifications, to ensure that we have modified not created a new object."
   ]
  },
  {
   "cell_type": "code",
   "execution_count": null,
   "id": "10fd9be9-2ee0-4847-8474-3e23adc6feb2",
   "metadata": {},
   "outputs": [],
   "source": [
    "id1 == id2 == id3"
   ]
  },
  {
   "cell_type": "markdown",
   "id": "ec5a35b7-d326-48fa-aec2-1e0e3ae58e50",
   "metadata": {},
   "source": [
    "<details><summary > Click here after you've done the task:\n",
    "</summary>\n",
    "    \n",
    "Since the id of the dictionary remains the same after each modification, then we can confidently say that we have modified the same object, not created a new one.\n",
    "\n",
    "</details>"
   ]
  }
 ],
 "metadata": {
  "kernelspec": {
   "display_name": "Python 3 (ipykernel)",
   "language": "python",
   "name": "python3"
  },
  "language_info": {
   "codemirror_mode": {
    "name": "ipython",
    "version": 3
   },
   "file_extension": ".py",
   "mimetype": "text/x-python",
   "name": "python",
   "nbconvert_exporter": "python",
   "pygments_lexer": "ipython3",
   "version": "3.10.6"
  }
 },
 "nbformat": 4,
 "nbformat_minor": 5
}
