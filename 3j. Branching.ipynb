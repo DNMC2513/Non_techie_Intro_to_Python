{
 "cells": [
  {
   "cell_type": "markdown",
   "id": "4c706467-42cb-4fa6-a7da-a71e2b4567d3",
   "metadata": {},
   "source": [
    "# Branching in Python"
   ]
  },
  {
   "cell_type": "markdown",
   "id": "1a3ace78-5025-4744-9b04-26681254ad04",
   "metadata": {},
   "source": [
    "- In Python, branching is the process of automatically determining which code blocks to execute based on conditions represented in the statements to which they belong.\n",
    "- The code progresses in the same logical direction as the statement whose condition is satisfied.\n",
    "- Branching refers to the metaphor in which the logical flow of the code is the chunk of the tree, and the logical flows of statements are branches since they all take root from the same point and diverge from each other.\n",
    "- The branching paradigm looks like this:\n",
    "```Python\n",
    "if <condition1>:\n",
    "    <statement_1a>\n",
    "    <statement_1b>\n",
    "    <statement_1..>\n",
    "elif <condition2>:\n",
    "    <statement_2a>\n",
    "    <statement_2b>\n",
    "    <statement_2..>\n",
    "elif <condition_3>:\n",
    "    <statement3_a>\n",
    "    <statement3_b>\n",
    "    <statement3_..>\n",
    "else:\n",
    "    <statement4_a>\n",
    "    <statement4_b>\n",
    "    <statement4_..>\n",
    "```    \n",
    "- A branching block can only include one `if` and `else` statement. However, it is possible for us to have as many `elif` statements as possible.\n",
    "- All conditions represented by `if` and `elif` statements must be mutually exclusive.\n",
    "- The condition represented by `else` statements are mutually exclusive and collectively exhaustive with stated conditions."
   ]
  },
  {
   "cell_type": "markdown",
   "id": "0e14e786-fa0c-4eb2-9731-2a98d6af3f52",
   "metadata": {},
   "source": [
    "`The flow of Python branching`:\n",
    "\n",
    "Starting from the first condition statement:\n",
    "- In Phrase 1, Python will check whether the statement's first condition is satisfied. \n",
    "    - If the condition statement is satisfied, Phrase 2 will occur, in which the code block belongs to it will be executed. \n",
    "    - Otherwise, the code block will be skipped if the condition statement is not satisfied. Next, Python will move on to the next condition statement and iterate the Phrase1 over and over again until one condition statement is satisfied, then move to Phrase2."
   ]
  },
  {
   "cell_type": "markdown",
   "id": "607c37e3-1484-4bd3-9333-e15febe2f5c9",
   "metadata": {},
   "source": [
    "To wrap our heads around this new concept, I suggest walking through the example below."
   ]
  },
  {
   "cell_type": "code",
   "execution_count": null,
   "id": "5fdc09a6-a37e-4f1f-a342-5a9ecf4eda74",
   "metadata": {},
   "outputs": [],
   "source": [
    "a = int(input('Give me a number: '))\n",
    "\n",
    "if a < 0:\n",
    "    print('Your number is:', a)\n",
    "    print('Stop being negative:')\n",
    "elif a < 100:\n",
    "    print('Your number is:', a)\n",
    "    print(\"At least you're being positive.\")\n",
    "elif a < 1000:\n",
    "    print('Your number is:', a)\n",
    "    print('Try to think bigger =).')\n",
    "else:\n",
    "    print('Your number is:', a)\n",
    "    print('Nice try.')"
   ]
  },
  {
   "cell_type": "markdown",
   "id": "1aa22617-d1b4-410e-a00a-8b7f6f101f39",
   "metadata": {},
   "source": [
    "To execute the code cell: \n",
    "- Step1: `press Shift + Ctrl` \n",
    "- Step2: `Enter your number` \n",
    "- Step3: `press Enter`\n",
    "\n",
    "To restart the code cell: \n",
    "- Iterate from step1 to step3. \n",
    "- Feel free to restart the cell as many times as you want."
   ]
  },
  {
   "cell_type": "markdown",
   "id": "2f687038-7c2a-4f78-a095-8ad38e33ac97",
   "metadata": {},
   "source": [
    "`Explain the flow of the branching code block`:"
   ]
  },
  {
   "cell_type": "markdown",
   "id": "1b3560d3-91b4-40b9-b37b-4cc74804e0cc",
   "metadata": {},
   "source": [
    "- If your number is <0, the `if a<0:` condition statement is satisfied. In that case, the code block belongs to the statement will be executed, which is:\n",
    "```python\n",
    "    print('Your number is:', a)\n",
    "    print('Stop being negative:')\n",
    "```     "
   ]
  },
  {
   "cell_type": "markdown",
   "id": "65474176-8d00-408f-9137-78a58f1db386",
   "metadata": {},
   "source": [
    "- If your number is <100 and >0, then the `elif a<100:` condition statement is satisfied. In that case, the code block belongs to the statement will be executed, which is:\n",
    "```python\n",
    "    print('Your number is:', a)\n",
    "    print(\"At least you're being positive.\")\n",
    "```     "
   ]
  },
  {
   "cell_type": "markdown",
   "id": "bf924d92-4814-4da1-88c6-021c1033b0a6",
   "metadata": {},
   "source": [
    "- If your number is <1000 and >100, then the `elif a<1000:` condition statement is satisfied. In that case, the code block belongs to the statement will be executed, which is:\n",
    "```python\n",
    "    print('Your number is:', a)\n",
    "    print('Try to think bigger =).')\n",
    "```     "
   ]
  },
  {
   "cell_type": "markdown",
   "id": "448c5ca0-5dca-4ef9-a488-bb1fae3b2382",
   "metadata": {},
   "source": [
    "- If your number is > 1000, then the `else` statement is satisfied since it represents the condition that is mutually exclusive and collectively exhaustive to other condtions. In that case, the code block belongs to the statement will be executed, which is:\n",
    "```python\n",
    "    print('Your number is:', a)\n",
    "    print('Nice try.')\n",
    "```    "
   ]
  },
  {
   "cell_type": "code",
   "execution_count": null,
   "id": "b104e59c-d621-42cb-b21e-d73f0bf48c4e",
   "metadata": {},
   "outputs": [],
   "source": []
  }
 ],
 "metadata": {
  "kernelspec": {
   "display_name": "Python 3 (ipykernel)",
   "language": "python",
   "name": "python3"
  },
  "language_info": {
   "codemirror_mode": {
    "name": "ipython",
    "version": 3
   },
   "file_extension": ".py",
   "mimetype": "text/x-python",
   "name": "python",
   "nbconvert_exporter": "python",
   "pygments_lexer": "ipython3",
   "version": "3.10.6"
  }
 },
 "nbformat": 4,
 "nbformat_minor": 5
}
