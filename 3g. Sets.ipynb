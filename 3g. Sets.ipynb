{
 "cells": [
  {
   "cell_type": "markdown",
   "id": "0d347876-a9b9-459d-af1e-8d83868735af",
   "metadata": {},
   "source": [
    "# Data Structure: Sets"
   ]
  },
  {
   "cell_type": "markdown",
   "id": "f2cd14b7-57da-41a5-bac9-8e5c4d5469a5",
   "metadata": {},
   "source": [
    "## `OUTLINE`:\n",
    "- I, Definition:\n",
    "- II, Converse a list or a tuple into a set:\n",
    "- III, Unindexable:\n",
    "- IV, Mutate sets:\n",
    "- V, Logical operators and corresponding set's methods:\n",
    "- VI, Something to notice:"
   ]
  },
  {
   "cell_type": "markdown",
   "id": "e904ad38-0e05-43fb-8627-b331586f3820",
   "metadata": {},
   "source": [
    "## I, Definition:\n",
    "- A set is a UNIQUE sequence of characters enclosed by a pair of `{}`. There are absolutely no duplicate values in a set. \n",
    "- It is IMPOSSIBLE to include a data structure within a set.\n",
    "- Suppose you involve duplicates whilst creating a set. Python will automatically filter out all of them and only keep unique values. For instance:\n"
   ]
  },
  {
   "cell_type": "code",
   "execution_count": null,
   "id": "9ee02428-5c0d-4d31-a1ae-4f07d4087efa",
   "metadata": {},
   "outputs": [],
   "source": [
    "#For instance:\n",
    "set1 = {1,1,1,1,1,2,54,'a'}\n",
    "set1"
   ]
  },
  {
   "cell_type": "code",
   "execution_count": null,
   "id": "77818ef9-cded-47e3-aa80-b34919979e27",
   "metadata": {},
   "outputs": [],
   "source": [
    "#For instance:\n",
    "setes = {True, False, 'turtle', 'hat', {123, 354, 22}}"
   ]
  },
  {
   "cell_type": "markdown",
   "id": "a7604ce7-cff1-4d26-bbb5-43c90fbd9253",
   "metadata": {},
   "source": [
    "> The warning message pops up because it is IMPOSSIBLE to include a data struture within a set."
   ]
  },
  {
   "cell_type": "markdown",
   "id": "0612a18c-9847-456b-9ffe-1edc593ca765",
   "metadata": {},
   "source": [
    "- Return to topic `3a. Overviews of Tuples, Lists and Sets` for more information."
   ]
  },
  {
   "cell_type": "markdown",
   "id": "8c895de4-1fd1-430d-8297-48e3705980ea",
   "metadata": {},
   "source": [
    "<p style = \"color:cyan\">Ex_Create a set named setex that consists of the following elements.\n",
    "\n",
    "</p>\n",
    "True, False, 'turtle', 'hat', 12, 54, 73\n"
   ]
  },
  {
   "cell_type": "code",
   "execution_count": null,
   "id": "571fbcd0-a993-481c-a4b0-6d09195f1fd8",
   "metadata": {},
   "outputs": [],
   "source": [
    "#Type here:\n",
    "setex = {True, False, 'turtle', 'hat', 12, 54, 73}\n",
    "setex"
   ]
  },
  {
   "cell_type": "markdown",
   "id": "dae20804-dc59-4d31-a536-3807b3fa3ce8",
   "metadata": {},
   "source": [
    "<details><summary > Click here for the solution after you've done the task:\n",
    "</summary>\n",
    "    \n",
    "```python\n",
    "#Type here:\n",
    "setex = {True, False, 'turtle', 'hat', 12, 54, 73}\n",
    "setex\n",
    "```\n",
    "</details>"
   ]
  },
  {
   "cell_type": "markdown",
   "id": "4fca5851-3bff-4da0-a243-8ee5a260ff31",
   "metadata": {},
   "source": [
    "## II, Converse a list into a tuple or set:\n",
    "- We can convert a list or a tuple into a set to eliminate all duplicate values using the function `set()` with the name of the chosen data structure within the parentheses.\n"
   ]
  },
  {
   "cell_type": "code",
   "execution_count": null,
   "id": "7687a6c5-5a71-4837-9923-bec7915b1367",
   "metadata": {},
   "outputs": [],
   "source": [
    "#For instance:\n",
    "list1 = [1,25,133,55]\n",
    "set1 = set(list1)\n",
    "print('set1:',set1)\n",
    "print('type(set1):',type(set1))\n"
   ]
  },
  {
   "cell_type": "code",
   "execution_count": null,
   "id": "44e02eb3-0f1d-4e79-a994-4a7a500e0368",
   "metadata": {},
   "outputs": [],
   "source": [
    "#For instance:\n",
    "tup2 = [3454,'11', True]\n",
    "set2 = set(tup2)\n",
    "print('set2:', set2)\n",
    "print('type(set2):', type(set2))"
   ]
  },
  {
   "cell_type": "markdown",
   "id": "ce9e72d7-eded-4475-85a3-08fbce7b7666",
   "metadata": {},
   "source": [
    "<p style = \"color:cyan\">Ex_Remove all the duplicate elements within the data structure. <br>\n",
    "</p>\n",
    "    tupp = (1,2,33,2,2,2,2,3,True, False)\n"
   ]
  },
  {
   "cell_type": "code",
   "execution_count": null,
   "id": "378024cb-d6a7-4866-8386-a536ed09bab8",
   "metadata": {},
   "outputs": [],
   "source": [
    "#Type here:\n"
   ]
  },
  {
   "cell_type": "markdown",
   "id": "f3120585-3d46-4577-857b-a60736e2578d",
   "metadata": {},
   "source": [
    "<details><summary > Click here for the solution after you've done the task:\n",
    "</summary>\n",
    "    \n",
    "```python\n",
    "#Type here:\n",
    "tupp = (1,2,33,2,2,2,2,3,True, False)\n",
    "tupp = set(tupp)\n",
    "tupp\n",
    "```\n",
    "</details>"
   ]
  },
  {
   "cell_type": "markdown",
   "id": "5e385c4d-b21b-480f-bce0-8eca199d6d9e",
   "metadata": {},
   "source": [
    "### III, Unindexable:\n",
    "- It is impossible for us to index elements within a set. \n",
    "- Return to topic `3a. Overview of Lists, Tuples and Sets` for more details."
   ]
  },
  {
   "cell_type": "markdown",
   "id": "31c7eb0b-d34d-44ad-b9f6-08242cc06175",
   "metadata": {},
   "source": [
    "## IV, Mutate sets:\n",
    "There are two ways for us to mutate a set:\n",
    "- `set.add()`: to add a new element to the set.\n",
    "- `set.remove()`: to remove one element from the set.\n"
   ]
  },
  {
   "cell_type": "markdown",
   "id": "850fe985-6802-498b-9da4-ccae936483f8",
   "metadata": {},
   "source": [
    "### a, `set.add()`: \n",
    "- We pass the value inside the parentheses of the method to add new elements into the set. For instance:"
   ]
  },
  {
   "cell_type": "code",
   "execution_count": null,
   "id": "052d1036-0f7b-4b33-88f1-c8da8df4db7e",
   "metadata": {},
   "outputs": [],
   "source": [
    "set1 = {1,1,1,1,1,2,54,'a'}\n",
    "print('set1:', set1)\n",
    "id1 = id(set1)\n",
    "print('The id of set1 before the mutation:', id1)\n",
    "set1.add('b')\n",
    "id2 = id(set1)\n",
    "print('The id of set1 after the mutation:', id2)\n",
    "print('set1 after the mutation:', set1)\n",
    "print('The id of the set remains the same after the mutation:', id1 == id2)"
   ]
  },
  {
   "cell_type": "markdown",
   "id": "2d406bd3-6af5-4d42-bd05-4e11428aa9d6",
   "metadata": {},
   "source": [
    "> As the id of the set before and after the mutation remains the same, we have managed to mutate the set without creating a new identical variable."
   ]
  },
  {
   "cell_type": "markdown",
   "id": "38a38b66-fb76-44fc-9b10-57327995bfc0",
   "metadata": {},
   "source": [
    "<p style = \"color:cyan\">Ex_Add 5 more 'a' into set1\n",
    "</p>\n"
   ]
  },
  {
   "cell_type": "code",
   "execution_count": null,
   "id": "6d68a929-3deb-4130-aa07-f5eb7ac148b2",
   "metadata": {},
   "outputs": [],
   "source": [
    "#Type here:\n"
   ]
  },
  {
   "cell_type": "markdown",
   "id": "f2e49dd4-fb53-44ea-8374-44648225b19c",
   "metadata": {},
   "source": [
    "<details><summary > Click here for the solution after you've done the task:\n",
    "</summary>\n",
    "    \n",
    "- There is absolutely no way to do it, since a set contains no duplicates.\n",
    "</details>"
   ]
  },
  {
   "cell_type": "markdown",
   "id": "d4a929e1-869d-4be6-9eee-688dfd533e1a",
   "metadata": {},
   "source": [
    "<p style = \"color:cyan\">Ex_Add the following elements into set1 <br>\n",
    "    13<br>\n",
    "    'Ch'<br>\n",
    "    'Name'<br>\n",
    "\n",
    "</p>\n"
   ]
  },
  {
   "cell_type": "code",
   "execution_count": null,
   "id": "cf0670fb-a9b2-4c09-a315-802cad95bca1",
   "metadata": {},
   "outputs": [],
   "source": [
    "#Type here:\n"
   ]
  },
  {
   "cell_type": "markdown",
   "id": "fb31d971-88be-4401-ba2d-911403909dc6",
   "metadata": {},
   "source": [
    "<details><summary > Click here for the solution after you've done the task:\n",
    "</summary>\n",
    "    \n",
    "```python\n",
    "#Type here:\n",
    "set1.add(13)\n",
    "set1.add('Ch')\n",
    "set1.add('Name')\n",
    "set1\n",
    "```\n",
    "</details>"
   ]
  },
  {
   "cell_type": "markdown",
   "id": "e0e652ab-1dc2-40f0-81d0-74cc0ee9db7b",
   "metadata": {},
   "source": [
    "### b, `set.remove()`:\n",
    "- We can remove one element from the set by passing the value we want to get rid of into the parentheses. For instance:"
   ]
  },
  {
   "cell_type": "code",
   "execution_count": null,
   "id": "8716f4c7-5c45-41c3-b1f6-6bc08a89b854",
   "metadata": {},
   "outputs": [],
   "source": [
    "set1 = {1,1,1,1,1,2,54,'a'}\n",
    "print('set1:', set1)\n",
    "id1 = id(set1)\n",
    "print('The id of set1 before the mutation:', id1)\n",
    "set1.remove('a')\n",
    "id2 = id(set1)\n",
    "print('The id of set1 after the mutation:', id2)\n",
    "print('set1 after the mutation:', set1)\n",
    "print('The id of the set1 remains the same after the mutation:', id1 == id2)"
   ]
  },
  {
   "cell_type": "markdown",
   "id": "db7339b4-8b43-41ee-9f21-65d3538f06c6",
   "metadata": {},
   "source": [
    "> As the id of the set before and after the mutation remains the same, we have managed to mutate the set without creating a new identical variable."
   ]
  },
  {
   "cell_type": "markdown",
   "id": "9ee66276-1c1e-48a2-8e1a-b40111e7c18c",
   "metadata": {},
   "source": [
    "<p style = \"color:cyan\">Ex_Create the set as below: <br>\n",
    "set1 = {1, 13, 2, 54, 'Ch', 'Name', 'a', 'b'}<br>\n",
    "Remove the 1st and the 3rd elements from it\n",
    "</p>\n"
   ]
  },
  {
   "cell_type": "code",
   "execution_count": null,
   "id": "0a31e2f0-5131-4a55-b247-dd4ec5b2b5dc",
   "metadata": {},
   "outputs": [],
   "source": [
    "#Type here:\n",
    "set1 = {1, 13, 2, 54, 'Ch', 'Name', 'a', 'b'}\n",
    "set1.remove(1)\n",
    "set1.remove(2)\n",
    "set1"
   ]
  },
  {
   "cell_type": "markdown",
   "id": "ddcd01a8-ec8d-4cda-afbc-572be5c1a13a",
   "metadata": {},
   "source": [
    "<details><summary > Click here for the solution after you've done the task:\n",
    "</summary>\n",
    "    \n",
    "```python\n",
    "#Type here:\n",
    "#create the set:\n",
    "set1 = {1, 13, 2, 54, 'Ch', 'Name', 'a', 'b'}\n",
    "#remove items:\n",
    "set1.remove(1)\n",
    "set1.remove(2)\n",
    "set1\n",
    "```\n",
    "</details>"
   ]
  },
  {
   "cell_type": "markdown",
   "id": "d2210af6-f450-4a16-9bef-3027520d1854",
   "metadata": {},
   "source": [
    "> Remember that the set is indexable, the only way to call out an element within is to use the value it represents."
   ]
  },
  {
   "cell_type": "markdown",
   "id": "a8604c55-3c34-41ad-a656-801ac9da3263",
   "metadata": {},
   "source": [
    "## V, Logical operators and corresponding set's methods:\n",
    "- It is possible for us to use logical operators to work with sets.\n",
    "- Just in case, let me remind you. There are three types of logical operators in Python."
   ]
  },
  {
   "cell_type": "markdown",
   "id": "a1cea35f-e39f-400a-bef1-b093cf74833b",
   "metadata": {},
   "source": [
    "Logical assignments are used to combine conditional statements:\n",
    "<table style='text-align:left;'>\n",
    "    <tr>\n",
    "        <th>Logical assignment</th>\n",
    "        <th>Shortform</th>\n",
    "        <th>Meaning</th>\n",
    "    </tr>\n",
    "    <tr>\n",
    "        <th>and</th>\n",
    "        <th>&</th>        \n",
    "        <th>Only returns True if all conditions are true </th>\n",
    "    </tr>\n",
    "    <tr>\n",
    "        <th>or</th>\n",
    "        <th>|</th>        \n",
    "        <th>Returns True even if only one condition is True </th>\n",
    "    </tr>\n",
    "    <tr>\n",
    "        <th>not</th>\n",
    "        <th>not</th>\n",
    "        <th>Reverse the results of the previous operators</th>\n",
    "    </tr>\n",
    "    \n",
    "</table>"
   ]
  },
  {
   "cell_type": "markdown",
   "id": "1cf6bef8-fad9-4c84-b1d2-f3d85728f378",
   "metadata": {},
   "source": [
    "We only take the `and &` and `or |` logical operators to create sets from sets."
   ]
  },
  {
   "cell_type": "code",
   "execution_count": null,
   "id": "b98594c4-d7df-4a20-9bd7-ab4b033a2a14",
   "metadata": {},
   "outputs": [],
   "source": [
    "#Our initial sets:\n",
    "seta = {13,14,16}\n",
    "setb = {'a','b', 'c'}\n",
    "setc = {'a','b', 14, 15}"
   ]
  },
  {
   "cell_type": "markdown",
   "id": "d3e7efdd-2a4b-43c5-b8d0-34c003e7215d",
   "metadata": {},
   "source": [
    "### a, The `or | ` logical operator:\n",
    "To create a set that contains all elements within seta and setb, we use the logical operator or `|`. For instance:"
   ]
  },
  {
   "cell_type": "code",
   "execution_count": null,
   "id": "5aadd8ba-0114-498d-ad26-a54a6258e96d",
   "metadata": {},
   "outputs": [],
   "source": [
    "setab = seta | setb\n",
    "setab"
   ]
  },
  {
   "cell_type": "markdown",
   "id": "1c7ce17d-ee2d-4def-9462-deb85ed5845b",
   "metadata": {},
   "source": [
    "The set method that has the corresponding function to the `|` operator is `set.union()`. For instance:"
   ]
  },
  {
   "cell_type": "code",
   "execution_count": null,
   "id": "67486a43-1e2b-41dc-86ce-366cfc4e981c",
   "metadata": {},
   "outputs": [],
   "source": [
    "setab_ = seta.union(setb)\n",
    "setab_"
   ]
  },
  {
   "cell_type": "code",
   "execution_count": null,
   "id": "a85f8dca-ba3a-4fc0-aa74-c4407b247cd2",
   "metadata": {},
   "outputs": [],
   "source": [
    "#or:\n",
    "setab__ = setb.union(seta)\n",
    "setab__"
   ]
  },
  {
   "cell_type": "markdown",
   "id": "eb8853bd-0fd7-43d7-bae1-e74eb85fd5eb",
   "metadata": {},
   "source": [
    "### b, The `and &` logical operator:\n",
    "- We use the `and &` logical operator to create a set that contains elements in common between the chosen sets."
   ]
  },
  {
   "cell_type": "code",
   "execution_count": null,
   "id": "45c1a89a-a540-43a6-bdbc-c46174b949e0",
   "metadata": {},
   "outputs": [],
   "source": [
    "#For instance:\n",
    "setac = seta & setc\n",
    "setac"
   ]
  },
  {
   "cell_type": "markdown",
   "id": "31536c91-95ed-4b6f-aebc-5e25289f8090",
   "metadata": {},
   "source": [
    "> seta and setc have only one element in common, which is 14."
   ]
  },
  {
   "cell_type": "code",
   "execution_count": null,
   "id": "f5622606-f5ec-4560-910f-176037acde5f",
   "metadata": {},
   "outputs": [],
   "source": [
    "#For instance:\n",
    "setbc = setb & setc\n",
    "setbc"
   ]
  },
  {
   "cell_type": "markdown",
   "id": "113c8190-9404-4e17-b4e6-97753d3e39bd",
   "metadata": {},
   "source": [
    "> setb and setc have two elements in common, which are 'a' and 'b'."
   ]
  },
  {
   "cell_type": "markdown",
   "id": "dcce09f9-957c-41ac-bd7a-316c891d6e3a",
   "metadata": {},
   "source": [
    "- The set method that has the corresponding function with the keyword is: `seta.intersection(setb)`. "
   ]
  },
  {
   "cell_type": "code",
   "execution_count": null,
   "id": "ed7695c4-2509-4177-873a-33217774e58c",
   "metadata": {},
   "outputs": [],
   "source": [
    "#for instance:\n",
    "setc.intersection(setb)"
   ]
  },
  {
   "cell_type": "code",
   "execution_count": null,
   "id": "069792f7-cab0-460b-bca8-ab0240962873",
   "metadata": {},
   "outputs": [],
   "source": [
    "seta.intersection(setb)"
   ]
  },
  {
   "cell_type": "markdown",
   "id": "d674949f-8446-4c77-822c-ff61da095361",
   "metadata": {},
   "source": [
    ">seta and and setb have no elements in common."
   ]
  },
  {
   "cell_type": "markdown",
   "id": "a52d062c-92ef-44f1-b5f6-c7f18bf61b74",
   "metadata": {},
   "source": [
    "### c, The `not` logical operator:"
   ]
  },
  {
   "cell_type": "markdown",
   "id": "b20c6c02-fb6b-4209-9528-bd70940ca803",
   "metadata": {},
   "source": [
    "- We cannot use the `not` logical operator directly with a set. However, we have a set method with a similar function, `.differnece()`.\n",
    "- Suppose we want to filter out elements that belong to setc, but do not lie in seta. is: `seta.difference(setc)`"
   ]
  },
  {
   "cell_type": "code",
   "execution_count": null,
   "id": "e8f067f1-58da-4b74-b312-8fced3018719",
   "metadata": {},
   "outputs": [],
   "source": [
    "#our original set:\n",
    "print('seta:', seta)\n",
    "print('setc:', setc)"
   ]
  },
  {
   "cell_type": "code",
   "execution_count": null,
   "id": "6452a63b-6270-440b-8f40-54b809f0cf60",
   "metadata": {},
   "outputs": [],
   "source": [
    "setc_not_a = setc.difference(seta)\n",
    "setc_not_a"
   ]
  },
  {
   "cell_type": "markdown",
   "id": "a3eae8f3-6fd2-4495-8aab-3fa725cab9d9",
   "metadata": {},
   "source": [
    ">The elements 15, 'a', 'b' belong to setc but do not lie in seta."
   ]
  },
  {
   "cell_type": "code",
   "execution_count": null,
   "id": "2be5c46f-87b0-462c-b336-3abcf2112baa",
   "metadata": {},
   "outputs": [],
   "source": [
    "seta_not_c = seta.difference(setc)\n",
    "seta_not_c"
   ]
  },
  {
   "cell_type": "markdown",
   "id": "48158cb9-acad-4527-a6df-67edb0924956",
   "metadata": {},
   "source": [
    "> The elements 13 and 16 lies in seta but does not belong to setc."
   ]
  },
  {
   "cell_type": "markdown",
   "id": "6a6a8f67-70bc-466c-ac92-bcdeaf4e70a7",
   "metadata": {},
   "source": [
    "<p style = \"color:cyan\">Ex_Find all elements that belong to setab, but not in seta</p>\n"
   ]
  },
  {
   "cell_type": "code",
   "execution_count": null,
   "id": "2f52ad8c-faf9-4ed1-9f96-271084ae4a78",
   "metadata": {},
   "outputs": [],
   "source": [
    "#Type here:\n"
   ]
  },
  {
   "cell_type": "markdown",
   "id": "2c4556b0-8361-42e3-8584-0f1e919dfff1",
   "metadata": {},
   "source": [
    "<details><summary > Click here for the solution after you've done the task:\n",
    "</summary>\n",
    "    \n",
    "```python\n",
    "#Type here:\n",
    "setab_nota = setab.difference(seta)\n",
    "setab_nota\n",
    "```\n",
    "</details>"
   ]
  },
  {
   "cell_type": "markdown",
   "id": "38965bc8-94e7-4552-9500-44e5803b2d3d",
   "metadata": {},
   "source": [
    "### d, `setc.issubset(seta)`:\n",
    "- To check whether one set is the subset of another set or not, we use the method `.issubset()`. \n",
    "- Suppose we want to check whether setc is a subset of set a or not."
   ]
  },
  {
   "cell_type": "code",
   "execution_count": null,
   "id": "0b015872-89d5-4882-a83b-0fbc19ee7244",
   "metadata": {},
   "outputs": [],
   "source": [
    "#For instance:\n",
    "print('seta:', seta)\n",
    "print('setc:', setc)\n",
    "setc.issubset(seta)"
   ]
  },
  {
   "cell_type": "code",
   "execution_count": null,
   "id": "0a647f78-799c-4b8e-927f-6da31cce9ea3",
   "metadata": {},
   "outputs": [],
   "source": [
    "#For instance:\n",
    "print('seta_not_c:', seta_not_c)\n",
    "print('seta:', seta)\n",
    "seta_not_c.issubset(seta)"
   ]
  },
  {
   "cell_type": "markdown",
   "id": "ba9e8269-f40a-4564-82e9-830fb05bbe56",
   "metadata": {},
   "source": [
    "<p style = \"color:cyan\">Create 3 sets as below: <br>\n",
    "seta = {1,2,3,True, False} <br>\n",
    "setb = {23,33,'b', 'm'} <br>\n",
    "setc = {False, 33}\n",
    "\n",
    "</p>\n"
   ]
  },
  {
   "cell_type": "code",
   "execution_count": null,
   "id": "b65dd669-3a5d-4f58-b49c-19d194acf697",
   "metadata": {},
   "outputs": [],
   "source": [
    "#Type here:\n"
   ]
  },
  {
   "cell_type": "markdown",
   "id": "88a04cf2-be29-42e3-9859-bd241099865f",
   "metadata": {},
   "source": [
    "<details><summary > Click here for the solution after you've done the task:\n",
    "</summary>\n",
    "    \n",
    "```python\n",
    "#Type here:\n",
    "seta = {1,2,3,True, False}\n",
    "setb = {23,33,'b', 'm'}\n",
    "setc = {False, 33}\n",
    "```\n",
    "</details>"
   ]
  },
  {
   "cell_type": "markdown",
   "id": "32a3d0c4-078d-4e55-8eb6-845e3717a5ab",
   "metadata": {
    "tags": []
   },
   "source": [
    "<p style = \"color:cyan\">Create a set that is named setd, and contains all elements wihtin seta and setb\n",
    "</p>\n"
   ]
  },
  {
   "cell_type": "code",
   "execution_count": null,
   "id": "e7223d69-585c-4d90-8ba0-854e9065777f",
   "metadata": {},
   "outputs": [],
   "source": [
    "#Type here:\n"
   ]
  },
  {
   "cell_type": "markdown",
   "id": "37c89a4c-d184-438c-aa96-c275ad851770",
   "metadata": {},
   "source": [
    "<details><summary > Click here for the solution after you've done the task:\n",
    "</summary>\n",
    "    \n",
    "```python\n",
    "#Type here:\n",
    "setd = seta.union(setb)\n",
    "setd\n",
    "\n",
    "#or using logical operators:\n",
    "setd = seta | setb\n",
    "setd\n",
    "```\n",
    "</details>"
   ]
  },
  {
   "cell_type": "markdown",
   "id": "431c6d6c-6f3e-41b4-86a0-ad49425cff0e",
   "metadata": {},
   "source": [
    "<p style = \"color:cyan\">Ex_Create sete that contains elements belong to both setc and setd.\n",
    "\n",
    "</p>\n"
   ]
  },
  {
   "cell_type": "code",
   "execution_count": null,
   "id": "178745e9-7835-4fd7-871d-ac559d4bafae",
   "metadata": {},
   "outputs": [],
   "source": [
    "#Type here:\n"
   ]
  },
  {
   "cell_type": "markdown",
   "id": "743ba048-4b03-4812-8ee7-19027fb0654d",
   "metadata": {},
   "source": [
    "<details><summary > Click here for the solution after you've done the task:\n",
    "</summary>\n",
    "    \n",
    "```python\n",
    "#Type here:\n",
    "sete = setc.intersection(setd)\n",
    "sete\n",
    "\n",
    "#or using logical operators:\n",
    "sete = setc & setd\n",
    "sete\n",
    "```\n",
    "</details>"
   ]
  },
  {
   "cell_type": "markdown",
   "id": "b2475129-6d71-48fc-8afe-adb23600bb5a",
   "metadata": {},
   "source": [
    "<p style = \"color:cyan\">Ex_Check whether setc is a subset of setd.\n",
    "\n",
    "</p>\n"
   ]
  },
  {
   "cell_type": "code",
   "execution_count": null,
   "id": "69a02df7-702d-4032-b1be-580b5b2508e6",
   "metadata": {},
   "outputs": [],
   "source": [
    "#Type here:\n"
   ]
  },
  {
   "cell_type": "markdown",
   "id": "9ccd44ad-b228-4438-af9b-8c4145fefbc5",
   "metadata": {},
   "source": [
    "<details><summary > Click here for the solution after you've done the task:\n",
    "</summary>\n",
    "    \n",
    "```python\n",
    "#Type here:\n",
    "setc.issubset(setd)\n",
    "```\n",
    "</details>"
   ]
  },
  {
   "cell_type": "markdown",
   "id": "40c1baf4-c0b7-4d5f-b454-05d378bb0e26",
   "metadata": {},
   "source": [
    "<p style = \"color:cyan\">Check wheter setc is the same as setd.\n",
    "\n",
    "</p>\n"
   ]
  },
  {
   "cell_type": "code",
   "execution_count": null,
   "id": "32edca7d-4eb2-4c4d-8d4f-a54d7f03036a",
   "metadata": {},
   "outputs": [],
   "source": [
    "#Type here:\n"
   ]
  },
  {
   "cell_type": "markdown",
   "id": "a53383d9-ca6a-4036-ab0b-4715434f7405",
   "metadata": {},
   "source": [
    "<details><summary > Click here for the solution after you've done the task:\n",
    "</summary>\n",
    "    \n",
    "```python\n",
    "#Type here:\n",
    "setc == setd\n",
    "```\n",
    "</details>"
   ]
  }
 ],
 "metadata": {
  "kernelspec": {
   "display_name": "Python 3 (ipykernel)",
   "language": "python",
   "name": "python3"
  },
  "language_info": {
   "codemirror_mode": {
    "name": "ipython",
    "version": 3
   },
   "file_extension": ".py",
   "mimetype": "text/x-python",
   "name": "python",
   "nbconvert_exporter": "python",
   "pygments_lexer": "ipython3",
   "version": "3.10.6"
  }
 },
 "nbformat": 4,
 "nbformat_minor": 5
}
