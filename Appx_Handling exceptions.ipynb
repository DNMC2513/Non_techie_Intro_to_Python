{
 "cells": [
  {
   "cell_type": "markdown",
   "id": "f4aabaf0-93f5-4b8a-a0e9-fbe49cdf81e6",
   "metadata": {},
   "source": [
    "# Handling exceptions\n",
    "\n",
    "### OUTLINE:\n",
    "- What are exceptions?\n",
    "- Ways to handle exceptions:\n",
    "    - try except:\n",
    "        - in general\n",
    "        - specifically\n",
    "        - print out name of the errors arising\n",
    "    - try except else\n",
    "    - try except else finally"
   ]
  },
  {
   "cell_type": "markdown",
   "id": "e7d4af5b-1d37-4012-a83e-1d3889becef2",
   "metadata": {},
   "source": [
    "## 1. What are exceptions?\n",
    "- Exceptions are errors that araise in the middle of any particular code execution. Any exception can halt the execution of code.\n",
    "- To read about all forms of exceptions built into Python, you can access this link [link](https://docs.python.org/3/library/exceptions.html)"
   ]
  },
  {
   "cell_type": "markdown",
   "id": "83bff11c-cbe9-483e-8bea-4dea4c18b6cc",
   "metadata": {},
   "source": [
    ">Some common exceptions are the following:"
   ]
  },
  {
   "cell_type": "code",
   "execution_count": 1,
   "id": "f40dea99-a98b-4342-9892-3b61cc4d5e6c",
   "metadata": {},
   "outputs": [
    {
     "ename": "ZeroDivisionError",
     "evalue": "division by zero",
     "output_type": "error",
     "traceback": [
      "\u001b[1;31m---------------------------------------------------------------------------\u001b[0m",
      "\u001b[1;31mZeroDivisionError\u001b[0m                         Traceback (most recent call last)",
      "Input \u001b[1;32mIn [1]\u001b[0m, in \u001b[0;36m<cell line: 1>\u001b[1;34m()\u001b[0m\n\u001b[1;32m----> 1\u001b[0m \u001b[38;5;241;43m1\u001b[39;49m\u001b[38;5;241;43m/\u001b[39;49m\u001b[38;5;241;43m0\u001b[39;49m\n",
      "\u001b[1;31mZeroDivisionError\u001b[0m: division by zero"
     ]
    }
   ],
   "source": [
    "#Execute the code:\n",
    "13/0"
   ]
  },
  {
   "cell_type": "code",
   "execution_count": 2,
   "id": "065dad13-4e29-4984-bc6b-acc2746d31c3",
   "metadata": {},
   "outputs": [
    {
     "ename": "NameError",
     "evalue": "name 'a' is not defined",
     "output_type": "error",
     "traceback": [
      "\u001b[1;31m---------------------------------------------------------------------------\u001b[0m",
      "\u001b[1;31mNameError\u001b[0m                                 Traceback (most recent call last)",
      "Input \u001b[1;32mIn [2]\u001b[0m, in \u001b[0;36m<cell line: 2>\u001b[1;34m()\u001b[0m\n\u001b[0;32m      1\u001b[0m \u001b[38;5;66;03m#Execute the code:\u001b[39;00m\n\u001b[1;32m----> 2\u001b[0m \u001b[43ma\u001b[49m \u001b[38;5;241m+\u001b[39m \u001b[38;5;241m13\u001b[39m\n",
      "\u001b[1;31mNameError\u001b[0m: name 'a' is not defined"
     ]
    }
   ],
   "source": [
    "#Execute the code:\n",
    "a + 13"
   ]
  },
  {
   "cell_type": "code",
   "execution_count": 3,
   "id": "5afee0d7-1a67-44bf-85d7-efc0e367b4a2",
   "metadata": {},
   "outputs": [
    {
     "ename": "IndexError",
     "evalue": "list index out of range",
     "output_type": "error",
     "traceback": [
      "\u001b[1;31m---------------------------------------------------------------------------\u001b[0m",
      "\u001b[1;31mIndexError\u001b[0m                                Traceback (most recent call last)",
      "Input \u001b[1;32mIn [3]\u001b[0m, in \u001b[0;36m<cell line: 2>\u001b[1;34m()\u001b[0m\n\u001b[0;32m      1\u001b[0m cd \u001b[38;5;241m=\u001b[39m [\u001b[38;5;241m13\u001b[39m,\u001b[38;5;241m45\u001b[39m,\u001b[38;5;241m432\u001b[39m,\u001b[38;5;241m65434566\u001b[39m,\u001b[38;5;241m767\u001b[39m]\n\u001b[1;32m----> 2\u001b[0m \u001b[43mcd\u001b[49m\u001b[43m[\u001b[49m\u001b[38;5;241;43m-\u001b[39;49m\u001b[38;5;241;43m65\u001b[39;49m\u001b[43m]\u001b[49m\n",
      "\u001b[1;31mIndexError\u001b[0m: list index out of range"
     ]
    }
   ],
   "source": [
    "#Execute the code:\n",
    "cd = [13,45,432,65434566,767]\n",
    "cd[-65]"
   ]
  },
  {
   "cell_type": "code",
   "execution_count": 4,
   "id": "2bc381d7-4970-4add-b326-f385498ad0f5",
   "metadata": {},
   "outputs": [
    {
     "ename": "TypeError",
     "evalue": "unsupported operand type(s) for /: 'int' and 'str'",
     "output_type": "error",
     "traceback": [
      "\u001b[1;31m---------------------------------------------------------------------------\u001b[0m",
      "\u001b[1;31mTypeError\u001b[0m                                 Traceback (most recent call last)",
      "Input \u001b[1;32mIn [4]\u001b[0m, in \u001b[0;36m<cell line: 1>\u001b[1;34m()\u001b[0m\n\u001b[1;32m----> 1\u001b[0m \u001b[38;5;241;43m34\u001b[39;49m\u001b[38;5;241;43m/\u001b[39;49m\u001b[38;5;124;43m'\u001b[39;49m\u001b[38;5;124;43m22\u001b[39;49m\u001b[38;5;124;43m'\u001b[39;49m\n",
      "\u001b[1;31mTypeError\u001b[0m: unsupported operand type(s) for /: 'int' and 'str'"
     ]
    }
   ],
   "source": [
    "34/'22'"
   ]
  },
  {
   "cell_type": "markdown",
   "id": "0669f976-92ad-40ac-a84f-c7e265455b90",
   "metadata": {},
   "source": [
    "# 2. Ways to handle exceptions:\n",
    "- The following keywords can help users to execute the code in case of specific exceptions or all of them. "
   ]
  },
  {
   "cell_type": "markdown",
   "id": "280d08b9-d532-4d13-91c1-8b143949a9f5",
   "metadata": {},
   "source": [
    "### 2a. try except:"
   ]
  },
  {
   "cell_type": "markdown",
   "id": "66b5d622-f603-48d2-bae8-1f4e23398ae6",
   "metadata": {},
   "source": [
    "- To prevent all exceptions from halting the code execution, we can use the code block as follow:\n",
    "```python\n",
    "\n",
    "# any code to execute that does not require exceptions handling\n",
    "\n",
    "try:\n",
    "    # code to try to execute\n",
    "except:\n",
    "    # code to execute if any exception arises in the execution of the try block\n",
    "except [error_name]:\n",
    "    #code to execute if the specified exceptio arises\n",
    "    \n",
    "#code that still can execute if there is exception in the try block \n",
    "```"
   ]
  },
  {
   "cell_type": "code",
   "execution_count": 1,
   "id": "bb34c46e-e50a-4acb-8805-063a2b751889",
   "metadata": {},
   "outputs": [
    {
     "name": "stdout",
     "output_type": "stream",
     "text": [
      "This is the first example of how exceptions handling work\n",
      "There was an error. Recheck the code\n",
      "Despite of the arising error, we can still execute this code line.\n"
     ]
    }
   ],
   "source": [
    "#for instance:\n",
    "print('This is the first example of how exceptions handling work')\n",
    "numorator = 13\n",
    "denominator = 0\n",
    "\n",
    "#handle exceptions:\n",
    "try:\n",
    "    numerator / denominator\n",
    "except:\n",
    "    print('There was an error. Recheck the code')\n",
    "    \n",
    "print('Despite of the arising error, we can still execute this code line.')    "
   ]
  },
  {
   "cell_type": "code",
   "execution_count": 1,
   "id": "ac06e467-3ab2-4429-b3d5-42e34df36960",
   "metadata": {},
   "outputs": [
    {
     "name": "stdout",
     "output_type": "stream",
     "text": [
      "There was an error. Modify the code.\n"
     ]
    }
   ],
   "source": [
    "#for instance:\n",
    "\n",
    "x = 13\n",
    "\n",
    "try:\n",
    "    y = int(input('Enter a value:'))\n",
    "    z = x/y\n",
    "    print('The result is:', z)\n",
    "except:\n",
    "    print('There was an error. Modify the code.')\n",
    "    "
   ]
  },
  {
   "cell_type": "code",
   "execution_count": null,
   "id": "8c847d30-13f9-41b3-bcd4-7c996fdf2164",
   "metadata": {},
   "outputs": [],
   "source": [
    "#for instance:\n",
    "\n",
    "d = 45\n",
    "\n",
    "try:\n",
    "    e = int(input('Type down a value:'))\n",
    "    f = d/e\n",
    "    print(f)\n",
    "except TypeError:\n",
    "    print('TypeError arose.')\n",
    "except ZeroDivisionError:\n",
    "    print('ZeroDivisionError arose.')\n",
    "except ValueError:\n",
    "    print('ValueError arose.')\n",
    "    \n",
    "print('Done.')    \n",
    "    "
   ]
  },
  {
   "cell_type": "markdown",
   "id": "7d3cc428-b65b-4d93-b75d-3fc1ba1e5311",
   "metadata": {},
   "source": [
    ">Print out the name of the error:\n",
    "```python\n",
    "except Exception as err:\n",
    "    print(f\"{type(err).__name__} was raised: {err}\")\n",
    "    \n",
    "```    "
   ]
  },
  {
   "cell_type": "code",
   "execution_count": 1,
   "id": "f057e501-7951-4e8d-b286-3a7eb9d50758",
   "metadata": {},
   "outputs": [
    {
     "name": "stdin",
     "output_type": "stream",
     "text": [
      "Enter a value: y\n"
     ]
    },
    {
     "name": "stdout",
     "output_type": "stream",
     "text": [
      "ValueError arose in the execution.\n"
     ]
    }
   ],
   "source": [
    "number = 567\n",
    "\n",
    "try:\n",
    "    div = float(input('Enter a value:'))\n",
    "except Exception as err:\n",
    "    print(f'{type(err).__name__} arose in the execution.')"
   ]
  },
  {
   "cell_type": "markdown",
   "id": "dca599e6-d722-4302-86e0-522f1fe1b7b4",
   "metadata": {},
   "source": [
    "> Create a loop that allows users to re-input the value until they get it right."
   ]
  },
  {
   "cell_type": "code",
   "execution_count": 6,
   "id": "666a4941-13ff-46a5-9b36-8c2aab626137",
   "metadata": {},
   "outputs": [
    {
     "name": "stdin",
     "output_type": "stream",
     "text": [
      "Enter a value: 7\n"
     ]
    },
    {
     "name": "stdout",
     "output_type": "stream",
     "text": [
      "The result is: 81.0\n",
      "Mission completed.\n"
     ]
    }
   ],
   "source": [
    "number = 567\n",
    "\n",
    "try:\n",
    "    div = float(input('Enter a value:'))\n",
    "    a = 'Mission completed.'\n",
    "except Exception as err:\n",
    "    a = str(type(err).__name__)\n",
    "    print(f'{a} arose in the execution.')\n",
    "\n",
    "#loop:\n",
    "while a != 'Mission completed.':\n",
    "    try:\n",
    "        div = float(input('Enter a value:'))\n",
    "        a = 'Mission completed.'\n",
    "    except Exception as err:\n",
    "        a = str(type(err).__name__)\n",
    "        print(f'{a} arose in the execution.')\n",
    "else:\n",
    "    print('The result is:', number/div)\n",
    "    print(a)"
   ]
  },
  {
   "cell_type": "markdown",
   "id": "f59adb2a-4c29-4115-9ae3-f7c150a12e96",
   "metadata": {},
   "source": [
    "### 2b. try except else:\n",
    "- To prevent all exceptions from halting the code execution, we can use the code block as follow:\n",
    "```python\n",
    "\n",
    "# any code to execute that does not require exceptions handling\n",
    "\n",
    "try:\n",
    "    # code to try to execute\n",
    "except:\n",
    "    # code to execute if any exception arises in the execution of the try block\n",
    "except [error_name]:\n",
    "    #code to execute if the specified exceptio arises\n",
    "else:\n",
    "    #code to execute if no exceptions arose\n",
    "    \n",
    "#code that still can execute if there is exception in the try block \n",
    "```"
   ]
  },
  {
   "cell_type": "code",
   "execution_count": 3,
   "id": "5fbe05bf-7e82-4270-bd21-98c1c9de1654",
   "metadata": {},
   "outputs": [
    {
     "name": "stdin",
     "output_type": "stream",
     "text": [
      "Enter a value: 77\n"
     ]
    },
    {
     "name": "stdout",
     "output_type": "stream",
     "text": [
      "The result is: 7.363636363636363\n",
      "Misison completed!\n"
     ]
    }
   ],
   "source": [
    "number = 567\n",
    "\n",
    "try:\n",
    "    div = float(input('Enter a value:'))\n",
    "except Exception as err:\n",
    "    print(f'{type(err).__name__} arose in the execution.')\n",
    "else: \n",
    "    print('The result is:', number/div)\n",
    "    print('Misison completed!')"
   ]
  },
  {
   "cell_type": "markdown",
   "id": "3db9f1d5-50f8-4b2e-b45c-70fda04bc3a2",
   "metadata": {},
   "source": [
    ">Create a loop that allows users to re-input the value until they get it right."
   ]
  },
  {
   "cell_type": "code",
   "execution_count": 8,
   "id": "2e3b2af2-a797-4df1-adac-7b868b653f0c",
   "metadata": {},
   "outputs": [
    {
     "name": "stdin",
     "output_type": "stream",
     "text": [
      "Enter a value: i\n"
     ]
    },
    {
     "name": "stdout",
     "output_type": "stream",
     "text": [
      "ValueError arose in the execution.\n"
     ]
    },
    {
     "name": "stdin",
     "output_type": "stream",
     "text": [
      "Enter a value: i\n"
     ]
    },
    {
     "name": "stdout",
     "output_type": "stream",
     "text": [
      "ValueError arose in the execution.\n"
     ]
    },
    {
     "name": "stdin",
     "output_type": "stream",
     "text": [
      "Enter a value: 09\n"
     ]
    },
    {
     "name": "stdout",
     "output_type": "stream",
     "text": [
      "The result is: 63.0\n",
      "Misison completed!\n"
     ]
    }
   ],
   "source": [
    "number = 567\n",
    "\n",
    "try:\n",
    "    div = float(input('Enter a value:'))\n",
    "    a = 'Misison completed!'\n",
    "except Exception as err:\n",
    "    a = str(type(err).__name__)\n",
    "    print(f'{a} arose in the execution.')\n",
    "\n",
    "    \n",
    "#loop:\n",
    "while a != 'Misison completed!':\n",
    "    try:\n",
    "        div = float(input('Enter a value:'))\n",
    "        a = 'Misison completed!'\n",
    "    except Exception as err:\n",
    "        a = str(type(err).__name__)\n",
    "        print(f'{a} arose in the execution.')\n",
    "    else: \n",
    "        print('The result is:', number/div)\n",
    "        print('Misison completed!')"
   ]
  },
  {
   "cell_type": "markdown",
   "id": "0ca856c2-607a-48cb-8934-5e044ad4ad77",
   "metadata": {},
   "source": [
    "### 2c. try except else finally:\n",
    "- To prevent all exceptions from halting the code execution, we can use the code block as follow:\n",
    "```python\n",
    "\n",
    "# any code to execute that does not require exceptions handling\n",
    "\n",
    "try:\n",
    "    # code to try to execute\n",
    "except:\n",
    "    # code to execute if any exception arises in the execution of the try block\n",
    "except [error_name]:\n",
    "    #code to execute if the specified exceptio arises\n",
    "else:\n",
    "    #code to execute if no exceptions arose\n",
    "finally:    \n",
    "    #code to execute no matter what\n",
    "    \n",
    "#code that still can execute if there is exception in the try block \n",
    "```"
   ]
  },
  {
   "cell_type": "code",
   "execution_count": 9,
   "id": "4b3d0d8d-1a0a-4705-bee0-81e08a2bcef5",
   "metadata": {},
   "outputs": [
    {
     "name": "stdin",
     "output_type": "stream",
     "text": [
      "Enter a value: 89\n"
     ]
    },
    {
     "name": "stdout",
     "output_type": "stream",
     "text": [
      "The result is: 6.370786516853933\n",
      "Misison completed!\n",
      "It is ok not to be ok.\n"
     ]
    }
   ],
   "source": [
    "number = 567\n",
    "\n",
    "try:\n",
    "    div = float(input('Enter a value:'))\n",
    "except Exception as err:\n",
    "    print(f'{type(err).__name__} arose in the execution.')\n",
    "else: \n",
    "    print('The result is:', number/div)\n",
    "    print('Misison completed!')\n",
    "finally:\n",
    "    print('It is ok not to be ok.')"
   ]
  },
  {
   "cell_type": "markdown",
   "id": "882098bd-2d7f-42a0-a8bf-34ecfab6c2f8",
   "metadata": {},
   "source": [
    "> Create a loop that allows users to re-input the value until they get it right and count the number of time it takes."
   ]
  },
  {
   "cell_type": "code",
   "execution_count": 22,
   "id": "819d33ab-57b4-4753-936b-aa0fffc95599",
   "metadata": {},
   "outputs": [
    {
     "name": "stdin",
     "output_type": "stream",
     "text": [
      "Enter a value: u\n"
     ]
    },
    {
     "name": "stdout",
     "output_type": "stream",
     "text": [
      "This is your 1 round.\n",
      "It is ok not to be ok.\n"
     ]
    },
    {
     "name": "stdin",
     "output_type": "stream",
     "text": [
      "Enter a value: u\n"
     ]
    },
    {
     "name": "stdout",
     "output_type": "stream",
     "text": [
      "ValueError arose in the execution.\n",
      "This is your 2 rounds.\n",
      "It is ok not to be ok.\n"
     ]
    },
    {
     "name": "stdin",
     "output_type": "stream",
     "text": [
      "Enter a value: 65\n"
     ]
    },
    {
     "name": "stdout",
     "output_type": "stream",
     "text": [
      "This is your 3 rounds.\n",
      "The result is: 8.723076923076922\n",
      "Misison completed!\n"
     ]
    }
   ],
   "source": [
    "number = 567\n",
    "\n",
    "#assign the number of the 1st iteration:\n",
    "iteration = 1\n",
    "try:\n",
    "    div = float(input('Enter a value:'))\n",
    "    a = 'Mission completed!'\n",
    "except Exception as err:\n",
    "    a = type(err).__name__\n",
    "finally:\n",
    "    print(f'This is your {iteration} round.')\n",
    "\n",
    "    \n",
    "#loop:    \n",
    "while a != 'Mission completed!': \n",
    "    print('It is ok not to be ok.')\n",
    "    try:\n",
    "        iteration = iteration + 1\n",
    "        div = float(input('Enter a value:'))\n",
    "        a = 'Mission completed!'\n",
    "    except Exception as err:\n",
    "        a = type(err).__name__\n",
    "        print(f'{a} arose in the execution.')\n",
    "    finally:\n",
    "        print(f'This is your {iteration} rounds.')\n",
    "else:\n",
    "    print('The result is:', number/div)\n",
    "    print('Misison completed!')\n",
    "    "
   ]
  },
  {
   "cell_type": "code",
   "execution_count": null,
   "id": "2815a90c-5edc-4393-b636-f99b9421a740",
   "metadata": {},
   "outputs": [],
   "source": []
  }
 ],
 "metadata": {
  "kernelspec": {
   "display_name": "Python 3 (ipykernel)",
   "language": "python",
   "name": "python3"
  },
  "language_info": {
   "codemirror_mode": {
    "name": "ipython",
    "version": 3
   },
   "file_extension": ".py",
   "mimetype": "text/x-python",
   "name": "python",
   "nbconvert_exporter": "python",
   "pygments_lexer": "ipython3",
   "version": "3.10.6"
  }
 },
 "nbformat": 4,
 "nbformat_minor": 5
}
