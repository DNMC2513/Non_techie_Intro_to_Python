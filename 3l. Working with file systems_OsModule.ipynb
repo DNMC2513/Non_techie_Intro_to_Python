{
 "cells": [
  {
   "cell_type": "markdown",
   "id": "a0afba7d-2725-4fea-82e2-b64b2cc73294",
   "metadata": {},
   "source": [
    "# Working with operating system\n",
    "----\n",
    "\n",
    "## OUTLINE:\n",
    "- Import the module\n",
    "- Working with already existing directories:\n",
    "    - get the current working directory\n",
    "    - change the current working directory\n",
    "    - show the content within a folder\n",
    "    - show the content of each sub-folder within a directory\n",
    "    - check the metadata of a folder:\n",
    "        -  intepret timestamp\n",
    "- Working with the operating system:\n",
    "    - Show the directories of all environments\n",
    "    - Show the directory of a specific environment\n",
    "- Create new folders:\n",
    "    - mkdir vs makedirs\n",
    "    - rename a folder\n",
    "    - check if the newly created directory is a file or a folder\n",
    "    - rmdir vs removedirs\n",
    "    - check if a directory exists or not\n",
    "- Create new files:\n",
    "    - join path\n",
    "    - check the name of the file\n",
    "    - check the full directory of the file\n",
    "    - check the name and the directory of the file\n",
    "    - check the extension of the file"
   ]
  },
  {
   "cell_type": "markdown",
   "id": "139ba3e0-3ed9-4a2d-8873-c317d736f3d7",
   "metadata": {},
   "source": [
    "## 1. Import the module:"
   ]
  },
  {
   "cell_type": "code",
   "execution_count": null,
   "id": "d61d56f0-11bb-49d6-b708-6de6eec56e7d",
   "metadata": {
    "tags": []
   },
   "outputs": [],
   "source": [
    "import os\n",
    "\n",
    "#the attributes and methods within the module:\n",
    "dir(os)"
   ]
  },
  {
   "cell_type": "markdown",
   "id": "9ee5dc9b-1b5e-4240-9ff2-666ac81ab780",
   "metadata": {},
   "source": [
    "## 2. Working with already existing directories:"
   ]
  },
  {
   "cell_type": "code",
   "execution_count": null,
   "id": "6e898e1e-1b71-4b75-b09f-844a298ce983",
   "metadata": {},
   "outputs": [],
   "source": [
    "#get the current dir:\n",
    "os.getcwd()"
   ]
  },
  {
   "cell_type": "code",
   "execution_count": null,
   "id": "7351f5d6-2347-4d2c-9301-b5428a8e4193",
   "metadata": {},
   "outputs": [],
   "source": [
    "#change the current directory:\n",
    "os.chdir('C:\\\\Users\\\\Admin\\\\AppData\\\\Roaming\\\\Python\\\\Python310\\\\Scripts')\n",
    "\n",
    "os.getcwd()"
   ]
  },
  {
   "cell_type": "code",
   "execution_count": null,
   "id": "dacbc026-818a-4a3d-916e-f75bad55e813",
   "metadata": {
    "tags": []
   },
   "outputs": [],
   "source": [
    "#find the folders and files within the dir:\n",
    "os.listdir()"
   ]
  },
  {
   "cell_type": "code",
   "execution_count": null,
   "id": "538a636e-0c2a-4413-950e-5cefa045fadf",
   "metadata": {
    "tags": []
   },
   "outputs": [],
   "source": [
    "#list the content of each sub-folder within a dir:\n",
    "for folder, subfolder, files in os.walk(os.getcwd()):\n",
    "    print('Directory:',folder)\n",
    "    print('Sub-folder:',subfolder)\n",
    "    print('content:',files)\n",
    "    print()\n",
    "    "
   ]
  },
  {
   "cell_type": "code",
   "execution_count": null,
   "id": "137efebb-154a-4edc-969a-650e8e340a76",
   "metadata": {},
   "outputs": [],
   "source": [
    "#check the metadata of the folder:\n",
    "os.stat(os.getcwd())"
   ]
  },
  {
   "cell_type": "code",
   "execution_count": null,
   "id": "fc53f08e-9c4a-4f09-96fa-703d2c169b72",
   "metadata": {
    "tags": []
   },
   "outputs": [],
   "source": [
    "#find the instruction for the function:\n",
    "help(os.stat(os.getcwd()))"
   ]
  },
  {
   "cell_type": "markdown",
   "id": "8343839a-e3e6-48f0-a326-b0f6ac4f760f",
   "metadata": {},
   "source": [
    "> `all time values in the result are timestamps. To intepret timestamps, we need to import the module datetime`"
   ]
  },
  {
   "cell_type": "code",
   "execution_count": null,
   "id": "1daf8715-085c-4cd7-8df9-1a37cc08bf2a",
   "metadata": {},
   "outputs": [],
   "source": [
    "from datetime import datetime\n",
    "\n",
    "print('The year, month, day, hour, second, nano second made of the last modification made to the folder are:', datetime.fromtimestamp(os.stat(os.getcwd()).st_mtime))\n",
    "\n",
    "print('The year, month, day, hour, second, nano second made of the last change made to the folder are:', datetime.fromtimestamp(os.stat(os.getcwd()).st_ctime))\n",
    "      \n",
    "      "
   ]
  },
  {
   "cell_type": "markdown",
   "id": "74bc0695-9bbe-44ab-9eae-f60a1fe965c4",
   "metadata": {},
   "source": [
    "## 3. Explore the operating system:"
   ]
  },
  {
   "cell_type": "code",
   "execution_count": null,
   "id": "a73b0b62-9c5c-4a00-bf9f-d69cc633f192",
   "metadata": {
    "tags": []
   },
   "outputs": [],
   "source": [
    "#show the main folders within the os:\n",
    "os.environ"
   ]
  },
  {
   "cell_type": "code",
   "execution_count": null,
   "id": "6625a83f-1f82-4df1-9b7f-aa007f8b2434",
   "metadata": {},
   "outputs": [],
   "source": [
    "#show the directory of a specific environment:\n",
    "os.environ.get('HOMEDRIVE')"
   ]
  },
  {
   "cell_type": "markdown",
   "id": "580f29a3-12c6-41c1-9a30-fa2d02d70e30",
   "metadata": {},
   "source": [
    "## 4. Create a new folder:"
   ]
  },
  {
   "cell_type": "code",
   "execution_count": null,
   "id": "4c9d73ba-68ad-4d61-ba05-297b8859ea68",
   "metadata": {},
   "outputs": [],
   "source": [
    "#change the dir to the folder you want to work with:\n",
    "#os.chdir('dir\")"
   ]
  },
  {
   "cell_type": "code",
   "execution_count": null,
   "id": "81da4ae1-b370-45f7-9e9c-e42c20ba1bd9",
   "metadata": {},
   "outputs": [],
   "source": [
    "#create a dir with no sub-folders:\n",
    "os.mkdir('Sample')"
   ]
  },
  {
   "cell_type": "code",
   "execution_count": null,
   "id": "4b211193-18a1-4ce1-a5a8-276191ad9007",
   "metadata": {},
   "outputs": [],
   "source": [
    "#create a dir with sub-folders:\n",
    "os.makedirs('samp1\\\\samp2\\\\samp3')"
   ]
  },
  {
   "cell_type": "code",
   "execution_count": null,
   "id": "b143d096-49fa-471d-a759-ed01e6ebc59a",
   "metadata": {},
   "outputs": [],
   "source": [
    "#check if the dir is a really a dir or a file:\n",
    "print('The new dir is a file:', os.path.isfile('Sample'))\n",
    "print('The newe dir is a folder:', os.path.isdir('Sample'))\n",
    "      "
   ]
  },
  {
   "cell_type": "code",
   "execution_count": null,
   "id": "0360aa76-acbe-42f0-9ec9-9b1e23829c22",
   "metadata": {},
   "outputs": [],
   "source": [
    "for directory_name, sub_folder, files in os.walk('samp1'):\n",
    "    print(directory_name)\n",
    "    print(sub_folder)\n",
    "    print(files)\n",
    "    print()"
   ]
  },
  {
   "cell_type": "code",
   "execution_count": null,
   "id": "eaa64cee-0a48-4f4c-b3db-fa17a4cc0659",
   "metadata": {},
   "outputs": [],
   "source": [
    "#rename a folder of a file:\n",
    "os.rename('Sample', 'Sampling')"
   ]
  },
  {
   "cell_type": "code",
   "execution_count": null,
   "id": "74da0250-9d01-4b17-86e9-4bf2b247ac5f",
   "metadata": {},
   "outputs": [],
   "source": [
    "#remove a dir with no sub-folder:\n",
    "os.rmdir('Sampling')"
   ]
  },
  {
   "cell_type": "code",
   "execution_count": null,
   "id": "306aaf76-e333-435e-bf1b-4a994596fbd1",
   "metadata": {},
   "outputs": [],
   "source": [
    "#remove a dir with sub-folders:\n",
    "os.removedirs('samp1\\\\samp2\\\\samp3')"
   ]
  },
  {
   "cell_type": "code",
   "execution_count": null,
   "id": "9a2d27e5-0805-47e9-8a69-c18dd5273074",
   "metadata": {},
   "outputs": [],
   "source": [
    "#check if the dir still exists or not:\n",
    "os.path.exists('samp1\\\\samp2\\\\samp3')"
   ]
  },
  {
   "cell_type": "markdown",
   "id": "031ac2bc-60a0-45b7-9dfa-de1220622772",
   "metadata": {},
   "source": [
    "## 5. Create a new folder:"
   ]
  },
  {
   "cell_type": "code",
   "execution_count": null,
   "id": "860ac306-4421-44d1-8321-fbb78c55c26c",
   "metadata": {},
   "outputs": [],
   "source": [
    "#create a file at any chosen file:\n",
    "file_path = os.path.join(os.getcwd(),'newfile.txt')\n",
    "print(file_path)\n",
    "print(os.path.exists(file_path))\n",
    "#not yet create the file"
   ]
  },
  {
   "cell_type": "code",
   "execution_count": null,
   "id": "bfda87a5-9265-41bc-aed0-1b7704f0e810",
   "metadata": {},
   "outputs": [],
   "source": [
    "with open(file_path, 'w') as file:\n",
    "    file.write('You are doing great. \\n Keep moving forwardsss')"
   ]
  },
  {
   "cell_type": "code",
   "execution_count": null,
   "id": "2babdc3a-da78-4caf-8594-3b59cc601ced",
   "metadata": {},
   "outputs": [],
   "source": [
    "#check if the file exists:\n",
    "print(os.path.exists(file_path))\n",
    "print(os.path.isfile(file_path))"
   ]
  },
  {
   "cell_type": "code",
   "execution_count": null,
   "id": "d4af1407-1f86-4fad-95f5-3a79c82e9dc9",
   "metadata": {},
   "outputs": [],
   "source": [
    "#extract the name of the file:\n",
    "os.path.basename(file_path)"
   ]
  },
  {
   "cell_type": "code",
   "execution_count": null,
   "id": "8d295819-6c47-43b8-8c00-9c353cfd1f9b",
   "metadata": {},
   "outputs": [],
   "source": [
    "#extract the directory of the file:\n",
    "os.path.dirname(file_path)"
   ]
  },
  {
   "cell_type": "code",
   "execution_count": null,
   "id": "031d01cf-f42c-4963-a211-8af39710701c",
   "metadata": {},
   "outputs": [],
   "source": [
    "#extract both the dir name and the file name:\n",
    "os.path.split(file_path)"
   ]
  },
  {
   "cell_type": "code",
   "execution_count": null,
   "id": "c9032d68-5cbd-4292-a75a-395c23af7cd1",
   "metadata": {},
   "outputs": [],
   "source": [
    "#check the extension of the file:\n",
    "os.path.splitext(file_path)"
   ]
  }
 ],
 "metadata": {
  "kernelspec": {
   "display_name": "Python 3 (ipykernel)",
   "language": "python",
   "name": "python3"
  },
  "language_info": {
   "codemirror_mode": {
    "name": "ipython",
    "version": 3
   },
   "file_extension": ".py",
   "mimetype": "text/x-python",
   "name": "python",
   "nbconvert_exporter": "python",
   "pygments_lexer": "ipython3",
   "version": "3.10.6"
  }
 },
 "nbformat": 4,
 "nbformat_minor": 5
}
