{
 "cells": [
  {
   "cell_type": "markdown",
   "id": "c7ccc852-fd5a-41a5-beab-325336a188b1",
   "metadata": {},
   "source": [
    "# Data Structure: Lists"
   ]
  },
  {
   "cell_type": "markdown",
   "id": "7c6dea77-046b-43e1-a472-b0200c183bef",
   "metadata": {},
   "source": [
    "## `OUTLINE`:\n",
    "- I, Definition\n",
    "- II, Index and slice\n",
    "- III, Split a strings to a list\n",
    "- IV, Mutate a list\n",
    "- V, Clone and copy a list:\n",
    "- VI, Concatenate lists:\n",
    "- V, Sort a list:\n",
    "- V, Ammendment:\n",
    "    - Pop an element from a list\n",
    "    - Insert an element into a list"
   ]
  },
  {
   "cell_type": "markdown",
   "id": "3f87d5dc-c318-4360-80c9-432445b060fe",
   "metadata": {},
   "source": [
    "## I, Definition:\n",
    "- Return to topic `3d. Overview Tuples, Lists and Sets`."
   ]
  },
  {
   "cell_type": "markdown",
   "id": "0c45eed2-6d8f-47fc-b236-fec70df98b65",
   "metadata": {},
   "source": [
    "## II, Index and slice:\n",
    "- Return to section `III, Indexible` of the topic `3d. Overview the Tuples, Lists and Sets`."
   ]
  },
  {
   "cell_type": "markdown",
   "id": "29943fd4-7a62-45f7-a5b8-8e50d10cc353",
   "metadata": {},
   "source": [
    "- To make our work easier, we can also use the `len()` function to find the total number of objects within a data structure."
   ]
  },
  {
   "cell_type": "code",
   "execution_count": null,
   "id": "c5617191-0a18-4b8c-b36e-82efd94ec5c4",
   "metadata": {},
   "outputs": [],
   "source": [
    "#For instance:\n",
    "list2 = [1,35,35345,{123,212343}]\n",
    "len(list2)"
   ]
  },
  {
   "cell_type": "markdown",
   "id": "3121d525-86a3-4b44-9279-60c847286237",
   "metadata": {},
   "source": [
    "## III, Split a string to a list:"
   ]
  },
  {
   "cell_type": "markdown",
   "id": "efa16527-5c38-40ea-b7d3-05faac184816",
   "metadata": {},
   "source": [
    "- To split all characters within a string into elements of a list, we can use the method `string.split(delimeter)`. The `delimeter` is optional. If we do not pass any value to the method, Python will set the delimeter as a blankspace by default. For instance:"
   ]
  },
  {
   "cell_type": "code",
   "execution_count": null,
   "id": "883c3560-4d09-4f20-a7a7-ee7c879112fd",
   "metadata": {},
   "outputs": [],
   "source": [
    "#blankspace as delimeter:\n",
    "'A b c'.split()"
   ]
  },
  {
   "cell_type": "code",
   "execution_count": null,
   "id": "b35cd929-05a0-40ea-b386-3b91af84e16e",
   "metadata": {},
   "outputs": [],
   "source": [
    "#comma as delimeter:\n",
    "'1,2,3,4,5,6,7'.split(',')"
   ]
  },
  {
   "cell_type": "code",
   "execution_count": null,
   "id": "d2ccfa40-48e7-4286-96ad-429ef7095bd1",
   "metadata": {},
   "outputs": [],
   "source": [
    "#seperated line as delimeter:\n",
    "'Tell me/nTell me/nTell me'.split('/n')"
   ]
  },
  {
   "cell_type": "markdown",
   "id": "c77a7e72-5e6e-402a-83c3-ca4922e923d4",
   "metadata": {},
   "source": [
    "Just in case, `delimeter` is a symbol that represents the beginning and end of something."
   ]
  },
  {
   "cell_type": "markdown",
   "id": "191aa75e-85ef-4f2f-a52c-23ee5d65f09b",
   "metadata": {},
   "source": [
    "<p style = \"color:cyan\">Ex_turn the array of some customers' names into a list:</p>\n",
    "Jane / Linda / Jack_Sparrow / King_Arthur / Anne / Boleyn / Maria / Marie / Elizabeth"
   ]
  },
  {
   "cell_type": "code",
   "execution_count": null,
   "id": "58989a44-9523-4c00-be95-96f38c4fa38c",
   "metadata": {},
   "outputs": [],
   "source": [
    "#Type here:\n"
   ]
  },
  {
   "cell_type": "markdown",
   "id": "bd07f5c2-73f1-4a3f-9e3e-85524c3f95b7",
   "metadata": {},
   "source": [
    "<details><summary > Click here for the solution after you've done the task:\n",
    "</summary>\n",
    "    \n",
    "```python\n",
    "#Type here:\n",
    "'Jane / Linda / Jack_Sparrow / King_Arthur / Anne / Boleyn / Maria / Marie / Elizabeth'.split('/')\n",
    "```\n",
    "</details>"
   ]
  },
  {
   "cell_type": "markdown",
   "id": "88ef5516-dccb-40cf-b9b7-64ba52511083",
   "metadata": {},
   "source": [
    "## IV, Mutate a list:\n",
    "- There are 4 ways to mutate a list:\n",
    "    - `list.extend()`: add several elements to the list\n",
    "    - `list.append()`: add only one element to the list\n",
    "    - `del(list[])`: remove the element within the list whose index is passed into the function\n",
    "    - `list[] = value`: replace the element of the list with the specified index with a new value.\n",
    "> The list is mutable in the sense that there are ways for us to alter its content without creating a new object with a new id. Hence, , we will check the id of the object before and after every alteration made to it."
   ]
  },
  {
   "cell_type": "markdown",
   "id": "8878dfd5-62d9-4c88-81c4-b55c14a7efb0",
   "metadata": {},
   "source": [
    "### a, `list.extend()`:"
   ]
  },
  {
   "cell_type": "code",
   "execution_count": null,
   "id": "9b425c1a-8137-4dab-ae62-e76cf91c83b0",
   "metadata": {},
   "outputs": [],
   "source": [
    "#For instance:\n",
    "#check the id of the object before and after the modification:\n",
    "liste = [15,4,2,35]\n",
    "print('Before the modification, the liste is:', liste)\n",
    "print('Before the modification, the id of liste is:', id(liste))\n",
    "liste.extend([1,2,3])\n",
    "print('After the modification, the liste is:', liste)\n",
    "print('After the modification, the id of liste is:', id(liste))\n"
   ]
  },
  {
   "cell_type": "markdown",
   "id": "fcc19191-ab5b-42d8-b297-53455339c3ac",
   "metadata": {},
   "source": [
    "<p style = \"color:cyan\">Ex_Add these following data structures to liste, using .extend() method. Answer this question:<br> How many objects are there in liste?\n",
    "\n",
    "</p>\n",
    "[123,54,33] <br>\n",
    "(True, False)\n"
   ]
  },
  {
   "cell_type": "code",
   "execution_count": null,
   "id": "19c2a6e8-917c-43ba-8c49-0efde1f2ca14",
   "metadata": {},
   "outputs": [],
   "source": [
    "#Type here:\n"
   ]
  },
  {
   "cell_type": "markdown",
   "id": "1efdd328-9f72-4808-8023-fd2b0b9ba86e",
   "metadata": {},
   "source": [
    "<details><summary > Click here for the solution after you've done the task:\n",
    "</summary>\n",
    "- The answer is 12\n",
    "    \n",
    "```python\n",
    "#Type here:\n",
    "liste.extend([123,54,33])\n",
    "liste.extend((True, False))\n",
    "len(liste)\n",
    "```\n",
    "</details>"
   ]
  },
  {
   "cell_type": "markdown",
   "id": "c2b12e18-a2f9-480f-8493-3378804b75de",
   "metadata": {},
   "source": [
    "### b, `list.append()`:"
   ]
  },
  {
   "cell_type": "code",
   "execution_count": null,
   "id": "2df0a433-94e3-45fb-9c95-4c46bccdc836",
   "metadata": {},
   "outputs": [],
   "source": [
    "#For instance:\n",
    "#check the id of the object before and after the modification:\n",
    "listy = [4,5,2,12,35]\n",
    "print('Before the modification, the listy is:', listy)\n",
    "print('Before the modification, the id of listy is:', id(listy))\n",
    "listy.append([1,23])\n",
    "print('After the modification, the listy is:', listy)\n",
    "print('After the modification, the id of listy is:', id(listy))"
   ]
  },
  {
   "cell_type": "markdown",
   "id": "92616bf0-24ee-4db3-b191-04f938b75fdb",
   "metadata": {},
   "source": [
    "[123,154,33]<p style = \"color:cyan\">Ex_Add these following data structures to listy, using .append() method. Answer this question:<br> How many objects are there in liste?\n",
    "\n",
    "</p>\n",
    "[123,154,33] <br>\n",
    "(True, False, True)\n"
   ]
  },
  {
   "cell_type": "code",
   "execution_count": null,
   "id": "7c1f9576-f30a-4eca-9e08-cddf196670d8",
   "metadata": {},
   "outputs": [],
   "source": [
    "#Type here:\n"
   ]
  },
  {
   "cell_type": "markdown",
   "id": "ed099f7c-caff-441c-8eb2-29d5089f9c52",
   "metadata": {},
   "source": [
    "<details><summary > Click here for the solution after you've done the task:\n",
    "</summary>\n",
    "- The anser is 8.\n",
    "    \n",
    "```python\n",
    "#Type here:\n",
    "listy.append([123,154,33])\n",
    "listy.append((True, False, True))\n",
    "len(listy)\n",
    "```\n",
    "</details>"
   ]
  },
  {
   "cell_type": "markdown",
   "id": "a28c6583-4f34-4993-96b1-9df218501561",
   "metadata": {},
   "source": [
    "### c, `del(list[])`:"
   ]
  },
  {
   "cell_type": "code",
   "execution_count": null,
   "id": "017aa2c2-f87d-4ca3-b162-994a2a867f7c",
   "metadata": {},
   "outputs": [],
   "source": [
    "#For instance:\n",
    "listy = [4,5,2,12,35]\n",
    "print('Before the modification, the listy is:', listy)\n",
    "print('Before the modification, the id of listy is:', id(listy))\n",
    "del(listy[0])\n",
    "print('After the modification, the listy is:', listy)\n",
    "print('After the modification, the id of listy is:', id(listy))"
   ]
  },
  {
   "cell_type": "markdown",
   "id": "4d1d1abe-4502-432f-a704-f5bcd842b5a8",
   "metadata": {},
   "source": [
    "<p style = \"color:cyan\">Ex_Delete the number 2 and 12 from listy.\n",
    "</p>\n"
   ]
  },
  {
   "cell_type": "code",
   "execution_count": null,
   "id": "c4740472-b5e7-4b7a-999d-6ed2679300c2",
   "metadata": {},
   "outputs": [],
   "source": [
    "#Type here:\n"
   ]
  },
  {
   "cell_type": "markdown",
   "id": "667d243a-a2c5-449f-93a4-0858b28c1a4b",
   "metadata": {},
   "source": [
    "<details><summary > Click here for the solution after you've done the task:\n",
    "</summary>\n",
    "    \n",
    "```python\n",
    "#Type here:\n",
    "print(listy)\n",
    "del(listy[1], listy[2])\n",
    "listy\n",
    "```\n",
    "</details>"
   ]
  },
  {
   "cell_type": "markdown",
   "id": "e36115ac-febf-4439-b594-7999a05eb311",
   "metadata": {},
   "source": [
    "### d, `list[] = value`:"
   ]
  },
  {
   "cell_type": "code",
   "execution_count": null,
   "id": "5b655581-3e35-4978-84b1-46f0fb995f05",
   "metadata": {},
   "outputs": [],
   "source": [
    "#For instance:\n",
    "listy = [4,5,2,12,35]\n",
    "print('Before the modification, the listy is:', listy)\n",
    "print('Before the modification, the id of listy is:', id(listy))\n",
    "listy[0] = 0\n",
    "print('After the modification, the listy is:', listy)\n",
    "print('After the modification, the id of listy is:', id(listy))"
   ]
  },
  {
   "cell_type": "markdown",
   "id": "ac7cf8cd-f1a7-404b-bb44-4d87b5e7d74d",
   "metadata": {},
   "source": [
    "<p style = \"color:cyan\">Ex_Turn the first 3 elements within listy into 'Hello dear'.\n",
    "\n",
    "</p>\n"
   ]
  },
  {
   "cell_type": "code",
   "execution_count": null,
   "id": "0c7dcc49-5b82-4aa1-8a25-d1b0055f4cf1",
   "metadata": {},
   "outputs": [],
   "source": [
    "#Type here:\n"
   ]
  },
  {
   "cell_type": "markdown",
   "id": "a71b0dde-ce9a-4b51-8f1e-07a7f97637a1",
   "metadata": {},
   "source": [
    "<details><summary > Click here for the solution after you've done the task:\n",
    "</summary>\n",
    "    \n",
    "```python\n",
    "#Type here:\n",
    "listy[0] = 'Hello dear'\n",
    "listy[1] = 'Hello dear'\n",
    "listy[2] = 'Hello dear'\n",
    "listy\n",
    "```\n",
    "</details>"
   ]
  },
  {
   "cell_type": "markdown",
   "id": "f8647e49-cdee-4772-89c1-832798643b18",
   "metadata": {},
   "source": [
    "## V, Clone and copy a list:"
   ]
  },
  {
   "cell_type": "markdown",
   "id": "99b40278-e75e-4492-840a-ed2f16104616",
   "metadata": {},
   "source": [
    "What? Aren't these the same thing? "
   ]
  },
  {
   "cell_type": "markdown",
   "id": "28ee2d48-5dbe-4660-90d8-f2efc64a57f2",
   "metadata": {},
   "source": [
    "Of course, they are not. Suppose you have a list, which is A.\n",
    "- When you copy A, you do this:\n",
    "```python \n",
    "#This is copy:\n",
    "A = [3,6,9]\n",
    "B = A\n",
    "```\n",
    "- When you clone list A, you do this:\n",
    "```python\n",
    "#This is clone:\n",
    "A = [3,6,9]\n",
    "B = A[:]\n",
    "```\n",
    "- So what is the difference between these two actions?\n"
   ]
  },
  {
   "cell_type": "markdown",
   "id": "d573571d-9ab0-4560-9908-6e86cbfd019e",
   "metadata": {},
   "source": [
    "### 1, Copy a list:\n",
    "- When you copy a list into a new list, both of them refers to the same id in the heap memory of Python. Hence, whenever you make a change to a list, the other list is also affected in the same way.\n",
    "- For instance:"
   ]
  },
  {
   "cell_type": "code",
   "execution_count": null,
   "id": "f4d85275-9b7f-4f3f-aed3-10c993ca66b9",
   "metadata": {},
   "outputs": [],
   "source": [
    "#Copy a list:\n",
    "A = [3,6,9]\n",
    "print('This is the list A:', A)\n",
    "print('This is the id of the list A:', id(A))\n",
    "B = A\n",
    "print('This is the list B:', B)\n",
    "print('This is the id of the list B:', id(B))\n",
    "print('id(A) == id(B):', id(A) == id(B))"
   ]
  },
  {
   "cell_type": "code",
   "execution_count": null,
   "id": "842015f7-7135-48f2-be73-ade58e411acd",
   "metadata": {},
   "outputs": [],
   "source": [
    "### modify the list A:\n",
    "A[0] = 1\n",
    "print('List A after the modification:', A)\n",
    "print('List B after the modificaiton to list A:', B)"
   ]
  },
  {
   "cell_type": "markdown",
   "id": "c6877dce-8395-4ef2-8b4e-03169ab7da78",
   "metadata": {},
   "source": [
    "### 2, Clone a list:\n",
    "- When you clone a list into a new list, you create an entity that contains the same data structure, however, with different id. Hence, whenever, you make a change to a list, the other one will not be affected. For instance:"
   ]
  },
  {
   "cell_type": "code",
   "execution_count": null,
   "id": "21c6753a-8c23-4b0c-9013-44ef982a92a8",
   "metadata": {},
   "outputs": [],
   "source": [
    "#Clone a list:\n",
    "C = [3,7,9]\n",
    "print('This is the list C:', C)\n",
    "print('This is the id of the list C:', id(C))\n",
    "D = C[:]\n",
    "print('This is the list D:', D)\n",
    "print('This is the id of the list D:', id(D))\n",
    "print('id(C) == id(D):', id(C) == id(D))"
   ]
  },
  {
   "cell_type": "code",
   "execution_count": null,
   "id": "b26b236f-5a31-4760-a621-4c9001a71033",
   "metadata": {},
   "outputs": [],
   "source": [
    "### modify list C:\n",
    "C[0] = 1\n",
    "print('List C after the modification:', C)\n",
    "print('List D after the modificaiton to list C:', D)"
   ]
  },
  {
   "cell_type": "markdown",
   "id": "3116c6ab-6540-49f3-a5e7-b2d0f2ca4785",
   "metadata": {},
   "source": [
    "## VI, Concatenate lists:\n",
    "- We can combine elemenets within several lists into one list by using the symbol `+`. For instance:"
   ]
  },
  {
   "cell_type": "code",
   "execution_count": null,
   "id": "64588bc7-4346-4285-b6eb-d7efc09c7272",
   "metadata": {},
   "outputs": [],
   "source": [
    "#For instance:\n",
    "list1 = [1,2,35]\n",
    "list2 = [1,25,233,22]\n",
    "list3 = list1+ list2\n",
    "list3"
   ]
  },
  {
   "cell_type": "markdown",
   "id": "4affb88f-be03-4fe9-8b02-83b6a3c74d60",
   "metadata": {},
   "source": [
    "<p style = \"color:cyan\"> Ex_Create a list named list4 that consists of all elements of list1, list2 and list3. </p>"
   ]
  },
  {
   "cell_type": "code",
   "execution_count": null,
   "id": "d8f24ab9-bdee-4d21-9e65-80aa4f7f87d9",
   "metadata": {},
   "outputs": [],
   "source": [
    "#Type here:\n"
   ]
  },
  {
   "cell_type": "markdown",
   "id": "5e4bd613-ab01-4373-8969-3a7b43c1e1b9",
   "metadata": {},
   "source": [
    "<details><summary>Click here for solution after you've done the task:  \n",
    "</summary>\n",
    "    \n",
    "```python\n",
    "#Type here:\n",
    "list4 = list1 + list2 + list3 + list4\n",
    "list4\n",
    "```    \n",
    "</details>\n"
   ]
  },
  {
   "cell_type": "markdown",
   "id": "7ec5a2f1-9c1d-43c8-9d22-a54951d6caec",
   "metadata": {},
   "source": [
    "## V, Sort a list:"
   ]
  },
  {
   "cell_type": "markdown",
   "id": "79e8f687-9e12-4246-a346-f2e38a65c04b",
   "metadata": {},
   "source": [
    "### 1, Sort a list of numbers:"
   ]
  },
  {
   "cell_type": "code",
   "execution_count": null,
   "id": "ab738323-a5c8-4bfd-86fd-a597ddbd77a3",
   "metadata": {},
   "outputs": [],
   "source": [
    "#in an ascending order:\n",
    "listx = [1,2,354,243,6543]\n",
    "listx.sort()\n",
    "listx"
   ]
  },
  {
   "cell_type": "code",
   "execution_count": null,
   "id": "fb75d997-4430-4cfd-a044-92608acbaaff",
   "metadata": {},
   "outputs": [],
   "source": [
    "#in a descending order:\n",
    "listx.sort(reverse = True)\n",
    "listx"
   ]
  },
  {
   "cell_type": "markdown",
   "id": "8bfbe504-1010-44c5-82cb-126cb9466a5f",
   "metadata": {},
   "source": [
    "### 2, Sort a list of strings based on length:"
   ]
  },
  {
   "cell_type": "code",
   "execution_count": null,
   "id": "8adfbaee-97c9-4743-9d49-992d5fb486b5",
   "metadata": {},
   "outputs": [],
   "source": [
    "#in an ascending order:\n",
    "wo = \"It's time to go home\".split()\n",
    "print(wo)\n",
    "wo.sort(key = len)\n",
    "wo"
   ]
  },
  {
   "cell_type": "code",
   "execution_count": null,
   "id": "042c7f9d-999a-4473-a798-00a44bcfb298",
   "metadata": {},
   "outputs": [],
   "source": [
    "#in a descending order:\n",
    "wo.sort(reverse = True)\n",
    "wo"
   ]
  },
  {
   "cell_type": "markdown",
   "id": "fd7d02f3-b3b2-464e-93b4-b524c1b7dc79",
   "metadata": {},
   "source": [
    "### VI, Ammendment:"
   ]
  },
  {
   "cell_type": "markdown",
   "id": "20326bc8-0f57-4a7d-9143-5d5bbfe97e00",
   "metadata": {},
   "source": [
    "### 1, Another way to delete elements from a list:"
   ]
  },
  {
   "cell_type": "code",
   "execution_count": null,
   "id": "dd1d7fd8-957c-463e-9201-9f4542903e6f",
   "metadata": {},
   "outputs": [],
   "source": [
    "lista = [1,2,3,5,5,4]\n",
    "print(id(lista))\n",
    "lista.pop(-1)\n",
    "print(lista)\n",
    "print(id(lista))\n"
   ]
  },
  {
   "cell_type": "markdown",
   "id": "f6758274-d13e-4e01-b13a-2e6dbdcc6e32",
   "metadata": {},
   "source": [
    "### 2, Insert elements to a list:"
   ]
  },
  {
   "cell_type": "code",
   "execution_count": null,
   "id": "e668ccbf-59ce-4eb1-a57b-c5e05f47ec32",
   "metadata": {},
   "outputs": [],
   "source": [
    "c = id(lista)\n",
    "lista.insert(-1,\\\n",
    "             #the index of the element to insert a new one before\n",
    "             'Index0') #value to insert\n",
    "d = id(lista)\n",
    "print(lista)\n",
    "c ==d"
   ]
  },
  {
   "cell_type": "markdown",
   "id": "aaef37cc-b241-42f1-b5f5-d7d8b2f75eeb",
   "metadata": {},
   "source": [
    "### 3, Sort the list based on the length of elements:\n"
   ]
  },
  {
   "cell_type": "code",
   "execution_count": null,
   "id": "904b3806-65a7-432d-80e7-4b2fe13c1386",
   "metadata": {},
   "outputs": [],
   "source": [
    "listb = ['Duong', 'Nguyen', 'Minh', 'Chau']\n",
    "print('The id of listb before sorting:', id(listb))\n",
    "listb.sort(key = len)\n",
    "print('listb after being sorted:', listb)\n",
    "print('The id of listb after sorting:', id(listb))"
   ]
  },
  {
   "cell_type": "code",
   "execution_count": null,
   "id": "e81a32d6-bd9e-450b-abc8-8da21c9658a2",
   "metadata": {},
   "outputs": [],
   "source": []
  }
 ],
 "metadata": {
  "kernelspec": {
   "display_name": "Python 3 (ipykernel)",
   "language": "python",
   "name": "python3"
  },
  "language_info": {
   "codemirror_mode": {
    "name": "ipython",
    "version": 3
   },
   "file_extension": ".py",
   "mimetype": "text/x-python",
   "name": "python",
   "nbconvert_exporter": "python",
   "pygments_lexer": "ipython3",
   "version": "3.10.6"
  }
 },
 "nbformat": 4,
 "nbformat_minor": 5
}
