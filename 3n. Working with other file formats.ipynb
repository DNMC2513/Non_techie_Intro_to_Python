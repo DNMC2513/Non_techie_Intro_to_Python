{
 "cells": [
  {
   "cell_type": "markdown",
   "id": "2f8f50c3-c0b0-4a1f-b1ac-c3a06fa28287",
   "metadata": {},
   "source": [
    "# Working with other file formats: csv and json"
   ]
  },
  {
   "cell_type": "markdown",
   "id": "6e8649ac-55af-4ae6-8704-32a2bdfd0954",
   "metadata": {},
   "source": [
    "## Outline:\n",
    "- what is a file format?\n",
    "- xlsx\n",
    "- csv\n",
    "- json"
   ]
  },
  {
   "cell_type": "markdown",
   "id": "019f5ae4-b145-41b4-93dc-84723070d640",
   "metadata": {},
   "source": [
    "## 1. What is a file format?\n",
    "- A file format is a standard way in which data is ENCODED (binary or ASCII) and ORGANIZED for storage.\n",
    "- To identify the format of a file, we just need to look at the extension (the part behind the '.' of a file)\n",
    "- eg: 'test.csv' is a csv file\n",
    "- Some common file formats are:\n",
    "    - xlsx: excel file\n",
    "    - csv: comma-seperated-value file\n",
    "    - json: JavaScript Object Notation"
   ]
  },
  {
   "cell_type": "markdown",
   "id": "9b6026e1-7b73-4f04-82e4-cd935ba41be1",
   "metadata": {},
   "source": [
    "## 2. xlsx file:\n",
    "- xlsx is a Microsoft Excel Open XML file format. It is another type of spreadsheet format (where all data points represented in rows and columns of a table).\n",
    "```python\n",
    "import pandas as pd #use pandas to work with xlsx\n",
    "\n",
    "file_dir = '' #insert the file directory\n",
    "\n",
    "df = pd.read_excel(file_dir)\n",
    "#instead of file_dir, url of the source can be passed into the ()\n",
    "\n",
    "```\n",
    "\n"
   ]
  },
  {
   "cell_type": "markdown",
   "id": "8d89c315-91d5-419c-9bec-1a8bd550950f",
   "metadata": {},
   "source": [
    "### 3. csv file:\n",
    "- comma-seperated values file format.\n",
    "- can take the form of a spreadsheet file format.\n",
    "```python\n",
    "import pandas as pd #using pandas to work with the csv file\n",
    "\n",
    "file_dir = '' #insert the file directory\n",
    "\n",
    "df = pd.read_csv(file_dir, \n",
    "                 header = None) #replace None with the name of the df\n",
    "\n",
    "#Adding column names to the df:\n",
    "df.columns = ['col1', 'col2', '...']\n",
    "\n",
    "                 \n",
    "```                 "
   ]
  },
  {
   "cell_type": "markdown",
   "id": "2774ab5a-24e1-4c88-8d80-bccb48b59d6f",
   "metadata": {},
   "source": [
    "## 4. json file:\n",
    "- JavaScript Object Notation is a lightweight data-interchange format. \n",
    "- A json object can take the form of a nested dictionary."
   ]
  },
  {
   "cell_type": "code",
   "execution_count": 1,
   "id": "8317bd6a-0bf4-42c9-ae88-9bb022d4d17c",
   "metadata": {},
   "outputs": [
    {
     "data": {
      "text/plain": [
       "dict"
      ]
     },
     "execution_count": 1,
     "metadata": {},
     "output_type": "execute_result"
    }
   ],
   "source": [
    "import json\n",
    "\n",
    "#create a dict:\n",
    "pet = {\n",
    "    'name': 'cutie',\n",
    "    'age': '6 months',\n",
    "    'color': 'gold',\n",
    "    'breed': 'British',\n",
    "    'family':{\n",
    "        'dad': 'bob',\n",
    "        'mom': 'bin',\n",
    "        'sister': 'nii',\n",
    "        'brother': 'doo'\n",
    "    }\n",
    "}\n",
    "\n",
    "type(pet)"
   ]
  },
  {
   "cell_type": "markdown",
   "id": "74d46860-f8e1-43e1-aef5-635f227f7d07",
   "metadata": {},
   "source": [
    "### 4a. Serialization:\n",
    "- the process in which data is turned into the an apt file format for storage and sharing\n"
   ]
  },
  {
   "cell_type": "markdown",
   "id": "9950f404-af44-47cf-b182-26657a6f0c0c",
   "metadata": {},
   "source": [
    "#### `Using json.dump()` to write a dict into a file:"
   ]
  },
  {
   "cell_type": "code",
   "execution_count": 2,
   "id": "c6bab3a1-ea66-4c0d-b7c5-16527dcbaea1",
   "metadata": {},
   "outputs": [],
   "source": [
    "with open ('pet.json', 'w') as file: #create a file and open it\n",
    "    json.dump(pet, #the name of the dict\n",
    "              file #pointer of the file being opened\n",
    "             )"
   ]
  },
  {
   "cell_type": "markdown",
   "id": "3873a425-9cfc-460d-86af-ffbee52d3461",
   "metadata": {},
   "source": [
    "#### `using json.dumps()`: turn a dict into a string, then write it into a file:"
   ]
  },
  {
   "cell_type": "code",
   "execution_count": 5,
   "id": "914bc5fb-1545-4ae9-90fa-1d611a9ff684",
   "metadata": {},
   "outputs": [
    {
     "name": "stdout",
     "output_type": "stream",
     "text": [
      "{\n",
      "      \"name\": \"cutie\",\n",
      "      \"age\": \"6 months\",\n",
      "      \"color\": \"gold\",\n",
      "      \"breed\": \"British\",\n",
      "      \"family\": {\n",
      "            \"dad\": \"bob\",\n",
      "            \"mom\": \"bin\",\n",
      "            \"sister\": \"nii\",\n",
      "            \"brother\": \"doo\"\n",
      "      }\n",
      "}\n"
     ]
    }
   ],
   "source": [
    "#turn a dict into a string:\n",
    "pet_str = json.dumps(pet,\n",
    "                     indent = 6 #specified the number for each line\n",
    "                    )\n",
    "\n",
    "print(pet_str)\n",
    "    "
   ]
  },
  {
   "cell_type": "code",
   "execution_count": 6,
   "id": "ccd7ef28-973f-4061-aeae-17af03a40352",
   "metadata": {},
   "outputs": [],
   "source": [
    "#create and open a new file:\n",
    "with open('pet1.json', 'w') as file:\n",
    "    file.write(pet_str)"
   ]
  },
  {
   "cell_type": "markdown",
   "id": "abff9ce9-9873-42ce-8a0c-2dd637eb6f27",
   "metadata": {},
   "source": [
    "#### `json.loads()` to turn a string into a dict:"
   ]
  },
  {
   "cell_type": "code",
   "execution_count": 8,
   "id": "81bf88cc-7aee-43dd-adb3-56c1f1d8bd48",
   "metadata": {},
   "outputs": [
    {
     "name": "stdout",
     "output_type": "stream",
     "text": [
      "{\n",
      "      \"name\": \"cutie\",\n",
      "      \"age\": \"6 months\",\n",
      "      \"color\": \"gold\",\n",
      "      \"breed\": \"British\",\n",
      "      \"family\": {\n",
      "            \"dad\": \"bob\",\n",
      "            \"mom\": \"bin\",\n",
      "            \"sister\": \"nii\",\n",
      "            \"brother\": \"doo\"\n",
      "      }\n",
      "}\n",
      "\n",
      "<class 'str'>\n"
     ]
    }
   ],
   "source": [
    "#str:\n",
    "string = '''{\n",
    "      \"name\": \"cutie\",\n",
    "      \"age\": \"6 months\",\n",
    "      \"color\": \"gold\",\n",
    "      \"breed\": \"British\",\n",
    "      \"family\": {\n",
    "            \"dad\": \"bob\",\n",
    "            \"mom\": \"bin\",\n",
    "            \"sister\": \"nii\",\n",
    "            \"brother\": \"doo\"\n",
    "      }\n",
    "}\n",
    "'''\n",
    "print(string)\n",
    "print(type(string))"
   ]
  },
  {
   "cell_type": "code",
   "execution_count": 9,
   "id": "13cb3d38-14f4-40be-b579-1130819c284c",
   "metadata": {},
   "outputs": [
    {
     "name": "stdout",
     "output_type": "stream",
     "text": [
      "{'name': 'cutie', 'age': '6 months', 'color': 'gold', 'breed': 'British', 'family': {'dad': 'bob', 'mom': 'bin', 'sister': 'nii', 'brother': 'doo'}}\n",
      "<class 'dict'>\n"
     ]
    }
   ],
   "source": [
    "dict1 = json.loads(string)\n",
    "print(dict1)\n",
    "print(type(dict1))"
   ]
  },
  {
   "cell_type": "code",
   "execution_count": 10,
   "id": "6a95b299-9e4c-4145-a9bf-ef5b638e3a23",
   "metadata": {},
   "outputs": [],
   "source": [
    "with open('pet2.json', 'w') as file:\n",
    "    json.dump(dict1, file)"
   ]
  },
  {
   "cell_type": "markdown",
   "id": "78333b5f-7db0-41b6-aa80-44644beb340e",
   "metadata": {},
   "source": [
    "### 4b.Deserialization:\n",
    "- The process of turning data from a file into an apt data structure or type to work with"
   ]
  },
  {
   "cell_type": "markdown",
   "id": "d05ee0cf-5301-494b-80bf-00081e6a23ff",
   "metadata": {},
   "source": [
    "#### `Using json.load()` to extract data from a json file:"
   ]
  },
  {
   "cell_type": "code",
   "execution_count": 11,
   "id": "691e0e6c-fc29-4d82-897a-b7773ff477c1",
   "metadata": {},
   "outputs": [
    {
     "name": "stdout",
     "output_type": "stream",
     "text": [
      "{'name': 'cutie', 'age': '6 months', 'color': 'gold', 'breed': 'British', 'family': {'dad': 'bob', 'mom': 'bin', 'sister': 'nii', 'brother': 'doo'}}\n",
      "<class 'dict'>\n"
     ]
    }
   ],
   "source": [
    "with open('pet2.json', 'r') as file:\n",
    "    json_object = json.load(file)\n",
    "    \n",
    "print(json_object)\n",
    "print(type(json_object))"
   ]
  },
  {
   "cell_type": "code",
   "execution_count": null,
   "id": "48601c43-3fd0-4fcf-96b0-7cf058b29af0",
   "metadata": {},
   "outputs": [],
   "source": []
  }
 ],
 "metadata": {
  "kernelspec": {
   "display_name": "Python 3 (ipykernel)",
   "language": "python",
   "name": "python3"
  },
  "language_info": {
   "codemirror_mode": {
    "name": "ipython",
    "version": 3
   },
   "file_extension": ".py",
   "mimetype": "text/x-python",
   "name": "python",
   "nbconvert_exporter": "python",
   "pygments_lexer": "ipython3",
   "version": "3.10.6"
  }
 },
 "nbformat": 4,
 "nbformat_minor": 5
}
